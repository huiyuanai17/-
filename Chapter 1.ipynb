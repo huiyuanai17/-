{
 "cells": [
  {
   "cell_type": "markdown",
   "id": "332e1009-d944-4e66-8b66-a8aebbd566ab",
   "metadata": {},
   "source": [
    "# 第一章 起步"
   ]
  },
  {
   "cell_type": "markdown",
   "id": "ec85d54e-fb07-4a7a-954d-c32f85eaf578",
   "metadata": {},
   "source": [
    "## 1.1 编程环境介绍"
   ]
  },
  {
   "cell_type": "markdown",
   "id": "25040023-ca5f-40f1-bf02-965336285e79",
   "metadata": {},
   "source": [
    "## 1.2 在各种操作系统中搭建Python编程环境"
   ]
  },
  {
   "cell_type": "code",
   "execution_count": 1,
   "id": "ee34c235",
   "metadata": {},
   "outputs": [
    {
     "name": "stdout",
     "output_type": "stream",
     "text": [
      "Hello Python World! \n"
     ]
    }
   ],
   "source": [
    "#1.2.2 在macOS系统中搭建Python编程环境\n",
    "print(\"Hello Python World! \")"
   ]
  },
  {
   "cell_type": "markdown",
   "id": "07661127-db55-4027-9097-6e833870068d",
   "metadata": {},
   "source": [
    "## 1.3 运行Hello World程序"
   ]
  },
  {
   "cell_type": "code",
   "execution_count": 1,
   "id": "6859d232",
   "metadata": {},
   "outputs": [
    {
     "name": "stdout",
     "output_type": "stream",
     "text": [
      "Hello Python World!\n"
     ]
    }
   ],
   "source": [
    "message=\"Hello Python World!\"\n",
    "print(message)"
   ]
  },
  {
   "cell_type": "code",
   "execution_count": 2,
   "id": "d9fae22f",
   "metadata": {},
   "outputs": [
    {
     "name": "stdout",
     "output_type": "stream",
     "text": [
      "Hello Python World!\n",
      "Hello Python Crash Course world\n"
     ]
    }
   ],
   "source": [
    "message=\"Hello Python World!\"\n",
    "print(message)\n",
    "\n",
    "message=\"Hello Python Crash Course world\"\n",
    "print(message)"
   ]
  },
  {
   "cell_type": "code",
   "execution_count": null,
   "id": "34d1fe45",
   "metadata": {},
   "outputs": [],
   "source": []
  }
 ],
 "metadata": {
  "kernelspec": {
   "display_name": "Python 3 (ipykernel)",
   "language": "python",
   "name": "python3"
  },
  "language_info": {
   "codemirror_mode": {
    "name": "ipython",
    "version": 3
   },
   "file_extension": ".py",
   "mimetype": "text/x-python",
   "name": "python",
   "nbconvert_exporter": "python",
   "pygments_lexer": "ipython3",
   "version": "3.11.7"
  }
 },
 "nbformat": 4,
 "nbformat_minor": 5
}
