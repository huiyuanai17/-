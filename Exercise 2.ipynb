{
 "cells": [
  {
   "cell_type": "code",
   "execution_count": 3,
   "id": "a47cd2b9-3691-4b87-9fc5-6ef0e24f2f7a",
   "metadata": {},
   "outputs": [
    {
     "name": "stdout",
     "output_type": "stream",
     "text": [
      "Hello Eric, would you like to learn some Python today?\n"
     ]
    }
   ],
   "source": [
    "#2.3\n",
    "name = \"Eric\"\n",
    "print(f\"Hello {name}, would you like to learn some Python today?\")\n"
   ]
  },
  {
   "cell_type": "code",
   "execution_count": 4,
   "id": "f6d28873-a864-4373-a129-76f086311a35",
   "metadata": {},
   "outputs": [
    {
     "name": "stdout",
     "output_type": "stream",
     "text": [
      "eric\n",
      "ERIC\n",
      "Eric\n"
     ]
    }
   ],
   "source": [
    "#2.4\n",
    "name = \"Eric\"\n",
    "print(name.lower())  \n",
    "print(name.upper())  \n",
    "print(name.title())  \n"
   ]
  },
  {
   "cell_type": "code",
   "execution_count": 5,
   "id": "1dd612d6-9ab2-42bc-94b1-9b5b72a0ffb0",
   "metadata": {},
   "outputs": [
    {
     "name": "stdout",
     "output_type": "stream",
     "text": [
      "Albert Einstein once said, \"A person who never made a mistake never tried anything new.\"\n"
     ]
    }
   ],
   "source": [
    "#2.5\n",
    "print('Albert Einstein once said, \"A person who never made a mistake never tried anything new.\"')\n"
   ]
  },
  {
   "cell_type": "code",
   "execution_count": 6,
   "id": "6e6fd496-0e49-46a1-8a5c-646374d6358f",
   "metadata": {},
   "outputs": [
    {
     "name": "stdout",
     "output_type": "stream",
     "text": [
      "Albert Einstein once said, \"A person who never made a mistake never tried anything new.\"\n"
     ]
    }
   ],
   "source": [
    "#2.6\n",
    "famous_person = \"Albert Einstein\"\n",
    "message = f'{famous_person} once said, \"A person who never made a mistake never tried anything new.\"'\n",
    "print(message)"
   ]
  },
  {
   "cell_type": "code",
   "execution_count": 7,
   "id": "81eb53f9-316e-4d39-aecc-bb8204a5b391",
   "metadata": {},
   "outputs": [
    {
     "name": "stdout",
     "output_type": "stream",
     "text": [
      "\tEric\n",
      "\n",
      "Eric\n",
      "\n",
      "\n",
      "Name with trailing whitespace removed:\n",
      "\tEric\n",
      "\n",
      "Name with all whitespace removed:\n",
      "Eric\n"
     ]
    }
   ],
   "source": [
    "#2.7\n",
    "name = \"\\tEric\\n\"\n",
    "print(name)\n",
    "print(name.lstrip())\n",
    "print(\"\\nName with trailing whitespace removed:\")\n",
    "print(name.rstrip())\n",
    "print(\"\\nName with all whitespace removed:\")\n",
    "print(name.strip())\n"
   ]
  },
  {
   "cell_type": "code",
   "execution_count": 8,
   "id": "3188b7e1-748e-43fd-afdb-54412ca7fb5f",
   "metadata": {},
   "outputs": [
    {
     "name": "stdout",
     "output_type": "stream",
     "text": [
      "python_notes\n"
     ]
    }
   ],
   "source": [
    "#2.8\n",
    "filename = 'python_notes.txt'\n",
    "filename_without_extension = filename.removesuffix('.txt')\n",
    "print(filename_without_extension)\n"
   ]
  },
  {
   "cell_type": "code",
   "execution_count": 1,
   "id": "e2469e4e-8c7d-4989-b309-5a6d6818d0f3",
   "metadata": {},
   "outputs": [
    {
     "name": "stdout",
     "output_type": "stream",
     "text": [
      "8\n",
      "8\n",
      "8\n",
      "8\n"
     ]
    }
   ],
   "source": [
    "#2.9\n",
    "print(5 + 3)    \n",
    "print(10 - 2)   \n",
    "print(4 * 2)    \n",
    "print(16 // 2)  \n"
   ]
  },
  {
   "cell_type": "code",
   "execution_count": 2,
   "id": "5eee5796-65b4-4698-a9b5-50d8db2d1412",
   "metadata": {},
   "outputs": [
    {
     "name": "stdout",
     "output_type": "stream",
     "text": [
      "My favorite number is 7.\n"
     ]
    }
   ],
   "source": [
    "#2.10\n",
    "favorite_number = 7\n",
    "message = f\"My favorite number is {favorite_number}.\"\n",
    "print(message)\n"
   ]
  },
  {
   "cell_type": "code",
   "execution_count": null,
   "id": "0a795483-510a-4f5f-9adb-fb55c526a4f5",
   "metadata": {},
   "outputs": [],
   "source": []
  }
 ],
 "metadata": {
  "kernelspec": {
   "display_name": "Python 3 (ipykernel)",
   "language": "python",
   "name": "python3"
  },
  "language_info": {
   "codemirror_mode": {
    "name": "ipython",
    "version": 3
   },
   "file_extension": ".py",
   "mimetype": "text/x-python",
   "name": "python",
   "nbconvert_exporter": "python",
   "pygments_lexer": "ipython3",
   "version": "3.11.7"
  }
 },
 "nbformat": 4,
 "nbformat_minor": 5
}
