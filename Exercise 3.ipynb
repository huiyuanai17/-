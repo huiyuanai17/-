{
 "cells": [
  {
   "cell_type": "code",
   "execution_count": 1,
   "id": "8b93afed-12dc-44c2-b1a1-71db77d8d715",
   "metadata": {},
   "outputs": [
    {
     "name": "stdout",
     "output_type": "stream",
     "text": [
      "Alice\n",
      "Bob\n",
      "Charlie\n",
      "Diana\n",
      "Hello, Alice! How are you doing today?\n",
      "Hello, Bob! How are you doing today?\n",
      "Hello, Charlie! How are you doing today?\n",
      "Hello, Diana! How are you doing today?\n",
      "I love traveling by bicycle. It's very relaxing.\n",
      "I love traveling by car. It's very relaxing.\n",
      "I love traveling by train. It's very relaxing.\n"
     ]
    }
   ],
   "source": [
    "# 练习 3.1 \n",
    "names = ['Alice', 'Bob', 'Charlie', 'Diana']\n",
    "for name in names:\n",
    "    print(name)\n",
    "    \n",
    "#练习 3.2\n",
    "names = ['Alice', 'Bob', 'Charlie', 'Diana']\n",
    "for name in names:\n",
    "    print(f\"Hello, {name}! How are you doing today?\")\n",
    "\n",
    "\n",
    "#练习 3.3 \n",
    "commutes = ['bicycle', 'car', 'train']\n",
    "for commute in commutes:\n",
    "    print(f\"I love traveling by {commute}. It's very relaxing.\")"
   ]
  },
  {
   "cell_type": "code",
   "execution_count": 2,
   "id": "f8e0be2b-2cd4-4466-84b1-2a5380e791ee",
   "metadata": {},
   "outputs": [
    {
     "name": "stdout",
     "output_type": "stream",
     "text": [
      "['Kyoto', 'New Zealand', 'Iceland', 'Paris', 'Maldives']\n",
      "['Iceland', 'Kyoto', 'Maldives', 'New Zealand', 'Paris']\n",
      "['Kyoto', 'New Zealand', 'Iceland', 'Paris', 'Maldives']\n",
      "['Paris', 'New Zealand', 'Maldives', 'Kyoto', 'Iceland']\n",
      "['Kyoto', 'New Zealand', 'Iceland', 'Paris', 'Maldives']\n",
      "['Maldives', 'Paris', 'Iceland', 'New Zealand', 'Kyoto']\n",
      "['Kyoto', 'New Zealand', 'Iceland', 'Paris', 'Maldives']\n",
      "['Iceland', 'Kyoto', 'Maldives', 'New Zealand', 'Paris']\n",
      "['Paris', 'New Zealand', 'Maldives', 'Kyoto', 'Iceland']\n"
     ]
    }
   ],
   "source": [
    "#3.8\n",
    "travel_destinations = ['Kyoto', 'New Zealand', 'Iceland', 'Paris', 'Maldives']\n",
    "print(travel_destinations)\n",
    "print(sorted(travel_destinations))\n",
    "print(travel_destinations)\n",
    "print(sorted(travel_destinations, reverse=True))\n",
    "print(travel_destinations)\n",
    "travel_destinations.reverse()\n",
    "print(travel_destinations)\n",
    "travel_destinations.reverse()\n",
    "print(travel_destinations)\n",
    "travel_destinations.sort()\n",
    "print(travel_destinations)\n",
    "travel_destinations.sort(reverse=True)\n",
    "print(travel_destinations)"
   ]
  },
  {
   "cell_type": "code",
   "execution_count": 3,
   "id": "164b3cbf-e5cd-44dd-b3ff-90085be698e1",
   "metadata": {},
   "outputs": [
    {
     "name": "stdout",
     "output_type": "stream",
     "text": [
      "I have invited 4 guests to the dinner.\n"
     ]
    }
   ],
   "source": [
    "#3.9\n",
    "dinner_guests = ['Alice', 'Bob', 'Charlie', 'Diana']\n",
    "number_of_guests = len(dinner_guests)\n",
    "print(f\"I have invited {number_of_guests} guests to the dinner.\")"
   ]
  },
  {
   "cell_type": "code",
   "execution_count": null,
   "id": "242d3b77-4636-4047-add8-8524baebf77e",
   "metadata": {},
   "outputs": [],
   "source": []
  }
 ],
 "metadata": {
  "kernelspec": {
   "display_name": "Python 3 (ipykernel)",
   "language": "python",
   "name": "python3"
  },
  "language_info": {
   "codemirror_mode": {
    "name": "ipython",
    "version": 3
   },
   "file_extension": ".py",
   "mimetype": "text/x-python",
   "name": "python",
   "nbconvert_exporter": "python",
   "pygments_lexer": "ipython3",
   "version": "3.11.7"
  }
 },
 "nbformat": 4,
 "nbformat_minor": 5
}
