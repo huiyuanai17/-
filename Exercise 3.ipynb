{
 "cells": [
  {
   "cell_type": "code",
   "execution_count": 1,
   "id": "8b93afed-12dc-44c2-b1a1-71db77d8d715",
   "metadata": {},
   "outputs": [
    {
     "name": "stdout",
     "output_type": "stream",
     "text": [
      "Alice\n",
      "Bob\n",
      "Charlie\n",
      "Diana\n",
      "Hello, Alice! How are you doing today?\n",
      "Hello, Bob! How are you doing today?\n",
      "Hello, Charlie! How are you doing today?\n",
      "Hello, Diana! How are you doing today?\n",
      "I love traveling by bicycle. It's very relaxing.\n",
      "I love traveling by car. It's very relaxing.\n",
      "I love traveling by train. It's very relaxing.\n"
     ]
    }
   ],
   "source": [
    "# 练习 3.1 \n",
    "names = ['Alice', 'Bob', 'Charlie', 'Diana']\n",
    "for name in names:\n",
    "    print(name)\n",
    "    \n",
    "#练习 3.2\n",
    "names = ['Alice', 'Bob', 'Charlie', 'Diana']\n",
    "for name in names:\n",
    "    print(f\"Hello, {name}! How are you doing today?\")\n",
    "\n",
    "\n",
    "#练习 3.3 \n",
    "commutes = ['bicycle', 'car', 'train']\n",
    "for commute in commutes:\n",
    "    print(f\"I love traveling by {commute}. It's very relaxing.\")"
   ]
  },
  {
   "cell_type": "code",
   "execution_count": 1,
   "id": "242d3b77-4636-4047-add8-8524baebf77e",
   "metadata": {},
   "outputs": [
    {
     "name": "stdout",
     "output_type": "stream",
     "text": [
      "Albert Einstein, I would be pleased to have dinner with you.\n",
      "Marie Curie, I would be pleased to have dinner with you.\n",
      "Isaac Newton, I would be pleased to have dinner with you.\n",
      "\n",
      "Unfortunately, Isaac Newton can't make it to the dinner.\n",
      "Albert Einstein, I would be pleased to have dinner with you.\n",
      "Marie Curie, I would be pleased to have dinner with you.\n",
      "Isaac Newton, I would be pleased to have dinner with you.\n",
      "Great news! I found a bigger dinner table, so we can invite more guests!\n",
      "Leonardo da Vinci, I would be pleased to have dinner with you.\n",
      "Albert Einstein, I would be pleased to have dinner with you.\n",
      "Ada Lovelace, I would be pleased to have dinner with you.\n",
      "Marie Curie, I would be pleased to have dinner with you.\n",
      "Nicola Tesla, I would be pleased to have dinner with you.\n",
      "Charles Darwin, I would be pleased to have dinner with you.\n"
     ]
    }
   ],
   "source": [
    "#3.4\n",
    "guests = ['Albert Einstein', 'Marie Curie', 'Isaac Newton']\n",
    "for guest in guests:\n",
    "    print(f\"{guest}, I would be pleased to have dinner with you.\")\n",
    "#3.5\n",
    "print(f\"\\nUnfortunately, {guests[-1]} can't make it to the dinner.\")\n",
    "for guest in guests:\n",
    "    print(f\"{guest}, I would be pleased to have dinner with you.\")\n",
    "#3.6\n",
    "guests = ['Albert Einstein', 'Marie Curie', 'Nicola Tesla']\n",
    "print(\"Great news! I found a bigger dinner table, so we can invite more guests!\")\n",
    "guests.insert(0, 'Leonardo da Vinci')\n",
    "middle_index = len(guests) // 2\n",
    "guests.insert(middle_index, 'Ada Lovelace')\n",
    "guests.append('Charles Darwin')\n",
    "for guest in guests:\n",
    "    print(f\"{guest}, I would be pleased to have dinner with you.\")\n"
   ]
  },
  {
   "cell_type": "code",
   "execution_count": 2,
   "id": "7d696af9-7232-4bd7-89ea-04d58e524da2",
   "metadata": {},
   "outputs": [
    {
     "name": "stdout",
     "output_type": "stream",
     "text": [
      "I'm sorry to inform that the dinner table won't arrive in time, and I can only invite two guests.\n",
      "I'm really sorry, Charles Darwin. I cannot invite you to dinner.\n",
      "I'm really sorry, Nicola Tesla. I cannot invite you to dinner.\n",
      "I'm really sorry, Marie Curie. I cannot invite you to dinner.\n",
      "I'm really sorry, Ada Lovelace. I cannot invite you to dinner.\n",
      "Leonardo da Vinci, you are still invited to the dinner.\n",
      "Albert Einstein, you are still invited to the dinner.\n",
      "[]\n"
     ]
    }
   ],
   "source": [
    "#3.7\n",
    "guests = ['Leonardo da Vinci', 'Albert Einstein', 'Ada Lovelace', 'Marie Curie', 'Nicola Tesla', 'Charles Darwin']\n",
    "print(\"I'm sorry to inform that the dinner table won't arrive in time, and I can only invite two guests.\")\n",
    "while len(guests) > 2:\n",
    "    removed_guest = guests.pop()\n",
    "    print(f\"I'm really sorry, {removed_guest}. I cannot invite you to dinner.\")\n",
    "for guest in guests:\n",
    "    print(f\"{guest}, you are still invited to the dinner.\")\n",
    "del guests[1]\n",
    "del guests[0]\n",
    "print(guests)\n"
   ]
  },
  {
   "cell_type": "code",
   "execution_count": 2,
   "id": "f8e0be2b-2cd4-4466-84b1-2a5380e791ee",
   "metadata": {},
   "outputs": [
    {
     "name": "stdout",
     "output_type": "stream",
     "text": [
      "['Kyoto', 'New Zealand', 'Iceland', 'Paris', 'Maldives']\n",
      "['Iceland', 'Kyoto', 'Maldives', 'New Zealand', 'Paris']\n",
      "['Kyoto', 'New Zealand', 'Iceland', 'Paris', 'Maldives']\n",
      "['Paris', 'New Zealand', 'Maldives', 'Kyoto', 'Iceland']\n",
      "['Kyoto', 'New Zealand', 'Iceland', 'Paris', 'Maldives']\n",
      "['Maldives', 'Paris', 'Iceland', 'New Zealand', 'Kyoto']\n",
      "['Kyoto', 'New Zealand', 'Iceland', 'Paris', 'Maldives']\n",
      "['Iceland', 'Kyoto', 'Maldives', 'New Zealand', 'Paris']\n",
      "['Paris', 'New Zealand', 'Maldives', 'Kyoto', 'Iceland']\n"
     ]
    }
   ],
   "source": [
    "#3.8\n",
    "travel_destinations = ['Kyoto', 'New Zealand', 'Iceland', 'Paris', 'Maldives']\n",
    "print(travel_destinations)\n",
    "print(sorted(travel_destinations))\n",
    "print(travel_destinations)\n",
    "print(sorted(travel_destinations, reverse=True))\n",
    "print(travel_destinations)\n",
    "travel_destinations.reverse()\n",
    "print(travel_destinations)\n",
    "travel_destinations.reverse()\n",
    "print(travel_destinations)\n",
    "travel_destinations.sort()\n",
    "print(travel_destinations)\n",
    "travel_destinations.sort(reverse=True)\n",
    "print(travel_destinations)"
   ]
  },
  {
   "cell_type": "code",
   "execution_count": 3,
   "id": "164b3cbf-e5cd-44dd-b3ff-90085be698e1",
   "metadata": {},
   "outputs": [
    {
     "name": "stdout",
     "output_type": "stream",
     "text": [
      "I have invited 4 guests to the dinner.\n"
     ]
    }
   ],
   "source": [
    "#3.9\n",
    "dinner_guests = ['Alice', 'Bob', 'Charlie', 'Diana']\n",
    "number_of_guests = len(dinner_guests)\n",
    "print(f\"I have invited {number_of_guests} guests to the dinner.\")"
   ]
  },
  {
   "cell_type": "code",
   "execution_count": null,
   "id": "d9aef546-a4ab-4608-a7a2-37d80f93fbbc",
   "metadata": {},
   "outputs": [],
   "source": []
  }
 ],
 "metadata": {
  "kernelspec": {
   "display_name": "Python 3 (ipykernel)",
   "language": "python",
   "name": "python3"
  },
  "language_info": {
   "codemirror_mode": {
    "name": "ipython",
    "version": 3
   },
   "file_extension": ".py",
   "mimetype": "text/x-python",
   "name": "python",
   "nbconvert_exporter": "python",
   "pygments_lexer": "ipython3",
   "version": "3.11.7"
  }
 },
 "nbformat": 4,
 "nbformat_minor": 5
}
