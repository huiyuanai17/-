{
 "cells": [
  {
   "cell_type": "markdown",
   "id": "d9824903-84fb-4c5a-a8e2-badab6987b20",
   "metadata": {},
   "source": [
    "# 第十一章 测试函数"
   ]
  },
  {
   "cell_type": "markdown",
   "id": "f250600a-e82f-44a4-9e46-1ffcd9f35b3e",
   "metadata": {},
   "source": [
    "## 11.1 使用pip安装pytest"
   ]
  },
  {
   "cell_type": "markdown",
   "id": "bfa2474a-caf6-4b81-8502-61646413a33d",
   "metadata": {},
   "source": [
    "## 11.2 测试函数"
   ]
  },
  {
   "cell_type": "code",
   "execution_count": 9,
   "id": "06a25dc9-dd24-4c4e-b665-4b9f3b037db4",
   "metadata": {},
   "outputs": [
    {
     "name": "stdout",
     "output_type": "stream",
     "text": [
      "Enter 'q' at any time to quit.\n"
     ]
    },
    {
     "name": "stdin",
     "output_type": "stream",
     "text": [
      "\n",
      "Please give me a first name:  高\n",
      "Please give me a last name:  磊\n"
     ]
    },
    {
     "name": "stdout",
     "output_type": "stream",
     "text": [
      "\tNeatly formatted name: 高 磊.\n"
     ]
    },
    {
     "name": "stdin",
     "output_type": "stream",
     "text": [
      "\n",
      "Please give me a first name:  q\n"
     ]
    }
   ],
   "source": [
    "def get_formatted_name(first, last):\n",
    "    \"\"\"生成格式规范的姓名\"\"\"\n",
    "    full_name = f\"{first} {last}\"\n",
    "    return full_name.title()\n",
    "\n",
    "print(\"Enter 'q' at any time to quit.\")\n",
    "while True:\n",
    "    first = input(\"\\nPlease give me a first name: \")\n",
    "    if first == 'q':\n",
    "        break\n",
    "    last = input(\"Please give me a last name: \")\n",
    "    if last == 'q':\n",
    "        break\n",
    "\n",
    "    formatted_name = get_formatted_name(first, last)\n",
    "    print(f\"\\tNeatly formatted name: {formatted_name}.\")"
   ]
  },
  {
   "cell_type": "code",
   "execution_count": 11,
   "id": "ae178b6b-697e-414b-a218-c7d69068d43c",
   "metadata": {},
   "outputs": [],
   "source": [
    "#从上述输出可知，合并得到的姓名正确无误。现在假设要修改get_formatted_name()，使其还能够处理中间名。在添加这项功能时，要确保不破坏这个函数处理只有名和姓的姓名的方式。为此，可在每次修改 get_formatted_name() 后都进行测试：运行程序 names.py，并输入像 Janis Joplin 这样的姓名。不过这太烦琐了。所幸 pytest 提供了一种自动测试函数输出的高效方式。\n",
    "#11.2.1 单元测试和测试用例\n",
    "#11.2.2 可通过的测试\n",
    "def get_formatted_name(first, last):\n",
    "    \"\"\"生成格式规范的姓名\"\"\"\n",
    "    full_name = f\"{first} {last}\"\n",
    "    return full_name.title()\n",
    "\n",
    "def test_first_last_name():\n",
    "    \"\"\"能够正确地处理像 Janis Joplin 这样的姓名吗？\"\"\"\n",
    "    formatted_name = get_formatted_name('janis', 'joplin')\n",
    "    assert formatted_name == 'Janis Joplin'"
   ]
  },
  {
   "cell_type": "code",
   "execution_count": 12,
   "id": "69b84f80-d072-4a77-a6ba-0ab17c5f5fad",
   "metadata": {},
   "outputs": [],
   "source": [
    "#11.2.3 运行测试\n",
    "#11.2.4 未通过的测试\n",
    "#11.2.5在测试未通过时怎么办\n",
    "def get_formatted_name(first, last, middle=''):\n",
    "    \"\"\"生成格式规范的姓名\"\"\"\n",
    "    if middle:\n",
    "        full_name = f\"{first} {middle} {last}\"\n",
    "    else:\n",
    "        full_name = f\"{first} {last}\"\n",
    "    return full_name.title()"
   ]
  },
  {
   "cell_type": "code",
   "execution_count": 15,
   "id": "aa1a09f7-7205-491e-ab26-835d480155dd",
   "metadata": {},
   "outputs": [],
   "source": [
    "#11.2.6 添加新测试\n",
    "def get_formatted_name(first, last):\n",
    "    \"\"\"生成格式规范的姓名\"\"\"\n",
    "    full_name = f\"{first} {last}\"\n",
    "    return full_name.title()\n",
    "\n",
    "def test_first_last_name():\n",
    "    \"\"\"能够正确地处理像 Janis Joplin 这样的姓名吗？\"\"\"\n",
    "    formatted_name = get_formatted_name('janis', 'joplin')\n",
    "    assert formatted_name == 'Janis Joplin'\n",
    "\n",
    "def test_first_last_middle_name():\n",
    "    \"\"\"能够正确地处理像 Wolfgang Amadeus Mozart 这样的姓名吗？\"\"\"\n",
    "    formatted_name = get_formatted_name(\n",
    "          'wolfgang', 'mozart', 'amadeus')\n",
    "    assert formatted_name == 'Wolfgang Amadeus Mozart'"
   ]
  },
  {
   "cell_type": "markdown",
   "id": "59418d8b-b3dc-485d-a686-94ce394844ce",
   "metadata": {},
   "source": [
    "## 动手试一试"
   ]
  },
  {
   "cell_type": "code",
   "execution_count": 17,
   "id": "e5af19d8-91f9-48d6-a290-dfbf48b07a14",
   "metadata": {},
   "outputs": [],
   "source": [
    "#练习11.1：城市和国家\n",
    "def get_city_country(city, country):\n",
    "    return f\"{city}, {country}\"\n",
    "import pytest\n",
    "\n",
    "def test_city_country():\n",
    "    formatted_name = get_city_country('santiago', 'chile')\n",
    "    assert formatted_name == 'santiago, chile'\n"
   ]
  },
  {
   "cell_type": "code",
   "execution_count": 18,
   "id": "a545c93d-8803-4947-a6fb-46e2bcaf3299",
   "metadata": {},
   "outputs": [],
   "source": [
    "#练习11.2:人口数量\n",
    "def get_city_country(city, country, population):\n",
    "    return f\"{city}, {country} - population {population}\"\n",
    "import pytest\n",
    "\n",
    "\n",
    "def test_city_country():\n",
    "    formatted_name = get_city_country('santiago', 'chile')\n",
    "    assert formatted_name == 'santiago, chile'\n"
   ]
  },
  {
   "cell_type": "markdown",
   "id": "cf944b68-a154-454e-8cab-8dc8df69b928",
   "metadata": {},
   "source": [
    "## 11.3 测试类"
   ]
  },
  {
   "cell_type": "code",
   "execution_count": 21,
   "id": "dae4b550-c447-4d43-b52d-86123665b5a9",
   "metadata": {},
   "outputs": [],
   "source": [
    "#11.3.1 各种断言\n",
    "#11.3.2 一个要测试的类\n",
    "class AnonymousSurvey:\n",
    "    \"\"\"收集匿名调查问卷的答案\"\"\"\n",
    "\n",
    "    def __init__(self, question):\n",
    "        \"\"\"存储一个问题，并为存储答案做准备\"\"\"\n",
    "        self.question = question\n",
    "        self.responses = []\n",
    "\n",
    "    def show_question(self):\n",
    "        \"\"\"显示调查问卷\"\"\"\n",
    "        print(self.question)\n",
    "\n",
    "    def store_response(self, new_response):\n",
    "        \"\"\"存储单份调查答卷\"\"\"\n",
    "        self.responses.append(new_response)\n",
    "\n",
    "    def show_results(self):\n",
    "        \"\"\"显示收集到的所有答卷\"\"\"\n",
    "        print(\"Survey results:\")\n",
    "        for response in self.responses:\n",
    "            print(f\"- {response}\")"
   ]
  },
  {
   "cell_type": "code",
   "execution_count": 23,
   "id": "434ad666-1c81-4caa-9bdf-83d5cb88c596",
   "metadata": {},
   "outputs": [
    {
     "name": "stdout",
     "output_type": "stream",
     "text": [
      "What language did you first learn to speak?\n",
      "Enter 'q' at any time to quit.\n",
      "\n"
     ]
    },
    {
     "name": "stdin",
     "output_type": "stream",
     "text": [
      "Language:  q\n"
     ]
    },
    {
     "name": "stdout",
     "output_type": "stream",
     "text": [
      "\n",
      "Thank you to everyone who participated in the survey!\n",
      "Survey results:\n"
     ]
    }
   ],
   "source": [
    "\n",
    "\n",
    "# 定义一个问题，并创建一个表示调查的 AnonymousSurvey 对象\n",
    "question = \"What language did you first learn to speak?\"\n",
    "language_survey = AnonymousSurvey(question)\n",
    "\n",
    "# 显示问题并存储答案\n",
    "language_survey.show_question()\n",
    "print(\"Enter 'q' at any time to quit.\\n\")\n",
    "while True:\n",
    "    response = input(\"Language: \")\n",
    "    if response == 'q':\n",
    "        break\n",
    "    language_survey.store_response(response)\n",
    "\n",
    "# 显示调查结果\n",
    "print(\"\\nThank you to everyone who participated in the survey!\")\n",
    "language_survey.show_results()"
   ]
  },
  {
   "cell_type": "code",
   "execution_count": 24,
   "id": "97ee873b-c1cd-4065-a571-be827cd3867e",
   "metadata": {},
   "outputs": [
    {
     "ename": "ModuleNotFoundError",
     "evalue": "No module named 'survey'",
     "output_type": "error",
     "traceback": [
      "\u001b[0;31m---------------------------------------------------------------------------\u001b[0m",
      "\u001b[0;31mModuleNotFoundError\u001b[0m                       Traceback (most recent call last)",
      "Cell \u001b[0;32mIn[24], line 2\u001b[0m\n\u001b[1;32m      1\u001b[0m \u001b[38;5;66;03m#11.3.3　测试 AnonymousSurvey 类\u001b[39;00m\n\u001b[0;32m----> 2\u001b[0m \u001b[38;5;28;01mfrom\u001b[39;00m \u001b[38;5;21;01msurvey\u001b[39;00m \u001b[38;5;28;01mimport\u001b[39;00m AnonymousSurvey\n\u001b[1;32m      4\u001b[0m \u001b[38;5;28;01mdef\u001b[39;00m \u001b[38;5;21mtest_store_single_response\u001b[39m():\n\u001b[1;32m      5\u001b[0m \u001b[38;5;250m    \u001b[39m\u001b[38;5;124;03m\"\"\"测试单个答案会被妥善地存储\"\"\"\u001b[39;00m\n",
      "\u001b[0;31mModuleNotFoundError\u001b[0m: No module named 'survey'"
     ]
    }
   ],
   "source": [
    "#11.3.3　测试 AnonymousSurvey 类\n",
    "from survey import AnonymousSurvey\n",
    "\n",
    "def test_store_single_response():\n",
    "    \"\"\"测试单个答案会被妥善地存储\"\"\"\n",
    "    question = \"What language did you first learn to speak?\"\n",
    "    language_survey = AnonymousSurvey(question)\n",
    "    language_survey.store_response('English')\n",
    "    assert 'English' in language_survey.responses"
   ]
  },
  {
   "cell_type": "code",
   "execution_count": 32,
   "id": "58928514-abf5-44b6-ac05-88c82cc19ab2",
   "metadata": {},
   "outputs": [],
   "source": [
    "\n",
    "def test_store_single_response():\n",
    "    \"\"\"测试单个答案会被妥善地存储\"\"\"\n",
    "    question = \"What language did you first learn to speak?\"\n",
    "    language_survey = AnonymousSurvey(question)\n",
    "    language_survey.store_response('English')\n",
    "    assert 'English' in language_survey.responses\n",
    "def test_store_three_responses():\n",
    "    \"\"\"测试三个答案会被妥善地存储\"\"\"\n",
    "    question = \"What language did you first learn to speak?\"\n",
    "    language_survey = AnonymousSurvey(question)\n",
    "    responses = ['English', 'Spanish', 'Mandarin']\n",
    "    for response in responses:\n",
    "        language_survey.store_response(response)\n",
    "\n",
    "    for response in responses:\n",
    "        assert response in language_survey.responses"
   ]
  },
  {
   "cell_type": "code",
   "execution_count": 35,
   "id": "9ae5bf12-d5b2-43ca-9d21-52f1e930a1c7",
   "metadata": {},
   "outputs": [
    {
     "ename": "IndentationError",
     "evalue": "expected an indented block after 'for' statement on line 19 (1156367227.py, line 20)",
     "output_type": "error",
     "traceback": [
      "\u001b[0;36m  Cell \u001b[0;32mIn[35], line 20\u001b[0;36m\u001b[0m\n\u001b[0;31m    language_survey.store_response(response)\u001b[0m\n\u001b[0m    ^\u001b[0m\n\u001b[0;31mIndentationError\u001b[0m\u001b[0;31m:\u001b[0m expected an indented block after 'for' statement on line 19\n"
     ]
    }
   ],
   "source": [
    "import pytest\n",
    "from survey import AnonymousSurvey\n",
    "\n",
    "pytest.fixture\n",
    "def language_survey():\n",
    "      \"\"\"一个可供所有测试函数使用的 AnonymousSurvey 实例\"\"\"\n",
    "      question = \"What language did you first learn to speak?\"\n",
    "      language_survey = AnonymousSurvey(question)\n",
    "      return language_survey\n",
    "\n",
    "def test_store_single_response(language_survey):\n",
    "    \"\"\"测试单个答案会被妥善地存储\"\"\"\n",
    "    language_survey.store_response('English')\n",
    "    assert 'English' in language_survey.responses\n",
    "\n",
    "def test_store_three_responses(language_survey):\n",
    "    \"\"\"测试三个答案会被妥善地存储\"\"\"\n",
    "    responses = ['English', 'Spanish', 'Mandarin']\n",
    "    for response in responses:\n",
    "    language_survey.store_response(response)\n",
    "\n",
    "    for response in responses:\n",
    "    assert response in language_survey.responses"
   ]
  },
  {
   "cell_type": "code",
   "execution_count": 2,
   "id": "727b2067-c818-4568-90d2-e5c26f883796",
   "metadata": {},
   "outputs": [
    {
     "ename": "IndentationError",
     "evalue": "expected an indented block after 'for' statement on line 20 (795237040.py, line 21)",
     "output_type": "error",
     "traceback": [
      "\u001b[0;36m  Cell \u001b[0;32mIn[2], line 21\u001b[0;36m\u001b[0m\n\u001b[0;31m    language_survey.store_response(response)\u001b[0m\n\u001b[0m    ^\u001b[0m\n\u001b[0;31mIndentationError\u001b[0m\u001b[0;31m:\u001b[0m expected an indented block after 'for' statement on line 20\n"
     ]
    }
   ],
   "source": [
    "#11.3.4 使用夹具\n",
    "import pytest\n",
    "from survey import AnonymousSurvey\n",
    "\n",
    "pytest.fixture\n",
    "def language_survey():\n",
    "    \"\"\"一个可供所有测试函数使用的 AnonymousSurvey 实例\"\"\"\n",
    "    question = \"What language did you first learn to speak?\"\n",
    "    language_survey = AnonymousSurvey(question)\n",
    "    return language_survey\n",
    "\n",
    "def test_store_single_response(language_survey):\n",
    "    \"\"\"测试单个答案会被妥善地存储\"\"\"\n",
    "    language_survey.store_response('English')\n",
    "    assert 'English' in language_survey.responses\n",
    "\n",
    "def test_store_three_responses(language_survey):\n",
    "    \"\"\"测试三个答案会被妥善地存储\"\"\"\n",
    "    responses = ['English', 'Spanish', 'Mandarin']\n",
    "    for response in responses:\n",
    "    language_survey.store_response(response)\n",
    "\n",
    "    for response in responses:\n",
    "    assert response in language_survey.responses"
   ]
  },
  {
   "cell_type": "markdown",
   "id": "259a866b-3a98-490f-ae7e-40cdd5123c81",
   "metadata": {},
   "source": [
    "# 动手试一试"
   ]
  },
  {
   "cell_type": "code",
   "execution_count": 5,
   "id": "0e204bfa-8f98-4007-9031-33ea475670d0",
   "metadata": {},
   "outputs": [
    {
     "name": "stderr",
     "output_type": "stream",
     "text": [
      "E\n",
      "======================================================================\n",
      "ERROR: /Users/gongyezhibao/Library/Jupyter/runtime/kernel-60ce8e9e-6d40-40c7-b053-ccffff615417 (unittest.loader._FailedTest./Users/gongyezhibao/Library/Jupyter/runtime/kernel-60ce8e9e-6d40-40c7-b053-ccffff615417)\n",
      "----------------------------------------------------------------------\n",
      "AttributeError: module '__main__' has no attribute '/Users/gongyezhibao/Library/Jupyter/runtime/kernel-60ce8e9e-6d40-40c7-b053-ccffff615417'\n",
      "\n",
      "----------------------------------------------------------------------\n",
      "Ran 1 test in 0.001s\n",
      "\n",
      "FAILED (errors=1)\n"
     ]
    },
    {
     "ename": "SystemExit",
     "evalue": "True",
     "output_type": "error",
     "traceback": [
      "An exception has occurred, use %tb to see the full traceback.\n",
      "\u001b[0;31mSystemExit\u001b[0m\u001b[0;31m:\u001b[0m True\n"
     ]
    },
    {
     "name": "stderr",
     "output_type": "stream",
     "text": [
      "/opt/anaconda3/lib/python3.11/site-packages/IPython/core/interactiveshell.py:3561: UserWarning: To exit: use 'exit', 'quit', or Ctrl-D.\n",
      "  warn(\"To exit: use 'exit', 'quit', or Ctrl-D.\", stacklevel=1)\n"
     ]
    }
   ],
   "source": [
    "#11.3 雇员\n",
    "class Employee:\n",
    "    def __init__(self, first_name, last_name, salary):\n",
    "        self.first_name = first_name\n",
    "        self.last_name = last_name\n",
    "        self.salary = salary\n",
    "\n",
    "    def give_raise(self, amount=5000):\n",
    "        self.salary += amount\n",
    "import unittest\n",
    "\n",
    "class TestEmployee(unittest.TestCase):\n",
    "    def test_give_default_raise(self):\n",
    "        emp = Employee(\"John\", \"Doe\", 60000)\n",
    "        emp.give_raise()\n",
    "        self.assertEqual(emp.salary, 65000)\n",
    "\n",
    "    def test_give_custom_raise(self):\n",
    "        emp = Employee(\"Jane\", \"Smith\", 70000)\n",
    "        emp.give_raise(10000)\n",
    "        self.assertEqual(emp.salary, 80000)\n",
    "\n",
    "if __name__ == \"__main__\":\n",
    "    unittest.main()\n",
    "import unittest\n",
    "\n",
    "class TestEmployee(unittest.TestCase):\n",
    "    def setUp(self):\n",
    "        self.emp = Employee(\"John\", \"Doe\", 60000)\n",
    "\n",
    "    def test_give_default_raise(self):\n",
    "        self.emp.give_raise()\n",
    "        self.assertEqual(self.emp.salary, 65000)\n",
    "\n",
    "    def test_give_custom_raise(self):\n",
    "        self.emp.give_raise(10000)\n",
    "        self.assertEqual(self.emp.salary, 70000)\n",
    "\n",
    "if __name__ == \"__main__\":\n",
    "    unittest.main()\n",
    "\n",
    "\n"
   ]
  },
  {
   "cell_type": "code",
   "execution_count": 6,
   "id": "292609bf-339a-49cd-abcd-a663ab14e0bb",
   "metadata": {},
   "outputs": [
    {
     "name": "stderr",
     "output_type": "stream",
     "text": [
      "E\n",
      "======================================================================\n",
      "ERROR: /Users/gongyezhibao/Library/Jupyter/runtime/kernel-60ce8e9e-6d40-40c7-b053-ccffff615417 (unittest.loader._FailedTest./Users/gongyezhibao/Library/Jupyter/runtime/kernel-60ce8e9e-6d40-40c7-b053-ccffff615417)\n",
      "----------------------------------------------------------------------\n",
      "AttributeError: module '__main__' has no attribute '/Users/gongyezhibao/Library/Jupyter/runtime/kernel-60ce8e9e-6d40-40c7-b053-ccffff615417'\n",
      "\n",
      "----------------------------------------------------------------------\n",
      "Ran 1 test in 0.001s\n",
      "\n",
      "FAILED (errors=1)\n"
     ]
    },
    {
     "ename": "SystemExit",
     "evalue": "True",
     "output_type": "error",
     "traceback": [
      "An exception has occurred, use %tb to see the full traceback.\n",
      "\u001b[0;31mSystemExit\u001b[0m\u001b[0;31m:\u001b[0m True\n"
     ]
    },
    {
     "name": "stderr",
     "output_type": "stream",
     "text": [
      "/opt/anaconda3/lib/python3.11/site-packages/IPython/core/interactiveshell.py:3561: UserWarning: To exit: use 'exit', 'quit', or Ctrl-D.\n",
      "  warn(\"To exit: use 'exit', 'quit', or Ctrl-D.\", stacklevel=1)\n"
     ]
    }
   ],
   "source": [
    "import unittest\n",
    "\n",
    "class TestEmployee(unittest.TestCase):\n",
    "    def setUp(self):\n",
    "        self.emp = Employee(\"John\", \"Doe\", 60000)\n",
    "\n",
    "    def test_give_default_raise(self):\n",
    "        self.emp.give_raise()\n",
    "        self.assertEqual(self.emp.salary, 65000)\n",
    "\n",
    "    def test_give_custom_raise(self):\n",
    "        self.emp.give_raise(10000)\n",
    "        self.assertEqual(self.emp.salary, 70000)\n",
    "\n",
    "if __name__ == \"__main__\":\n",
    "    unittest.main()\n"
   ]
  },
  {
   "cell_type": "code",
   "execution_count": null,
   "id": "f6018e86-54f4-4ddf-81c4-9efe52f42609",
   "metadata": {},
   "outputs": [],
   "source": []
  }
 ],
 "metadata": {
  "kernelspec": {
   "display_name": "Python 3 (ipykernel)",
   "language": "python",
   "name": "python3"
  },
  "language_info": {
   "codemirror_mode": {
    "name": "ipython",
    "version": 3
   },
   "file_extension": ".py",
   "mimetype": "text/x-python",
   "name": "python",
   "nbconvert_exporter": "python",
   "pygments_lexer": "ipython3",
   "version": "3.11.7"
  }
 },
 "nbformat": 4,
 "nbformat_minor": 5
}
