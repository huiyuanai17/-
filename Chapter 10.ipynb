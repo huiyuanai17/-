{
 "cells": [
  {
   "cell_type": "markdown",
   "id": "cc1b8b8a-82f7-400b-bc0f-0dc161057081",
   "metadata": {},
   "source": [
    "# 第十章 文件和异常"
   ]
  },
  {
   "cell_type": "markdown",
   "id": "2b70ee42-7c84-4979-ab97-3edce1ccae29",
   "metadata": {},
   "source": [
    "## 10.1 读取文件"
   ]
  },
  {
   "cell_type": "code",
   "execution_count": 1,
   "id": "e9b38ce9-3607-4642-ae97-07b346bf46ac",
   "metadata": {},
   "outputs": [
    {
     "name": "stdout",
     "output_type": "stream",
     "text": [
      "3.1415926535\n",
      "  8979323846\n",
      "  2643383279\n"
     ]
    }
   ],
   "source": [
    "#10.1.1　读取文件的全部内容\n",
    "from pathlib import Path\n",
    "\n",
    "path = Path('pi_digits.txt')\n",
    "contents = path.read_text()\n",
    "print(contents)"
   ]
  },
  {
   "cell_type": "code",
   "execution_count": 2,
   "id": "28b5d8ac-4704-4909-ac85-7dd231ed42ba",
   "metadata": {},
   "outputs": [
    {
     "name": "stdout",
     "output_type": "stream",
     "text": [
      "3.1415926535\n",
      "  8979323846\n",
      "  2643383279\n"
     ]
    }
   ],
   "source": [
    "from pathlib import Path\n",
    "\n",
    "path = Path('pi_digits.txt')\n",
    "contents = path.read_text()\n",
    "contents = contents.rstrip()\n",
    "print(contents)"
   ]
  },
  {
   "cell_type": "code",
   "execution_count": null,
   "id": "d1ba46bb-9351-4f7f-881f-2a7bd93c6a64",
   "metadata": {},
   "outputs": [],
   "source": [
    "#10.1.2　相对文件路径和绝对文件路径\n",
    "#相对文件路径让Python 到相对于当前运行的程序所在目录的指定位置去查找\n",
    "path = Path('text_files/filename.txt')\n",
    "#绝对路径通常比相对路径长，因为它们以系统的根文件夹为起点：\n",
    "path = Path('/home/eric/data_files/text_files/filename.txt')"
   ]
  },
  {
   "cell_type": "code",
   "execution_count": 3,
   "id": "a03d7a4f-c000-4a87-a86a-74a040347264",
   "metadata": {},
   "outputs": [
    {
     "name": "stdout",
     "output_type": "stream",
     "text": [
      "3.1415926535\n",
      "  8979323846\n",
      "  2643383279\n"
     ]
    }
   ],
   "source": [
    "#10.1.3　访问文件中的各行\n",
    "from pathlib import Path\n",
    "\n",
    "path = Path('pi_digits.txt')\n",
    "contents = path.read_text()\n",
    "\n",
    "lines = contents.splitlines()\n",
    "for line in lines:\n",
    "    print(line)"
   ]
  },
  {
   "cell_type": "code",
   "execution_count": 4,
   "id": "acfa16fb-64ea-4b33-b781-8a9a7a5b503c",
   "metadata": {},
   "outputs": [
    {
     "name": "stdout",
     "output_type": "stream",
     "text": [
      "3.1415926535  8979323846  2643383279\n",
      "36\n"
     ]
    }
   ],
   "source": [
    "#10.1.4　使用文件的内容\n",
    "from pathlib import Path\n",
    "\n",
    "path = Path('pi_digits.txt')\n",
    "contents = path.read_text()\n",
    "\n",
    "lines = contents.splitlines()\n",
    "pi_string = ''\n",
    "for line in lines:\n",
    "      pi_string += line\n",
    "\n",
    "print(pi_string)\n",
    "print(len(pi_string))"
   ]
  },
  {
   "cell_type": "code",
   "execution_count": 6,
   "id": "48e8b5c5-4b11-4b92-90da-91b170224627",
   "metadata": {},
   "outputs": [
    {
     "name": "stdout",
     "output_type": "stream",
     "text": [
      "3.141592653589793238462643383279\n",
      "32\n"
     ]
    }
   ],
   "source": [
    "#变量 pi_string 存储的字符串包含原来位于每行左端的空格。要删除这些空格，可对每行调用 lstrip()：\n",
    "from pathlib import Path\n",
    "\n",
    "path = Path('pi_digits.txt')\n",
    "contents = path.read_text()\n",
    "\n",
    "lines = contents.splitlines()\n",
    "pi_string = ''\n",
    "for line in lines:\n",
    "    pi_string += line.lstrip()\n",
    "\n",
    "print(pi_string)\n",
    "print(len(pi_string))"
   ]
  },
  {
   "cell_type": "code",
   "execution_count": 9,
   "id": "890f520c-ffcb-41a3-ba14-8331b09b8bc5",
   "metadata": {},
   "outputs": [
    {
     "name": "stdout",
     "output_type": "stream",
     "text": [
      "3.14159265358979323846264338327950288419716939937510...\n",
      "1000002\n"
     ]
    }
   ],
   "source": [
    "#10.1.5　包含 100 万位的大型文件\n",
    "from pathlib import Path\n",
    "\n",
    "path = Path('pi_million_digits.txt')\n",
    "contents = path.read_text()\n",
    "\n",
    "lines = contents.splitlines()\n",
    "pi_string = ''\n",
    "for line in lines:\n",
    "    pi_string += line.lstrip()\n",
    "\n",
    "print(f\"{pi_string[:52]}...\")\n",
    "print(len(pi_string))"
   ]
  },
  {
   "cell_type": "code",
   "execution_count": 10,
   "id": "155b340c-0429-4b2f-9bd8-101eac82ea0f",
   "metadata": {},
   "outputs": [
    {
     "name": "stdin",
     "output_type": "stream",
     "text": [
      "Enter your birthday, in the form mmddyy:  0208\n"
     ]
    },
    {
     "name": "stdout",
     "output_type": "stream",
     "text": [
      "Your birthday appears in the first million digits of pi!\n"
     ]
    }
   ],
   "source": [
    "#10.1.6　圆周率值中包含你的生日吗\n",
    "from pathlib import Path\n",
    "\n",
    "path = Path('pi_million_digits.txt')\n",
    "contents = path.read_text()\n",
    "\n",
    "lines = contents.splitlines()\n",
    "pi_string = ''\n",
    "for line in lines:\n",
    "    pi_string += line.strip()\n",
    "\n",
    "birthday = input(\"Enter your birthday, in the form mmddyy: \")\n",
    "if birthday in pi_string:\n",
    "    print(\"Your birthday appears in the first million digits of pi!\")\n",
    "else:\n",
    "    print(\"Your birthday does not appear in the first million digits of pi.\")\n"
   ]
  },
  {
   "cell_type": "markdown",
   "id": "7975bc95-302f-4680-b850-f46104fb69ca",
   "metadata": {},
   "source": [
    "## 动手试一试"
   ]
  },
  {
   "cell_type": "code",
   "execution_count": 11,
   "id": "7b26e377-d3fe-4c30-b067-de42677b5926",
   "metadata": {},
   "outputs": [
    {
     "name": "stdout",
     "output_type": "stream",
     "text": [
      "In Python you can write programs using a clean and readable syntax.\n",
      "In Python you can easily work with strings, numbers, lists, and dictionaries.\n",
      "In Python you can use functions and modules to organize your code.\n",
      "In Python you can handle errors with try-except blocks.\n",
      "In Python you can read and write files, as well as manipulate data.\n",
      "\n",
      "In Python you can write programs using a clean and readable syntax.\n",
      "In Python you can easily work with strings, numbers, lists, and dictionaries.\n",
      "In Python you can use functions and modules to organize your code.\n",
      "In Python you can handle errors with try-except blocks.\n",
      "In Python you can read and write files, as well as manipulate data.\n"
     ]
    }
   ],
   "source": [
    "#练习10.1\n",
    "#编写一个程序，读取这个文件，并将你所写的内容打印两次：第一次打印时读取整个文件；第二次打印时先将所有行都存储在一个列表中，再遍历列表中的各行。\n",
    "filename = 'learning_python.txt'\n",
    "\n",
    "# 第一次打印读取整个文件\n",
    "with open(filename) as file:\n",
    "    contents = file.read()\n",
    "    print(contents)\n",
    "\n",
    "# 第二次打印将每行存储在列表中，并遍历列表\n",
    "with open(filename) as file:\n",
    "    lines = file.readlines()\n",
    "\n",
    "for line in lines:\n",
    "    print(line.rstrip())\n",
    "\n"
   ]
  },
  {
   "cell_type": "code",
   "execution_count": 12,
   "id": "79df3d98-3251-4995-bd93-83f3458afaa2",
   "metadata": {},
   "outputs": [
    {
     "name": "stdout",
     "output_type": "stream",
     "text": [
      "In C you can write programs using a clean and readable syntax.\n",
      "In C you can easily work with strings, numbers, lists, and dictionaries.\n",
      "In C you can use functions and modules to organize your code.\n",
      "In C you can handle errors with try-except blocks.\n",
      "In C you can read and write files, as well as manipulate data.\n"
     ]
    }
   ],
   "source": [
    "filename = 'learning_python.txt'\n",
    "\n",
    "with open(filename) as file:\n",
    "    lines = file.readlines()\n",
    "\n",
    "for line in lines:\n",
    "    new_line = line.replace('Python', 'C')\n",
    "    print(new_line.rstrip())\n"
   ]
  },
  {
   "cell_type": "code",
   "execution_count": null,
   "id": "3896de96-b71a-4167-a677-575e9562b720",
   "metadata": {},
   "outputs": [],
   "source": [
    "#练习10.3 简化代码\n",
    "for line in contents.splitlines():"
   ]
  },
  {
   "cell_type": "markdown",
   "id": "053c09e0-4ec8-4a69-bb3a-a0d35088157c",
   "metadata": {},
   "source": [
    "## 10.2 写入文件"
   ]
  },
  {
   "cell_type": "code",
   "execution_count": 13,
   "id": "8324c902-c7e8-42f0-89ad-370440e91d7e",
   "metadata": {},
   "outputs": [
    {
     "data": {
      "text/plain": [
       "19"
      ]
     },
     "execution_count": 13,
     "metadata": {},
     "output_type": "execute_result"
    }
   ],
   "source": [
    "#10.2.1 写入一行\n",
    "from pathlib import Path\n",
    "\n",
    "path = Path('programming.txt')\n",
    "path.write_text(\"I love programming.\")"
   ]
  },
  {
   "cell_type": "code",
   "execution_count": 14,
   "id": "489bba06-9b03-4291-9732-1d25b28d3223",
   "metadata": {},
   "outputs": [
    {
     "data": {
      "text/plain": [
       "78"
      ]
     },
     "execution_count": 14,
     "metadata": {},
     "output_type": "execute_result"
    }
   ],
   "source": [
    "#10.2.2　写入多行\n",
    "from pathlib import Path\n",
    "\n",
    "contents = \"I love programming.\\n\"\n",
    "contents += \"I love creating new games.\\n\"\n",
    "contents += \"I also love working with data.\\n\"\n",
    "\n",
    "path = Path('programming.txt')\n",
    "path.write_text(contents)"
   ]
  },
  {
   "cell_type": "markdown",
   "id": "e246bb99-7511-4b42-bc2c-a2753c567c72",
   "metadata": {},
   "source": [
    "## 动手试一试"
   ]
  },
  {
   "cell_type": "code",
   "execution_count": 15,
   "id": "58625ce6-5697-472f-a9cc-b5e6142c0143",
   "metadata": {},
   "outputs": [
    {
     "name": "stdin",
     "output_type": "stream",
     "text": [
      "请输入您的名字:  高磊\n"
     ]
    }
   ],
   "source": [
    "#练习10.4 访客\n",
    "filename = 'guest.txt'\n",
    "\n",
    "name = input(\"请输入您的名字: \")\n",
    "\n",
    "with open(filename, 'w') as file:\n",
    "    file.write(name)\n"
   ]
  },
  {
   "cell_type": "code",
   "execution_count": 16,
   "id": "a20ba769-8aff-4b57-9b05-abd7d4642556",
   "metadata": {},
   "outputs": [
    {
     "name": "stdin",
     "output_type": "stream",
     "text": [
      "请输入您的名字(输入'q'退出):  q\n"
     ]
    }
   ],
   "source": [
    "#练习10.5 \n",
    "filename = 'guest_book.txt'\n",
    "\n",
    "while True:\n",
    "    name = input(\"请输入您的名字(输入'q'退出): \")\n",
    "    if name == 'q':\n",
    "        break\n",
    "    with open(filename, 'a') as file:\n",
    "        file.write(name + \"\\n\")\n"
   ]
  },
  {
   "cell_type": "markdown",
   "id": "09670699-6606-42ac-a23a-fbcdc37100e0",
   "metadata": {},
   "source": [
    "## 10.3 异常"
   ]
  },
  {
   "cell_type": "code",
   "execution_count": 17,
   "id": "54225fba-7318-42a3-a8cd-958748e481f5",
   "metadata": {},
   "outputs": [
    {
     "name": "stdout",
     "output_type": "stream",
     "text": [
      "You can't divide by zero!\n"
     ]
    }
   ],
   "source": [
    "#10.3.1　处理 ZeroDivisionError 异常\n",
    "#10.3.2　使用 try-except 代码块\n",
    "try:\n",
    "    print(5/0)\n",
    "except ZeroDivisionError:\n",
    "    print(\"You can't divide by zero!\")"
   ]
  },
  {
   "cell_type": "code",
   "execution_count": 18,
   "id": "3ee83999-e3c6-402b-9e37-9847d2d656f4",
   "metadata": {},
   "outputs": [
    {
     "name": "stdout",
     "output_type": "stream",
     "text": [
      "Give me two numbers, and I'll divide them.\n",
      "Enter 'q' to quit.\n"
     ]
    },
    {
     "name": "stdin",
     "output_type": "stream",
     "text": [
      "\n",
      "First number:  q\n"
     ]
    }
   ],
   "source": [
    "#10.3.3　使用异常避免崩溃\n",
    "print(\"Give me two numbers, and I'll divide them.\")\n",
    "print(\"Enter 'q' to quit.\")\n",
    "\n",
    "while True:\n",
    "    first_number = input(\"\\nFirst number: \")\n",
    "    if first_number == 'q':\n",
    "        break\n",
    "    second_number = input(\"Second number: \")\n",
    "    if second_number == 'q':\n",
    "        break\n",
    "    answer = int(first_number) / int(second_number)\n",
    "    print(answer)"
   ]
  },
  {
   "cell_type": "code",
   "execution_count": 21,
   "id": "885b251e-7677-4be5-8765-af6b64fc3f95",
   "metadata": {},
   "outputs": [
    {
     "name": "stdout",
     "output_type": "stream",
     "text": [
      "Give me two numbers, and I'll divide them.\n",
      "Enter 'q' to quit.\n"
     ]
    },
    {
     "name": "stdin",
     "output_type": "stream",
     "text": [
      "\n",
      "First number:  7\n",
      "Second number:  9\n"
     ]
    },
    {
     "name": "stdout",
     "output_type": "stream",
     "text": [
      "0.7777777777777778\n"
     ]
    },
    {
     "name": "stdin",
     "output_type": "stream",
     "text": [
      "\n",
      "First number:  q\n"
     ]
    }
   ],
   "source": [
    "#10.3.4　else 代码块\n",
    "print(\"Give me two numbers, and I'll divide them.\")\n",
    "print(\"Enter 'q' to quit.\")\n",
    "\n",
    "while True:\n",
    "    first_number = input(\"\\nFirst number: \")\n",
    "    if first_number == 'q':\n",
    "        break\n",
    "    second_number = input(\"Second number: \")\n",
    "    if second_number == 'q':\n",
    "        break\n",
    "    try:\n",
    "        answer = int(first_number) / int(second_number)\n",
    "    except ZeroDivisionError:\n",
    "          print(\"You can't divide by 0!\")\n",
    "    else:\n",
    "          print(answer)"
   ]
  },
  {
   "cell_type": "code",
   "execution_count": 22,
   "id": "ff8fb4bd-dab0-436f-b9c1-0da5185d3e2c",
   "metadata": {},
   "outputs": [
    {
     "ename": "FileNotFoundError",
     "evalue": "[Errno 2] No such file or directory: 'alice.txt'",
     "output_type": "error",
     "traceback": [
      "\u001b[0;31m---------------------------------------------------------------------------\u001b[0m",
      "\u001b[0;31mFileNotFoundError\u001b[0m                         Traceback (most recent call last)",
      "Cell \u001b[0;32mIn[22], line 5\u001b[0m\n\u001b[1;32m      2\u001b[0m \u001b[38;5;28;01mfrom\u001b[39;00m \u001b[38;5;21;01mpathlib\u001b[39;00m \u001b[38;5;28;01mimport\u001b[39;00m Path\n\u001b[1;32m      4\u001b[0m path \u001b[38;5;241m=\u001b[39m Path(\u001b[38;5;124m'\u001b[39m\u001b[38;5;124malice.txt\u001b[39m\u001b[38;5;124m'\u001b[39m)\n\u001b[0;32m----> 5\u001b[0m contents \u001b[38;5;241m=\u001b[39m path\u001b[38;5;241m.\u001b[39mread_text(encoding\u001b[38;5;241m=\u001b[39m\u001b[38;5;124m'\u001b[39m\u001b[38;5;124mutf-8\u001b[39m\u001b[38;5;124m'\u001b[39m)\n",
      "File \u001b[0;32m/opt/anaconda3/lib/python3.11/pathlib.py:1058\u001b[0m, in \u001b[0;36mPath.read_text\u001b[0;34m(self, encoding, errors)\u001b[0m\n\u001b[1;32m   1054\u001b[0m \u001b[38;5;250m\u001b[39m\u001b[38;5;124;03m\"\"\"\u001b[39;00m\n\u001b[1;32m   1055\u001b[0m \u001b[38;5;124;03mOpen the file in text mode, read it, and close the file.\u001b[39;00m\n\u001b[1;32m   1056\u001b[0m \u001b[38;5;124;03m\"\"\"\u001b[39;00m\n\u001b[1;32m   1057\u001b[0m encoding \u001b[38;5;241m=\u001b[39m io\u001b[38;5;241m.\u001b[39mtext_encoding(encoding)\n\u001b[0;32m-> 1058\u001b[0m \u001b[38;5;28;01mwith\u001b[39;00m \u001b[38;5;28mself\u001b[39m\u001b[38;5;241m.\u001b[39mopen(mode\u001b[38;5;241m=\u001b[39m\u001b[38;5;124m'\u001b[39m\u001b[38;5;124mr\u001b[39m\u001b[38;5;124m'\u001b[39m, encoding\u001b[38;5;241m=\u001b[39mencoding, errors\u001b[38;5;241m=\u001b[39merrors) \u001b[38;5;28;01mas\u001b[39;00m f:\n\u001b[1;32m   1059\u001b[0m     \u001b[38;5;28;01mreturn\u001b[39;00m f\u001b[38;5;241m.\u001b[39mread()\n",
      "File \u001b[0;32m/opt/anaconda3/lib/python3.11/pathlib.py:1044\u001b[0m, in \u001b[0;36mPath.open\u001b[0;34m(self, mode, buffering, encoding, errors, newline)\u001b[0m\n\u001b[1;32m   1042\u001b[0m \u001b[38;5;28;01mif\u001b[39;00m \u001b[38;5;124m\"\u001b[39m\u001b[38;5;124mb\u001b[39m\u001b[38;5;124m\"\u001b[39m \u001b[38;5;129;01mnot\u001b[39;00m \u001b[38;5;129;01min\u001b[39;00m mode:\n\u001b[1;32m   1043\u001b[0m     encoding \u001b[38;5;241m=\u001b[39m io\u001b[38;5;241m.\u001b[39mtext_encoding(encoding)\n\u001b[0;32m-> 1044\u001b[0m \u001b[38;5;28;01mreturn\u001b[39;00m io\u001b[38;5;241m.\u001b[39mopen(\u001b[38;5;28mself\u001b[39m, mode, buffering, encoding, errors, newline)\n",
      "\u001b[0;31mFileNotFoundError\u001b[0m: [Errno 2] No such file or directory: 'alice.txt'"
     ]
    }
   ],
   "source": [
    "#10.3.5　处理 FileNotFoundError 异常\n",
    "from pathlib import Path\n",
    "\n",
    "path = Path('alice.txt')\n",
    "contents = path.read_text(encoding='utf-8')"
   ]
  },
  {
   "cell_type": "code",
   "execution_count": 23,
   "id": "35af4938-60a3-4173-8f56-8ed8d59be858",
   "metadata": {},
   "outputs": [
    {
     "name": "stdout",
     "output_type": "stream",
     "text": [
      "Sorry, the file alice.txt does not exist.\n"
     ]
    }
   ],
   "source": [
    "from pathlib import Path\n",
    "\n",
    "path = Path('alice.txt')\n",
    "try:\n",
    "    contents = path.read_text(encoding='utf-8')\n",
    "except FileNotFoundError:\n",
    "    print(f\"Sorry, the file {path} does not exist.\")"
   ]
  },
  {
   "cell_type": "code",
   "execution_count": 24,
   "id": "f2fcb784-8560-4b17-a29a-0a43a85c9814",
   "metadata": {},
   "outputs": [
    {
     "name": "stdout",
     "output_type": "stream",
     "text": [
      "Sorry, the file alice.txt does not exist.\n"
     ]
    }
   ],
   "source": [
    "#10.3.6　分析文本\n",
    "from pathlib import Path\n",
    "\n",
    "path = Path('alice.txt')\n",
    "try:\n",
    "    contents = path.read_text(encoding='utf-8')\n",
    "except FileNotFoundError:\n",
    "      print(f\"Sorry, the file {path} does not exist.\")\n",
    "else:\n",
    "    #计算文件大致包含多少个单词\n",
    "    words = contents.split()\n",
    "    num_words = len(words)\n",
    "    print(f\"The file {path} has about {num_words} words.\")"
   ]
  },
  {
   "cell_type": "code",
   "execution_count": 25,
   "id": "7af76a65-fca2-40a4-a802-ba18146e9e0b",
   "metadata": {},
   "outputs": [
    {
     "name": "stdout",
     "output_type": "stream",
     "text": [
      "Sorry, the file alice.txt does not exist.\n"
     ]
    }
   ],
   "source": [
    "#10.3.7　使用多个文件\n",
    "from pathlib import Path\n",
    "\n",
    "def count_words(path):\n",
    "    \"\"\"计算一个文件大致包含多少个单词\"\"\"\n",
    "try:\n",
    "    contents = path.read_text(encoding='utf-8')\n",
    "except FileNotFoundError:\n",
    "    print(f\"Sorry, the file {path} does not exist.\")\n",
    "else:\n",
    "    # 计算文件大致包含多少个单词\n",
    "    words = contents.split()\n",
    "    num_words = len(words)\n",
    "    print(f\"The file {path} has about {num_words} words.\")\n",
    "    \n",
    "path = Path('alice.txt')\n",
    "count_words(path)"
   ]
  },
  {
   "cell_type": "code",
   "execution_count": 27,
   "id": "55ee5091-331e-40bc-b426-bf4fe44a7e12",
   "metadata": {},
   "outputs": [
    {
     "ename": "IndentationError",
     "evalue": "expected an indented block after function definition on line 2 (4176592641.py, line 3)",
     "output_type": "error",
     "traceback": [
      "\u001b[0;36m  Cell \u001b[0;32mIn[27], line 3\u001b[0;36m\u001b[0m\n\u001b[0;31m    filenames = ['alice.txt', 'siddhartha.txt', 'moby_dick.txt',\u001b[0m\n\u001b[0m    ^\u001b[0m\n\u001b[0;31mIndentationError\u001b[0m\u001b[0;31m:\u001b[0m expected an indented block after function definition on line 2\n"
     ]
    }
   ],
   "source": [
    "from pathlib import Path\n",
    "def count_words(filename):\n",
    "filenames = ['alice.txt', 'siddhartha.txt', 'moby_dick.txt', \n",
    "          'little_women.txt']\n",
    "for filename in filenames:\n",
    "    path = Path(filename)\n",
    "    count_words(path)"
   ]
  },
  {
   "cell_type": "code",
   "execution_count": null,
   "id": "31c01ae7-e222-4098-a5d5-e174daea3d96",
   "metadata": {},
   "outputs": [],
   "source": [
    "#10.3.8　静默失败\n",
    "def count_words(path):\n",
    "    \"\"\"计算一个文件大致包含多少个单词\"\"\"\n",
    "    try:\n",
    "        --snip--\n",
    "    except FileNotFoundError:\n",
    "        pass\n",
    "    else:\n",
    "        --snip--"
   ]
  },
  {
   "cell_type": "markdown",
   "id": "2a5bca19-984c-4d3b-9a34-0f18ce0e5234",
   "metadata": {},
   "source": [
    "## 动手试一试"
   ]
  },
  {
   "cell_type": "code",
   "execution_count": 28,
   "id": "ca1f1c54-656c-4846-be13-f2d34b6728cc",
   "metadata": {},
   "outputs": [
    {
     "name": "stdin",
     "output_type": "stream",
     "text": [
      "请输入第一个数:  2\n",
      "请输入第二个数:  3\n"
     ]
    },
    {
     "name": "stdout",
     "output_type": "stream",
     "text": [
      "两个数的和为: 5\n"
     ]
    }
   ],
   "source": [
    "#练习10.6 \n",
    "try:\n",
    "    num1 = int(input(\"请输入第一个数: \"))\n",
    "    num2 = int(input(\"请输入第二个数: \"))\n",
    "\n",
    "    result = num1 + num2\n",
    "    print(\"两个数的和为:\", result)\n",
    "\n",
    "except ValueError:\n",
    "    print(\"输入的值不是有效的数值，请重新输入。\")\n"
   ]
  },
  {
   "cell_type": "code",
   "execution_count": 29,
   "id": "d19d226c-292f-45b1-9aa0-b13be737fda9",
   "metadata": {},
   "outputs": [
    {
     "name": "stdin",
     "output_type": "stream",
     "text": [
      "请输入第一个数:  2\n",
      "请输入第二个数:  5\n"
     ]
    },
    {
     "name": "stdout",
     "output_type": "stream",
     "text": [
      "两个数的和为: 7\n"
     ]
    }
   ],
   "source": [
    "#练习10，7\n",
    "while True:\n",
    "    try:\n",
    "        num1 = int(input(\"请输入第一个数: \"))\n",
    "        num2 = int(input(\"请输入第二个数: \"))\n",
    "\n",
    "        result = num1 + num2\n",
    "        print(\"两个数的和为:\", result)\n",
    "        break\n",
    "\n",
    "    except ValueError:\n",
    "        print(\"输入的值不是有效的数值，请重新输入。\")\n"
   ]
  },
  {
   "cell_type": "code",
   "execution_count": 30,
   "id": "7a454c75-9261-4466-9fe7-3e373c6c91e5",
   "metadata": {},
   "outputs": [
    {
     "name": "stdout",
     "output_type": "stream",
     "text": [
      "文件cats.txt不存在。\n",
      "文件dogs.txt不存在。\n"
     ]
    }
   ],
   "source": [
    "#练习10.8\n",
    "filenames = ['cats.txt', 'dogs.txt']\n",
    "\n",
    "for filename in filenames:\n",
    "    try:\n",
    "        with open(filename) as file:\n",
    "            contents = file.read()\n",
    "            print(f\"{filename}的内容:\\n{contents}\")\n",
    "\n",
    "    except FileNotFoundError:\n",
    "        print(f\"文件{filename}不存在。\")\n"
   ]
  },
  {
   "cell_type": "code",
   "execution_count": 31,
   "id": "23fe2a59-62d5-485d-9c76-fd7e7e0bcdce",
   "metadata": {},
   "outputs": [],
   "source": [
    "#练习10.9\n",
    "filenames = ['cats.txt', 'dogs.txt']\n",
    "\n",
    "for filename in filenames:\n",
    "    try:\n",
    "        with open(filename) as file:\n",
    "            contents = file.read()\n",
    "            print(f\"{filename}的内容:\\n{contents}\")\n",
    "\n",
    "    except FileNotFoundError:\n",
    "        pass\n"
   ]
  },
  {
   "cell_type": "code",
   "execution_count": 32,
   "id": "d9bef7f0-243d-4a89-820b-b82b5f8b1e5c",
   "metadata": {},
   "outputs": [
    {
     "name": "stdout",
     "output_type": "stream",
     "text": [
      "文件 'book1.txt' 不存在。\n",
      "文件 'book2.txt' 不存在。\n",
      "文件 'book3.txt' 不存在。\n"
     ]
    }
   ],
   "source": [
    "#练习10.10\n",
    "def count_word_occurrences(filename, word):\n",
    "    try:\n",
    "        with open(filename) as file:\n",
    "            contents = file.read()\n",
    "            occurrences = contents.lower().count(word)\n",
    "            print(f\"单词 '{word}' 在文件 '{filename}' 中出现了 {occurrences} 次。\")\n",
    "\n",
    "    except FileNotFoundError:\n",
    "        print(f\"文件 '{filename}' 不存在。\")\n",
    "\n",
    "\n",
    "filenames = ['book1.txt', 'book2.txt', 'book3.txt']\n",
    "word = 'the'\n",
    "\n",
    "for filename in filenames:\n",
    "    count_word_occurrences(filename, word)\n"
   ]
  },
  {
   "cell_type": "markdown",
   "id": "bd8cc82a-32f3-440a-a210-75748e5abe7e",
   "metadata": {},
   "source": [
    "## 10.4　存储数据"
   ]
  },
  {
   "cell_type": "code",
   "execution_count": 33,
   "id": "0210b0b6-3a2e-4587-aec7-7ac50cc206d4",
   "metadata": {},
   "outputs": [
    {
     "data": {
      "text/plain": [
       "20"
      ]
     },
     "execution_count": 33,
     "metadata": {},
     "output_type": "execute_result"
    }
   ],
   "source": [
    "#10.4.1　使用 json.dumps() 和 json.loads()\n",
    "#使用json.dumps() 来存储这组数\n",
    "from pathlib import Path\n",
    "import json\n",
    "\n",
    "numbers = [2, 3, 5, 7, 11, 13]\n",
    "\n",
    "path = Path('numbers.json')\n",
    "contents = json.dumps(numbers)\n",
    "path.write_text(contents)"
   ]
  },
  {
   "cell_type": "code",
   "execution_count": 34,
   "id": "7188a93a-7bf8-4aaa-92e4-bd6f673e0c08",
   "metadata": {},
   "outputs": [
    {
     "name": "stdout",
     "output_type": "stream",
     "text": [
      "[2, 3, 5, 7, 11, 13]\n"
     ]
    }
   ],
   "source": [
    "#使用 json.loads() 将这个列表读取到内存中：\n",
    "from pathlib import Path\n",
    "import json\n",
    "\n",
    "path = Path('numbers.json')\n",
    "contents = path.read_text()\n",
    "numbers = json.loads(contents)\n",
    "print(numbers)"
   ]
  },
  {
   "cell_type": "code",
   "execution_count": 35,
   "id": "5b0046fe-00dc-4ef4-a8d8-0054eb19da9f",
   "metadata": {},
   "outputs": [
    {
     "name": "stdin",
     "output_type": "stream",
     "text": [
      "What is your name?  高磊\n"
     ]
    },
    {
     "name": "stdout",
     "output_type": "stream",
     "text": [
      "We'll remember you when you come back, 高磊!\n"
     ]
    }
   ],
   "source": [
    "#10.4.2 保存和读取用户生成的数据\n",
    "from pathlib import Path\n",
    "import json\n",
    "\n",
    "username = input(\"What is your name? \")\n",
    "\n",
    "path = Path('username.json')\n",
    "contents = json.dumps(username)\n",
    "path.write_text(contents)\n",
    "\n",
    "print(f\"We'll remember you when you come back, {username}!\")"
   ]
  },
  {
   "cell_type": "code",
   "execution_count": 36,
   "id": "dafafc41-53e0-4f8a-a8a9-bf316c8f3be9",
   "metadata": {},
   "outputs": [
    {
     "name": "stdout",
     "output_type": "stream",
     "text": [
      "Welcome back, 高磊!\n"
     ]
    }
   ],
   "source": [
    "from pathlib import Path\n",
    "import json\n",
    "\n",
    "path = Path('username.json')\n",
    "contents = path.read_text()\n",
    "username = json.loads(contents)\n",
    "\n",
    "print(f\"Welcome back, {username}!\")"
   ]
  },
  {
   "cell_type": "code",
   "execution_count": 37,
   "id": "3ecd40b0-b047-4cda-85fd-79e19425c291",
   "metadata": {},
   "outputs": [
    {
     "name": "stdout",
     "output_type": "stream",
     "text": [
      "Welcome back, 高磊!\n",
      "We'll remember you when you come back, 高磊!\n"
     ]
    }
   ],
   "source": [
    "from pathlib import Path\n",
    "import json\n",
    "\n",
    "path = Path('username.json')\n",
    "if path.exists():\n",
    "    contents = path.read_text()\n",
    "    username = json.loads(contents)\n",
    "    print(f\"Welcome back, {username}!\")\n",
    "else:\n",
    "    username = input(\"What is your name? \")\n",
    "    contents = json.dumps(username)\n",
    "    path.write_text(contents)\n",
    "print(f\"We'll remember you when you come back, {username}!\")"
   ]
  },
  {
   "cell_type": "code",
   "execution_count": 38,
   "id": "736734fb-3e06-497e-b11c-29e350c60411",
   "metadata": {},
   "outputs": [
    {
     "name": "stdout",
     "output_type": "stream",
     "text": [
      "Welcome back, 高磊!\n"
     ]
    }
   ],
   "source": [
    "#10.4.3　重构\n",
    "from pathlib import Path\n",
    "import json\n",
    "\n",
    "def greet_user():\n",
    "    \"\"\"问候用户，并指出其名字\"\"\"\n",
    "    path = Path('username.json')\n",
    "    if path.exists():\n",
    "        contents = path.read_text()\n",
    "        username = json.loads(contents)\n",
    "        print(f\"Welcome back, {username}!\")\n",
    "    else:\n",
    "        username = input(\"What is your name? \")\n",
    "        contents = json.dumps(username)\n",
    "        path.write_text(contents)\n",
    "        print(f\"We'll remember you when you come back, {username}!\")\n",
    "\n",
    "greet_user()"
   ]
  },
  {
   "cell_type": "code",
   "execution_count": 42,
   "id": "87cd6a4a-40e6-484b-b0a4-a5ca4bd150c0",
   "metadata": {},
   "outputs": [
    {
     "name": "stdout",
     "output_type": "stream",
     "text": [
      "Welcome back, 高磊!\n"
     ]
    },
    {
     "name": "stdin",
     "output_type": "stream",
     "text": [
      "What is your name?  hihi\n"
     ]
    },
    {
     "name": "stdout",
     "output_type": "stream",
     "text": [
      "We'll remember you when you come back, hihi!\n"
     ]
    }
   ],
   "source": [
    "from pathlib import Path\n",
    "import json\n",
    "\n",
    "def get_stored_username(path):\n",
    "        \"\"\"如果存储了用户名，就获取它\"\"\"\n",
    "        if path.exists():\n",
    "            contents = path.read_text()\n",
    "            username = json.loads(contents)\n",
    "        print(f\"Welcome back, {username}!\")\n",
    "def get_new_username(path):\n",
    "    \"\"\"提示用户输入用户名\"\"\"\n",
    "    username = input(\"What is your name? \")\n",
    "    contents = json.dumps(username)\n",
    "    path.write_text(contents)\n",
    "    return username\n",
    "\n",
    "def greet_user():\n",
    "    \"\"\"问候用户，并指出其名字\"\"\"\n",
    "    path = Path('username.json')\n",
    "    username = get_stored_username(path)\n",
    "    if username:\n",
    "        print(f\"Welcome back, {username}!\")\n",
    "    else:\n",
    "        username = get_new_username(path)\n",
    "        print(f\"We'll remember you when you come back, {username}!\")\n",
    "\n",
    "greet_user()"
   ]
  },
  {
   "cell_type": "markdown",
   "id": "d7975c44-af14-4f65-9744-d503f152ecc2",
   "metadata": {},
   "source": [
    "## 动手试一试"
   ]
  },
  {
   "cell_type": "code",
   "execution_count": 43,
   "id": "7787c970-882f-44ba-ae05-bb9779225d19",
   "metadata": {},
   "outputs": [
    {
     "name": "stdin",
     "output_type": "stream",
     "text": [
      "请输入您喜欢的数:  ff\n"
     ]
    },
    {
     "name": "stdout",
     "output_type": "stream",
     "text": [
      "您的喜欢的数已存储在文件中。\n"
     ]
    }
   ],
   "source": [
    "#10.11 \n",
    "import json\n",
    "\n",
    "filename = 'favorite_number.json'\n",
    "\n",
    "favorite_number = input(\"请输入您喜欢的数: \")\n",
    "\n",
    "with open(filename, 'w') as file:\n",
    "    json.dump(favorite_number, file)\n",
    "\n",
    "print(\"您的喜欢的数已存储在文件中。\")\n"
   ]
  },
  {
   "cell_type": "code",
   "execution_count": 44,
   "id": "c75fc741-787c-4c25-83d4-b550b674ee55",
   "metadata": {},
   "outputs": [
    {
     "name": "stdout",
     "output_type": "stream",
     "text": [
      "我知道您喜欢的数！它是 ff\n"
     ]
    }
   ],
   "source": [
    "import json\n",
    "\n",
    "filename = 'favorite_number.json'\n",
    "\n",
    "try:\n",
    "    with open(filename) as file:\n",
    "        favorite_number = json.load(file)\n",
    "        print(\"我知道您喜欢的数！它是\", favorite_number)\n",
    "\n",
    "except FileNotFoundError:\n",
    "    print(\"未找到存储您喜欢的数的文件。\")\n"
   ]
  },
  {
   "cell_type": "code",
   "execution_count": 45,
   "id": "2db6b458-72e8-4579-aee7-ca93e5216741",
   "metadata": {},
   "outputs": [
    {
     "name": "stdout",
     "output_type": "stream",
     "text": [
      "我知道您喜欢的数！它是 ff\n"
     ]
    }
   ],
   "source": [
    "#练习10.12\n",
    "import json\n",
    "\n",
    "filename = 'favorite_number.json'\n",
    "\n",
    "try:\n",
    "    with open(filename) as file:\n",
    "        favorite_number = json.load(file)\n",
    "        print(\"我知道您喜欢的数！它是\", favorite_number)\n",
    "\n",
    "except FileNotFoundError:\n",
    "    favorite_number = input(\"请输入您喜欢的数: \")\n",
    "\n",
    "    with open(filename, 'w') as file:\n",
    "        json.dump(favorite_number, file)\n",
    "        print(\"您的喜欢的数已存储在文件中。\")\n"
   ]
  },
  {
   "cell_type": "code",
   "execution_count": 46,
   "id": "11c21934-cd0e-4b81-91cc-fe1f3228bead",
   "metadata": {},
   "outputs": [
    {
     "name": "stdin",
     "output_type": "stream",
     "text": [
      "请输入您的用户名:  高磊\n",
      "请输入您的年龄:  20\n",
      "请输入您的所在地:  南京\n"
     ]
    },
    {
     "name": "stdout",
     "output_type": "stream",
     "text": [
      "您的信息已存储在文件中。\n"
     ]
    }
   ],
   "source": [
    "#练习10.13\n",
    "import json\n",
    "\n",
    "filename = 'user_info.json'\n",
    "\n",
    "try:\n",
    "    with open(filename) as file:\n",
    "        user_info = json.load(file)\n",
    "        print(\"程序记住了以下有关用户的信息:\")\n",
    "        for key, value in user_info.items():\n",
    "            print(f\"{key}: {value}\")\n",
    "\n",
    "except FileNotFoundError:\n",
    "    username = input(\"请输入您的用户名: \")\n",
    "    age = input(\"请输入您的年龄: \")\n",
    "    location = input(\"请输入您的所在地: \")\n",
    "\n",
    "    user_info = {'username': username, 'age': age, 'location': location}\n",
    "\n",
    "    with open(filename, 'w') as file:\n",
    "        json.dump(user_info, file)\n",
    "        print(\"您的信息已存储在文件中。\")\n"
   ]
  },
  {
   "cell_type": "code",
   "execution_count": 47,
   "id": "c1192989-1d05-436e-a1bf-658da5b367f9",
   "metadata": {},
   "outputs": [
    {
     "name": "stdin",
     "output_type": "stream",
     "text": [
      "欢迎回来，hihi！您是这个用户吗？(yes/no)  yes\n"
     ]
    },
    {
     "name": "stdout",
     "output_type": "stream",
     "text": [
      "欢迎回来，hihi！\n"
     ]
    }
   ],
   "source": [
    "#练习10.14\n",
    "import json\n",
    "\n",
    "def get_stored_username():\n",
    "    \"\"\"获取存储的用户名\"\"\"\n",
    "    filename = 'username.json'\n",
    "    try:\n",
    "        with open(filename) as file:\n",
    "            username = json.load(file)\n",
    "    except FileNotFoundError:\n",
    "        return None\n",
    "    else:\n",
    "        return username\n",
    "\n",
    "def get_new_username():\n",
    "    \"\"\"获取新的用户名\"\"\"\n",
    "    username = input(\"请输入您的用户名: \")\n",
    "    filename = 'username.json'\n",
    "    with open(filename, 'w') as file:\n",
    "        json.dump(username, file)\n",
    "    return username\n",
    "\n",
    "def greet_user():\n",
    "    \"\"\"欢迎用户\"\"\"\n",
    "    username = get_stored_username()\n",
    "    \n",
    "    if username:\n",
    "        is_username_correct = input(f\"欢迎回来，{username}！您是这个用户吗？(yes/no) \")\n",
    "        if is_username_correct.lower() == 'yes':\n",
    "            print(f\"欢迎回来，{username}！\")\n",
    "        else:\n",
    "            username = get_new_username()\n",
    "            print(f\"欢迎使用，{username}！\")\n",
    "    else:\n",
    "        username = get_new_username()\n",
    "        print(f\"欢迎使用，{username}！\")\n",
    "\n",
    "greet_user()\n"
   ]
  },
  {
   "cell_type": "code",
   "execution_count": null,
   "id": "6b2f8612-a2c3-4753-9402-e9cda9491702",
   "metadata": {},
   "outputs": [],
   "source": []
  }
 ],
 "metadata": {
  "kernelspec": {
   "display_name": "Python 3 (ipykernel)",
   "language": "python",
   "name": "python3"
  },
  "language_info": {
   "codemirror_mode": {
    "name": "ipython",
    "version": 3
   },
   "file_extension": ".py",
   "mimetype": "text/x-python",
   "name": "python",
   "nbconvert_exporter": "python",
   "pygments_lexer": "ipython3",
   "version": "3.11.7"
  }
 },
 "nbformat": 4,
 "nbformat_minor": 5
}
