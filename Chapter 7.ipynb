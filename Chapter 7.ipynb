{
 "cells": [
  {
   "cell_type": "markdown",
   "id": "c13f1e6e-fb06-4a62-b9aa-22c6654d0821",
   "metadata": {},
   "source": [
    "# 第七章 用户输入和while循环"
   ]
  },
  {
   "cell_type": "markdown",
   "id": "7138076a-e3e7-400a-8e95-f7c4ef6ed499",
   "metadata": {},
   "source": [
    "## 7.1 input()函数的工作原理"
   ]
  },
  {
   "cell_type": "code",
   "execution_count": 1,
   "id": "fb7c53a4-9d2a-44db-9d27-37922f5d2f65",
   "metadata": {},
   "outputs": [
    {
     "name": "stdin",
     "output_type": "stream",
     "text": [
      "Tell me something, and I will repeat it back to you: Hello everyone\n"
     ]
    },
    {
     "name": "stdout",
     "output_type": "stream",
     "text": [
      "Hello everyone\n"
     ]
    }
   ],
   "source": [
    "message=input(\"Tell me something, and I will repeat it back to you:\")\n",
    "print(message)"
   ]
  },
  {
   "cell_type": "code",
   "execution_count": 2,
   "id": "a575bccf-7a9d-446b-b833-55890d7fe38b",
   "metadata": {},
   "outputs": [
    {
     "name": "stdin",
     "output_type": "stream",
     "text": [
      "Please enter your name:  Eric\n"
     ]
    },
    {
     "name": "stdout",
     "output_type": "stream",
     "text": [
      "\n",
      "Hello,Eric!\n"
     ]
    }
   ],
   "source": [
    "#7.1.1 编写清晰的提示\n",
    "name=input(\"Please enter your name: \")\n",
    "print(f\"\\nHello,{name}!\")"
   ]
  },
  {
   "cell_type": "code",
   "execution_count": 10,
   "id": "0ce8c8d9-e5c8-42c2-9c89-34d88331e4e0",
   "metadata": {},
   "outputs": [
    {
     "name": "stdin",
     "output_type": "stream",
     "text": [
      "if you share your name, we can personalize the messages you see.\n",
      "What is your first name? Eric\n"
     ]
    },
    {
     "name": "stdout",
     "output_type": "stream",
     "text": [
      "\n",
      "Hello,Eric!\n"
     ]
    }
   ],
   "source": [
    "prompt=\"if you share your name, we can personalize the messages you see.\"\n",
    "prompt+=\"\\nWhat is your first name?\"\n",
    "\n",
    "name=input(prompt)\n",
    "print(f\"\\nHello,{name}!\")"
   ]
  },
  {
   "cell_type": "code",
   "execution_count": 6,
   "id": "15c98939-6954-4641-8853-32b311dc9b55",
   "metadata": {},
   "outputs": [
    {
     "name": "stdin",
     "output_type": "stream",
     "text": [
      "How old are you? 21\n"
     ]
    },
    {
     "data": {
      "text/plain": [
       "True"
      ]
     },
     "execution_count": 6,
     "metadata": {},
     "output_type": "execute_result"
    }
   ],
   "source": [
    "#7.1.2 使用int()来获取数值输入\n",
    "age=input(\"How old are you?\")\n",
    "age=int(age)\n",
    "age>=18"
   ]
  },
  {
   "cell_type": "code",
   "execution_count": 8,
   "id": "342c2d23-ab0f-43a8-91e7-e8644c7f812d",
   "metadata": {},
   "outputs": [
    {
     "name": "stdin",
     "output_type": "stream",
     "text": [
      "How tall are you,in inches? 71\n"
     ]
    },
    {
     "name": "stdout",
     "output_type": "stream",
     "text": [
      "\n",
      "You're tall enough to ride!\n"
     ]
    }
   ],
   "source": [
    "height=input(\"How tall are you,in inches?\")\n",
    "height=int(height)\n",
    "if height>=48:\n",
    "    print(\"\\nYou're tall enough to ride!\")\n",
    "else:\n",
    "    print(\"\\You'll be able to ride when you're a little older.\")"
   ]
  },
  {
   "cell_type": "code",
   "execution_count": 11,
   "id": "c3e32353-bfda-417c-b276-1cf058edbb78",
   "metadata": {},
   "outputs": [
    {
     "name": "stdin",
     "output_type": "stream",
     "text": [
      "Enter a number,and I'll tell you if it's even or odd: 10\n"
     ]
    },
    {
     "name": "stdout",
     "output_type": "stream",
     "text": [
      "\n",
      "The number 10 is even.\n"
     ]
    }
   ],
   "source": [
    "#7.1.3 求模运算符\n",
    "number=input(\"Enter a number,and I'll tell you if it's even or odd:\")\n",
    "number=int(number)\n",
    "if number % 2 ==0:\n",
    "    print(f\"\\nThe number {number} is even.\")\n",
    "else:\n",
    "    print(f\"\\n The number {number} is odd.\")"
   ]
  },
  {
   "cell_type": "markdown",
   "id": "8e91f87a-1d6c-4214-95cc-f81ea6bc58af",
   "metadata": {},
   "source": [
    "## 动手试一试"
   ]
  },
  {
   "cell_type": "code",
   "execution_count": 12,
   "id": "44e75735-2cc4-464a-bc3b-5356dd426502",
   "metadata": {},
   "outputs": [
    {
     "name": "stdin",
     "output_type": "stream",
     "text": [
      "What kind of car would you like to rent?  Bos\n"
     ]
    },
    {
     "name": "stdout",
     "output_type": "stream",
     "text": [
      "Let me see if I can find you a Bos.\n"
     ]
    }
   ],
   "source": [
    "#练习7.1\n",
    "car = input(\"What kind of car would you like to rent? \")\n",
    "print(f\"Let me see if I can find you a {car.title()}.\")"
   ]
  },
  {
   "cell_type": "code",
   "execution_count": 13,
   "id": "328643ac-90e5-43d9-9640-830ef13ff752",
   "metadata": {},
   "outputs": [
    {
     "name": "stdin",
     "output_type": "stream",
     "text": [
      "How many people are in your dinner party?  9\n"
     ]
    },
    {
     "name": "stdout",
     "output_type": "stream",
     "text": [
      "I'm sorry, we don't have a table ready for that many guests.\n"
     ]
    }
   ],
   "source": [
    "#练习7.2\n",
    "dining_people = input(\"How many people are in your dinner party? \")\n",
    "dining_people = int(dining_people)\n",
    "\n",
    "if dining_people > 8:\n",
    "    print(\"I'm sorry, we don't have a table ready for that many guests.\")\n",
    "else:\n",
    "    print(\"Great, we have a table ready for you.\")\n"
   ]
  },
  {
   "cell_type": "code",
   "execution_count": 14,
   "id": "bfddcc8b-6f2c-4d89-8cd7-86d895dd9e93",
   "metadata": {},
   "outputs": [
    {
     "name": "stdin",
     "output_type": "stream",
     "text": [
      "Enter a number:  20\n"
     ]
    },
    {
     "name": "stdout",
     "output_type": "stream",
     "text": [
      "20 is a multiple of 10.\n"
     ]
    }
   ],
   "source": [
    "#练习7.3\n",
    "number = input(\"Enter a number: \")\n",
    "number = int(number) \n",
    "\n",
    "if number % 10 == 0:\n",
    "    print(f\"{number} is a multiple of 10.\")\n",
    "else:\n",
    "    print(f\"{number} is not a multiple of 10.\")\n",
    "\n"
   ]
  },
  {
   "cell_type": "markdown",
   "id": "dcf96a0e-c0cb-4b31-908c-a81b3febb788",
   "metadata": {},
   "source": [
    "## 7.2 While 循环简介"
   ]
  },
  {
   "cell_type": "code",
   "execution_count": 15,
   "id": "05cd5b33-3e86-4372-8ca5-d256f763a234",
   "metadata": {},
   "outputs": [
    {
     "name": "stdout",
     "output_type": "stream",
     "text": [
      "1\n",
      "2\n",
      "3\n",
      "4\n",
      "5\n"
     ]
    }
   ],
   "source": [
    "#7.2.1 使用While 循环\n",
    "current_number=1\n",
    "while current_number<=5:\n",
    "    print(current_number)\n",
    "    current_number+=1"
   ]
  },
  {
   "cell_type": "code",
   "execution_count": 16,
   "id": "589959c7-651e-49d6-9e4e-f96e04b518dc",
   "metadata": {},
   "outputs": [
    {
     "name": "stdin",
     "output_type": "stream",
     "text": [
      "\n",
      "Tell me something, and I will repeat it back to you:\n",
      "Enter 'quit' to end the program.  Hello\n"
     ]
    },
    {
     "name": "stdout",
     "output_type": "stream",
     "text": [
      "Hello\n"
     ]
    },
    {
     "name": "stdin",
     "output_type": "stream",
     "text": [
      "\n",
      "Tell me something, and I will repeat it back to you:\n",
      "Enter 'quit' to end the program.  quit\n"
     ]
    },
    {
     "name": "stdout",
     "output_type": "stream",
     "text": [
      "quit\n"
     ]
    }
   ],
   "source": [
    "#7.2.2 让用户选择何时推出\n",
    "prompt = \"\\nTell me something, and I will repeat it back to you:\"\n",
    "prompt += \"\\nEnter 'quit' to end the program. \"\n",
    "message=\"\"\n",
    "while message!='quit':\n",
    "    message=input(prompt)\n",
    "    print(message)"
   ]
  },
  {
   "cell_type": "code",
   "execution_count": 18,
   "id": "5ffa6588-cb66-4d64-b2d6-c4f573e0a56a",
   "metadata": {},
   "outputs": [
    {
     "name": "stdin",
     "output_type": "stream",
     "text": [
      "\n",
      "Tell me something, and I will repeat it back to you:\n",
      "Enter 'quit' to end the program.  Hello\n"
     ]
    },
    {
     "name": "stdout",
     "output_type": "stream",
     "text": [
      "Hello\n"
     ]
    },
    {
     "name": "stdin",
     "output_type": "stream",
     "text": [
      "\n",
      "Tell me something, and I will repeat it back to you:\n",
      "Enter 'quit' to end the program.  quit\n"
     ]
    }
   ],
   "source": [
    "#7.2.2 让用户选择何时退出\n",
    "prompt = \"\\nTell me something, and I will repeat it back to you:\"\n",
    "prompt += \"\\nEnter 'quit' to end the program. \"\n",
    "message= \"\"\n",
    "while message!='quit':\n",
    "    message=input(prompt)\n",
    "   \n",
    "    if message!='quit':\n",
    "        print(message)"
   ]
  },
  {
   "cell_type": "code",
   "execution_count": 22,
   "id": "648eff72-2f0e-4688-bb93-0d2950b34d4f",
   "metadata": {},
   "outputs": [
    {
     "name": "stdin",
     "output_type": "stream",
     "text": [
      "\n",
      "Tell me something, and I will repeat it back to you:\n",
      "Enter 'quit' to end the program.  hello\n"
     ]
    }
   ],
   "source": [
    "#7.2.3 使用标志\n",
    "prompt = \"\\nTell me something, and I will repeat it back to you:\"\n",
    "prompt += \"\\nEnter 'quit' to end the program. \"\n",
    "active=True\n",
    "while active:\n",
    "    messgae=input(prompt)\n",
    "    if message=='quit':\n",
    "        active=False\n",
    "    else:\n",
    "        print(message)\n"
   ]
  },
  {
   "cell_type": "code",
   "execution_count": 2,
   "id": "e83e6a37-b951-4574-baaa-0c4afb75ae31",
   "metadata": {},
   "outputs": [
    {
     "name": "stdin",
     "output_type": "stream",
     "text": [
      "\n",
      "Tell me something, and I will repeat it back to you:\n",
      "Enter 'quit' when you are finished.) quit\n"
     ]
    }
   ],
   "source": [
    "#7.2.4 使用break退出循环\n",
    "prompt = \"\\nTell me something, and I will repeat it back to you:\"\n",
    "prompt += \"\\nEnter 'quit' when you are finished.)\"\n",
    "while True:\n",
    "    city=input(prompt)\n",
    "    if city=='quit':\n",
    "        break\n",
    "    else:\n",
    "        print(f\"I'd love to go to{city.title()}!\")\n",
    "        \n",
    "\n"
   ]
  },
  {
   "cell_type": "code",
   "execution_count": 3,
   "id": "490fdbe1-1de4-4f13-b228-eb5f30a45190",
   "metadata": {},
   "outputs": [
    {
     "name": "stdout",
     "output_type": "stream",
     "text": [
      "1\n",
      "3\n",
      "5\n",
      "7\n",
      "9\n"
     ]
    }
   ],
   "source": [
    "#7.2.5 在循环中使用continue\n",
    "current_number=0\n",
    "while current_number<10:\n",
    "    current_number+=1\n",
    "    if current_number%2==0:\n",
    "        continue\n",
    "\n",
    "    print(current_number)"
   ]
  },
  {
   "cell_type": "markdown",
   "id": "c720a23d-5acc-4be2-bf31-74e5b912b5fb",
   "metadata": {},
   "source": [
    "## 动手试一试"
   ]
  },
  {
   "cell_type": "code",
   "execution_count": 4,
   "id": "b3954446-115e-41d5-99ef-680a45542b47",
   "metadata": {},
   "outputs": [
    {
     "name": "stdin",
     "output_type": "stream",
     "text": [
      "Enter a pizza topping (type 'quit' to finish):  quit\n"
     ]
    }
   ],
   "source": [
    "#练习7.4：比萨配料\n",
    "# 使用条件测试来结束循环\n",
    "while True:\n",
    "    ingredient = input(\"Enter a pizza topping (type 'quit' to finish): \")\n",
    "    if ingredient == 'quit':\n",
    "        break\n",
    "    else:\n",
    "        print(f\"We'll add {ingredient} to your pizza.\")\n"
   ]
  },
  {
   "cell_type": "code",
   "execution_count": 5,
   "id": "c7d823ec-1023-47f3-a288-b656422a08e0",
   "metadata": {},
   "outputs": [
    {
     "name": "stdin",
     "output_type": "stream",
     "text": [
      "Please enter your age (type 'quit' to exit):  quit\n"
     ]
    }
   ],
   "source": [
    "#练习7.5:电影票\n",
    "# 使用变量active来控制循环结束的时机\n",
    "active = True\n",
    "while active:\n",
    "    age = input(\"Please enter your age (type 'quit' to exit): \")\n",
    "    if age == 'quit':\n",
    "        active = False\n",
    "    else:\n",
    "        age = int(age)\n",
    "        if age < 3:\n",
    "            print(\"Your ticket is free!\")\n",
    "        elif age <= 12:\n",
    "            print(\"Your ticket is $10.\")\n",
    "        else:\n",
    "            print(\"Your ticket is $15.\")\n"
   ]
  },
  {
   "cell_type": "code",
   "execution_count": 6,
   "id": "5aeb8817-9d20-46ab-bd04-16c25aa03d39",
   "metadata": {},
   "outputs": [
    {
     "name": "stdin",
     "output_type": "stream",
     "text": [
      "Enter a pizza topping (type 'quit' to finish):  quit\n"
     ]
    }
   ],
   "source": [
    "#练习7.6 \n",
    "ingredient = ''\n",
    "while ingredient != 'quit':\n",
    "    ingredient = input(\"Enter a pizza topping (type 'quit' to finish): \")\n",
    "    if ingredient != 'quit':\n",
    "        print(f\"We'll add {ingredient} to your pizza.\")\n"
   ]
  },
  {
   "cell_type": "code",
   "execution_count": 7,
   "id": "64786dc3-1a5b-4a93-959c-cf6b6f47a8e4",
   "metadata": {},
   "outputs": [
    {
     "name": "stdin",
     "output_type": "stream",
     "text": [
      "Enter a pizza topping (type 'quit' to finish):  quit\n"
     ]
    }
   ],
   "source": [
    "active = True\n",
    "while active:\n",
    "    ingredient = input(\"Enter a pizza topping (type 'quit' to finish): \")\n",
    "    if ingredient == 'quit':\n",
    "        active = False\n",
    "    else:\n",
    "        print(f\"We'll add {ingredient} to your pizza.\")\n"
   ]
  },
  {
   "cell_type": "code",
   "execution_count": 8,
   "id": "70c809f9-9ee4-4866-875c-4f22117fbbc2",
   "metadata": {},
   "outputs": [
    {
     "name": "stdin",
     "output_type": "stream",
     "text": [
      "Enter a pizza topping (type 'quit' to finish):  quit\n"
     ]
    }
   ],
   "source": [
    "while True:\n",
    "    ingredient = input(\"Enter a pizza topping (type 'quit' to finish): \")\n",
    "    if ingredient == 'quit':\n",
    "        break\n",
    "    print(f\"We'll add {ingredient} to your pizza.\")\n"
   ]
  },
  {
   "cell_type": "markdown",
   "id": "013dc621-e332-46f6-b5df-026905be67b1",
   "metadata": {},
   "source": [
    "## 7.3 使用while循环处理列表和字典\n"
   ]
  },
  {
   "cell_type": "code",
   "execution_count": 11,
   "id": "da22030d-5bd4-4b1f-971c-beb1920b0865",
   "metadata": {},
   "outputs": [
    {
     "name": "stdout",
     "output_type": "stream",
     "text": [
      "Verifying user: Candace\n",
      "\n",
      "The following users have been confirmed:\n",
      "Candace\n",
      "Verifying user: Brian\n",
      "\n",
      "The following users have been confirmed:\n",
      "Candace\n",
      "Brian\n",
      "Verifying user: Alice\n",
      "\n",
      "The following users have been confirmed:\n",
      "Candace\n",
      "Brian\n",
      "Alice\n"
     ]
    }
   ],
   "source": [
    "#7.3.1 在列表之间移动元素\n",
    "\n",
    "unconfirmed_users = ['alice', 'brian', 'candace']\n",
    "confirmed_users = []\n",
    "while unconfirmed_users:\n",
    "    current_user = unconfirmed_users.pop()\n",
    "    print(f\"Verifying user: {current_user.title()}\")\n",
    "    confirmed_users.append(current_user)\n",
    "\n",
    "    print(\"\\nThe following users have been confirmed:\")\n",
    "    for confirmed_user in confirmed_users:\n",
    "      print(confirmed_user.title())"
   ]
  },
  {
   "cell_type": "code",
   "execution_count": 10,
   "id": "10e05a31-7f62-4618-b12d-17e240c198f0",
   "metadata": {},
   "outputs": [
    {
     "name": "stdout",
     "output_type": "stream",
     "text": [
      "['dog', 'cat', 'dog', 'goldfish', 'cat', 'rabbit', 'cat']\n",
      "['dog', 'dog', 'goldfish', 'rabbit']\n"
     ]
    }
   ],
   "source": [
    "#7.3.2 删除为特定值的所有列表元素\n",
    "pets = ['dog', 'cat', 'dog', 'goldfish', 'cat', 'rabbit', 'cat']\n",
    "print(pets)\n",
    "\n",
    "while 'cat' in pets:\n",
    "    pets.remove('cat')\n",
    "\n",
    "print(pets)"
   ]
  },
  {
   "cell_type": "code",
   "execution_count": 12,
   "id": "35176486-fa60-43de-acc7-56c02f40cd48",
   "metadata": {},
   "outputs": [
    {
     "name": "stdin",
     "output_type": "stream",
     "text": [
      "\n",
      "What is your name?  11\n",
      "Which mountain would you like to climb someday?  22\n",
      "Would you like to let another person respond? (yes/no)  yes\n"
     ]
    },
    {
     "name": "stdout",
     "output_type": "stream",
     "text": [
      "\n",
      "--- Poll Results ---\n",
      "11 would like to climb 22.\n"
     ]
    },
    {
     "name": "stdin",
     "output_type": "stream",
     "text": [
      "\n",
      "What is your name?  33\n",
      "Which mountain would you like to climb someday?  tt\n",
      "Would you like to let another person respond? (yes/no)  no\n"
     ]
    },
    {
     "name": "stdout",
     "output_type": "stream",
     "text": [
      "\n",
      "--- Poll Results ---\n",
      "11 would like to climb 22.\n",
      "33 would like to climb tt.\n"
     ]
    }
   ],
   "source": [
    "#7.3.3 使用用户输入填充字典\n",
    "responses = {}\n",
    "polling_active = True\n",
    "while polling_active:\n",
    "    name = input(\"\\nWhat is your name? \")\n",
    "    response = input(\"Which mountain would you like to climb someday? \")\n",
    "\n",
    "    responses[name] = response\n",
    "\n",
    "    repeat = input(\"Would you like to let another person respond? (yes/no) \")\n",
    "    if repeat == 'no':\n",
    "      polling_active = False\n",
    "\n",
    "    print(\"\\n--- Poll Results ---\")\n",
    "    for name, response in responses.items():\n",
    "      print(f\"{name} would like to climb {response}.\")"
   ]
  },
  {
   "cell_type": "markdown",
   "id": "5a42d173-5e26-4228-bf81-f9937e2848eb",
   "metadata": {},
   "source": [
    "## 动手试一试\n"
   ]
  },
  {
   "cell_type": "code",
   "execution_count": 13,
   "id": "8c027109-2435-4254-ab9c-67232919821b",
   "metadata": {},
   "outputs": [
    {
     "name": "stdout",
     "output_type": "stream",
     "text": [
      "I made your beef sandwich.\n",
      "I made your ham sandwich.\n",
      "I made your veggie sandwich.\n",
      "I made your chicken sandwich.\n",
      "I made your tuna sandwich.\n",
      "\n",
      "All sandwiches have been made:\n",
      "- beef sandwich\n",
      "- ham sandwich\n",
      "- veggie sandwich\n",
      "- chicken sandwich\n",
      "- tuna sandwich\n"
     ]
    }
   ],
   "source": [
    "#练习7.8\n",
    "sandwich_orders = ['tuna', 'chicken', 'veggie', 'ham', 'beef']\n",
    "finished_sandwiches = []\n",
    "\n",
    "while sandwich_orders:\n",
    "    current_sandwich = sandwich_orders.pop()\n",
    "    print(f\"I made your {current_sandwich} sandwich.\")\n",
    "    finished_sandwiches.append(current_sandwich)\n",
    "\n",
    "print(\"\\nAll sandwiches have been made:\")\n",
    "for sandwich in finished_sandwiches:\n",
    "    print(f\"- {sandwich} sandwich\")\n"
   ]
  },
  {
   "cell_type": "code",
   "execution_count": 14,
   "id": "748a2278-5b26-4c9f-96d4-10f9c70aa705",
   "metadata": {},
   "outputs": [
    {
     "name": "stdout",
     "output_type": "stream",
     "text": [
      "I'm sorry, we're all out of pastrami today.\n",
      "I made your beef sandwich.\n",
      "I made your ham sandwich.\n",
      "I made your veggie sandwich.\n",
      "I made your chicken sandwich.\n",
      "I made your tuna sandwich.\n",
      "\n",
      "All sandwiches have been made:\n",
      "- beef sandwich\n",
      "- ham sandwich\n",
      "- veggie sandwich\n",
      "- chicken sandwich\n",
      "- tuna sandwich\n"
     ]
    }
   ],
   "source": [
    "#练习 7.9\n",
    "sandwich_orders = ['pastrami', 'tuna', 'pastrami', 'chicken', 'veggie', 'pastrami', 'ham', 'beef']\n",
    "finished_sandwiches = []\n",
    "\n",
    "print(\"I'm sorry, we're all out of pastrami today.\")\n",
    "while 'pastrami' in sandwich_orders:\n",
    "    sandwich_orders.remove('pastrami')\n",
    "\n",
    "while sandwich_orders:\n",
    "    current_sandwich = sandwich_orders.pop()\n",
    "    print(f\"I made your {current_sandwich} sandwich.\")\n",
    "    finished_sandwiches.append(current_sandwich)\n",
    "\n",
    "print(\"\\nAll sandwiches have been made:\")\n",
    "for sandwich in finished_sandwiches:\n",
    "    print(f\"- {sandwich} sandwich\")\n"
   ]
  },
  {
   "cell_type": "code",
   "execution_count": 15,
   "id": "abb8a2da-781c-427a-8d88-30c5d334965e",
   "metadata": {},
   "outputs": [
    {
     "name": "stdin",
     "output_type": "stream",
     "text": [
      "\n",
      "What's your name?  111\n",
      "If you could visit one place in the world, where would you go?  77\n",
      "Would you like to let another person respond? (yes/ no)  no\n"
     ]
    },
    {
     "name": "stdout",
     "output_type": "stream",
     "text": [
      "\n",
      "--- Poll Results ---\n",
      "111 would like to visit 77.\n"
     ]
    }
   ],
   "source": [
    "#7.10\n",
    "dream_vacation = {}\n",
    "polling_active = True\n",
    "while polling_active:\n",
    "    name = input(\"\\nWhat's your name? \")\n",
    "    response = input(\"If you could visit one place in the world, where would you go? \")\n",
    "    dream_vacation[name] = response\n",
    "    repeat = input(\"Would you like to let another person respond? (yes/ no) \")\n",
    "    if repeat == 'no':\n",
    "        polling_active = False\n",
    "print(\"\\n--- Poll Results ---\")\n",
    "for name, response in dream_vacation.items():\n",
    "    print(f\"{name} would like to visit {response}.\")\n"
   ]
  },
  {
   "cell_type": "code",
   "execution_count": null,
   "id": "64a638d7-9562-4793-9ef7-652716be5163",
   "metadata": {},
   "outputs": [],
   "source": []
  }
 ],
 "metadata": {
  "kernelspec": {
   "display_name": "Python 3 (ipykernel)",
   "language": "python",
   "name": "python3"
  },
  "language_info": {
   "codemirror_mode": {
    "name": "ipython",
    "version": 3
   },
   "file_extension": ".py",
   "mimetype": "text/x-python",
   "name": "python",
   "nbconvert_exporter": "python",
   "pygments_lexer": "ipython3",
   "version": "3.11.7"
  }
 },
 "nbformat": 4,
 "nbformat_minor": 5
}
