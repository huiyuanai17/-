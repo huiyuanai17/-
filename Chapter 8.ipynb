{
 "cells": [
  {
   "cell_type": "markdown",
   "id": "bbe0ac55-5a45-48d4-a9c6-2e70068887cf",
   "metadata": {},
   "source": [
    "# 第八章 函数"
   ]
  },
  {
   "cell_type": "markdown",
   "id": "891cf7cf-3cfb-4259-a841-42a73968372d",
   "metadata": {},
   "source": [
    "## 8.1 定义函数 "
   ]
  },
  {
   "cell_type": "code",
   "execution_count": 5,
   "id": "f465a0e3-b1cf-488f-875d-dbc90d3bdbf4",
   "metadata": {},
   "outputs": [
    {
     "name": "stdout",
     "output_type": "stream",
     "text": [
      "Hello\n"
     ]
    }
   ],
   "source": [
    "#设计一个问候语的简单函数\n",
    "def greet_user():\n",
    "    \"\"\"显示简单的问候语\"\"\"\n",
    "    print(\"Hello\")\n",
    "\n",
    "greet_user()"
   ]
  },
  {
   "cell_type": "code",
   "execution_count": 8,
   "id": "f635d321-f788-49c0-b508-624091cc8412",
   "metadata": {},
   "outputs": [
    {
     "name": "stdout",
     "output_type": "stream",
     "text": [
      "Hello,Jeese\n"
     ]
    }
   ],
   "source": [
    "#8.1.1 向函数传递信息\n",
    "def greet_user(username):\n",
    "    \"\"\"显示简单的问候语\"\"\"\n",
    "    print(f\"Hello,{username.title()}\")\n",
    "\n",
    "greet_user('jeese')"
   ]
  },
  {
   "cell_type": "code",
   "execution_count": null,
   "id": "d0c7a2da-ae5d-4947-aa30-325c21c3883f",
   "metadata": {},
   "outputs": [],
   "source": [
    "#8.1.2 实参和形参\n",
    "username是形参 ‘jeese’是实参"
   ]
  },
  {
   "cell_type": "markdown",
   "id": "0bbe5b18-7ae3-41f8-9b1b-ae443c7cdb62",
   "metadata": {},
   "source": [
    "## 动手试一试"
   ]
  },
  {
   "cell_type": "code",
   "execution_count": 9,
   "id": "2829ad8c-1dfe-4e5b-957a-8ebdd3707444",
   "metadata": {},
   "outputs": [
    {
     "name": "stdout",
     "output_type": "stream",
     "text": [
      "The theme of this chapter is functions.\n"
     ]
    }
   ],
   "source": [
    "#练习8.1 消息\n",
    "def display_message():\n",
    "    \"\"\"显示本章学习的主题\"\"\"\n",
    "    print(\"The theme of this chapter is functions.\")\n",
    "\n",
    "# 调用函数\n",
    "display_message()\n"
   ]
  },
  {
   "cell_type": "code",
   "execution_count": 10,
   "id": "9eb676e5-ec87-4383-a788-e724d814e30a",
   "metadata": {},
   "outputs": [
    {
     "name": "stdout",
     "output_type": "stream",
     "text": [
      "One of my favorite books is Alice in Wonderland.\n"
     ]
    }
   ],
   "source": [
    "#练习8.2 喜欢的书\n",
    "def favorite_book(title):\n",
    "    \"\"\"显示一条消息，指出一个人最喜欢的书\"\"\"\n",
    "    print(f\"One of my favorite books is {title}.\")\n",
    "\n",
    "# 调用函数\n",
    "favorite_book('Alice in Wonderland')\n"
   ]
  },
  {
   "cell_type": "markdown",
   "id": "961449b0-44f5-4962-b231-bb7db072552d",
   "metadata": {},
   "source": [
    "## 8.2 传递实参"
   ]
  },
  {
   "cell_type": "code",
   "execution_count": null,
   "id": "90ef6af2-d579-4106-bcc4-b41d694b4e7b",
   "metadata": {},
   "outputs": [],
   "source": [
    "#既可以使用位置实参，也可以使用关键字实参"
   ]
  },
  {
   "cell_type": "code",
   "execution_count": 11,
   "id": "24516a26-259e-4b46-a052-5b572b60642b",
   "metadata": {},
   "outputs": [
    {
     "name": "stdout",
     "output_type": "stream",
     "text": [
      "\n",
      "I have a hamster.\n",
      "My hamster's name is Harry.\n"
     ]
    }
   ],
   "source": [
    "#8.2.1 位置实参\n",
    "def describe_pet(animal_type, pet_name):\n",
    "      \"\"\"显示宠物的信息\"\"\"\n",
    "      print(f\"\\nI have a {animal_type}.\")\n",
    "      print(f\"My {animal_type}'s name is {pet_name.title()}.\")\n",
    "\n",
    "describe_pet('hamster', 'harry')"
   ]
  },
  {
   "cell_type": "code",
   "execution_count": 12,
   "id": "d297157e-5c7d-4c8f-989e-2a15c2554749",
   "metadata": {},
   "outputs": [
    {
     "name": "stdout",
     "output_type": "stream",
     "text": [
      "\n",
      "I have a hamster.\n",
      "My hamster's name is Harry.\n",
      "\n",
      "I have a dog.\n",
      "My dog's name is Willie.\n"
     ]
    }
   ],
   "source": [
    "#1 调用函数多次\n",
    "def describe_pet(animal_type, pet_name):\n",
    "    \"\"\"显示宠物的信息\"\"\"\n",
    "    print(f\"\\nI have a {animal_type}.\")\n",
    "    print(f\"My {animal_type}'s name is {pet_name.title()}.\")\n",
    "\n",
    "describe_pet('hamster', 'harry')\n",
    "describe_pet('dog', 'willie')"
   ]
  },
  {
   "cell_type": "code",
   "execution_count": 13,
   "id": "78837585-6fb3-4cc8-bb47-4a70f3e3915d",
   "metadata": {},
   "outputs": [
    {
     "name": "stdout",
     "output_type": "stream",
     "text": [
      "\n",
      "I have a harry.\n",
      "My harry's name is Hamster.\n"
     ]
    }
   ],
   "source": [
    "#位置实参的顺序很重要\n",
    "def describe_pet(animal_type, pet_name):\n",
    "    \"\"\"显示宠物的信息\"\"\"\n",
    "    print(f\"\\nI have a {animal_type}.\")\n",
    "    print(f\"My {animal_type}'s name is {pet_name.title()}.\")\n",
    "\n",
    "describe_pet('harry', 'hamster')"
   ]
  },
  {
   "cell_type": "code",
   "execution_count": 14,
   "id": "bc888f46-1483-4532-9e87-ef5fea79ea33",
   "metadata": {},
   "outputs": [
    {
     "name": "stdout",
     "output_type": "stream",
     "text": [
      "\n",
      "I have a hamster.\n",
      "My hamster's name is Harry.\n"
     ]
    }
   ],
   "source": [
    "#8.2.2 关键字实参\n",
    "def describe_pet(animal_type, pet_name):\n",
    "    \"\"\"显示宠物的信息\"\"\"\n",
    "    print(f\"\\nI have a {animal_type}.\")\n",
    "    print(f\"My {animal_type}'s name is {pet_name.title()}.\")\n",
    "\n",
    "describe_pet(animal_type='hamster', pet_name='harry')"
   ]
  },
  {
   "cell_type": "code",
   "execution_count": 15,
   "id": "4688cc6d-b269-4b1c-9bb9-00e8c822be51",
   "metadata": {},
   "outputs": [
    {
     "name": "stdout",
     "output_type": "stream",
     "text": [
      "\n",
      "I have a dog.\n",
      "My dog's name is Willie.\n"
     ]
    }
   ],
   "source": [
    "#8.2.3 默认值\n",
    "def describe_pet(pet_name, animal_type='dog'):\n",
    "    \"\"\"显示宠物的信息\"\"\"\n",
    "    print(f\"\\nI have a {animal_type}.\")\n",
    "    print(f\"My {animal_type}'s name is {pet_name.title()}.\")\n",
    "\n",
    "describe_pet(pet_name='willie')"
   ]
  },
  {
   "cell_type": "code",
   "execution_count": 16,
   "id": "61c12498-4899-4c73-ae20-911d17c3fdab",
   "metadata": {},
   "outputs": [
    {
     "name": "stdout",
     "output_type": "stream",
     "text": [
      "\n",
      "I have a dog.\n",
      "My dog's name is Whillie.\n"
     ]
    }
   ],
   "source": [
    "def describe_pet(pet_name, animal_type='dog'):\n",
    "    \"\"\"显示宠物的信息\"\"\"\n",
    "    print(f\"\\nI have a {animal_type}.\")\n",
    "    print(f\"My {animal_type}'s name is {pet_name.title()}.\")\n",
    "\n",
    "describe_pet('whillie')"
   ]
  },
  {
   "cell_type": "code",
   "execution_count": null,
   "id": "282e82aa-f553-474a-831c-4700b62ebf3c",
   "metadata": {},
   "outputs": [],
   "source": [
    "#8.2.4 等效的函数调用\n",
    "# 一条名为 Willie 的小狗\n",
    "describe_pet('willie')\n",
    "describe_pet(pet_name='willie')\n",
    "\n",
    "# 一只名为 Harry 的仓鼠\n",
    "describe_pet('harry', 'hamster')\n",
    "describe_pet(pet_name='harry', animal_type='hamster')\n",
    "describe_pet(animal_type='hamster', pet_name='harry')"
   ]
  },
  {
   "cell_type": "code",
   "execution_count": 17,
   "id": "37c966ae-4174-47b9-8d26-519028152c69",
   "metadata": {},
   "outputs": [
    {
     "ename": "TypeError",
     "evalue": "describe_pet() missing 2 required positional arguments: 'animal_type' and 'pet_name'",
     "output_type": "error",
     "traceback": [
      "\u001b[0;31m---------------------------------------------------------------------------\u001b[0m",
      "\u001b[0;31mTypeError\u001b[0m                                 Traceback (most recent call last)",
      "Cell \u001b[0;32mIn[17], line 7\u001b[0m\n\u001b[1;32m      4\u001b[0m     \u001b[38;5;28mprint\u001b[39m(\u001b[38;5;124mf\u001b[39m\u001b[38;5;124m\"\u001b[39m\u001b[38;5;130;01m\\n\u001b[39;00m\u001b[38;5;124mI have a \u001b[39m\u001b[38;5;132;01m{\u001b[39;00manimal_type\u001b[38;5;132;01m}\u001b[39;00m\u001b[38;5;124m.\u001b[39m\u001b[38;5;124m\"\u001b[39m)\n\u001b[1;32m      5\u001b[0m     \u001b[38;5;28mprint\u001b[39m(\u001b[38;5;124mf\u001b[39m\u001b[38;5;124m\"\u001b[39m\u001b[38;5;124mMy \u001b[39m\u001b[38;5;132;01m{\u001b[39;00manimal_type\u001b[38;5;132;01m}\u001b[39;00m\u001b[38;5;124m'\u001b[39m\u001b[38;5;124ms name is \u001b[39m\u001b[38;5;132;01m{\u001b[39;00mpet_name\u001b[38;5;241m.\u001b[39mtitle()\u001b[38;5;132;01m}\u001b[39;00m\u001b[38;5;124m.\u001b[39m\u001b[38;5;124m\"\u001b[39m)\n\u001b[0;32m----> 7\u001b[0m describe_pet()\n",
      "\u001b[0;31mTypeError\u001b[0m: describe_pet() missing 2 required positional arguments: 'animal_type' and 'pet_name'"
     ]
    }
   ],
   "source": [
    "#8.2.5 避免实参错误\n",
    "def describe_pet(animal_type, pet_name):\n",
    "    \"\"\"显示宠物的信息\"\"\"\n",
    "    print(f\"\\nI have a {animal_type}.\")\n",
    "    print(f\"My {animal_type}'s name is {pet_name.title()}.\")\n",
    "\n",
    "describe_pet()"
   ]
  },
  {
   "cell_type": "markdown",
   "id": "69c8fe88-0604-4829-ae70-f4153f84fb6f",
   "metadata": {},
   "source": [
    "## 动手试一试"
   ]
  },
  {
   "cell_type": "code",
   "execution_count": 18,
   "id": "0a8b3ae5-76f6-40aa-bf13-d793152de4f1",
   "metadata": {},
   "outputs": [
    {
     "name": "stdout",
     "output_type": "stream",
     "text": [
      "The size of the shirt is L and the text on it says 'I love Python'.\n"
     ]
    }
   ],
   "source": [
    "#练习8.3 T恤\n",
    "def make_shirt(size, text):\n",
    "    \"\"\"显示T恤的尺码和印的字样\"\"\"\n",
    "    print(f\"The size of the shirt is {size} and the text on it says '{text}'.\")\n",
    "\n",
    "\n",
    "# 使用关键字实参调用函数\n",
    "make_shirt(text='I love Python', size='L')\n"
   ]
  },
  {
   "cell_type": "code",
   "execution_count": 19,
   "id": "09cc26fb-a3bf-483c-8dd5-5896bc120ca1",
   "metadata": {},
   "outputs": [
    {
     "name": "stdout",
     "output_type": "stream",
     "text": [
      "The size of the shirt is M and the text on it says 'I love Python'.\n"
     ]
    }
   ],
   "source": [
    "def make_shirt(size, text):\n",
    "    \"\"\"显示T恤的尺码和印的字样\"\"\"\n",
    "    print(f\"The size of the shirt is {size} and the text on it says '{text}'.\")\n",
    "\n",
    "\n",
    "# 使用位置实参调用函数\n",
    "make_shirt('M', 'I love Python')"
   ]
  },
  {
   "cell_type": "code",
   "execution_count": 20,
   "id": "12967aef-58b6-4ca8-993e-fbde1cde16e9",
   "metadata": {},
   "outputs": [
    {
     "name": "stdout",
     "output_type": "stream",
     "text": [
      "The size of the shirt is L and the text on it says 'I love Python'.\n",
      "The size of the shirt is M and the text on it says 'I love Python'.\n",
      "The size of the shirt is S and the text on it says 'Let's Code!'.\n"
     ]
    }
   ],
   "source": [
    "#练习 8.4 大号T恤\n",
    "def make_shirt(size='L', text='I love Python'):\n",
    "    \"\"\"显示T恤的尺码和印的字样，带有默认值\"\"\"\n",
    "    print(f\"The size of the shirt is {size} and the text on it says '{text}'.\")\n",
    "\n",
    "# 制作一件印有默认字样的大号T恤\n",
    "make_shirt()\n",
    "\n",
    "# 制作一件印有默认字样的中号T恤\n",
    "make_shirt(size='M')\n",
    "\n",
    "# 制作一件印有其他字样的T恤（尺码无关紧要）\n",
    "make_shirt(size='S', text=\"Let's Code!\")"
   ]
  },
  {
   "cell_type": "code",
   "execution_count": 21,
   "id": "11a61879-cd2a-4eb9-946b-05f742a84ae2",
   "metadata": {},
   "outputs": [
    {
     "name": "stdout",
     "output_type": "stream",
     "text": [
      "Reykjavik is in Iceland.\n",
      "Akureyri is in Iceland.\n",
      "Shanghai is in China.\n"
     ]
    }
   ],
   "source": [
    "#练习8.5 城市\n",
    "def describe_city(city, country='Iceland'):\n",
    "    \"\"\"显示一个城市及其所属的国家\"\"\"\n",
    "    print(f\"{city} is in {country}.\")\n",
    "\n",
    "# 调用这个函数，并传递城市名和国家名\n",
    "describe_city('Reykjavik')\n",
    "\n",
    "# 调用这个函数，只传递城市名\n",
    "describe_city('Akureyri')\n",
    "\n",
    "# 调用这个函数，并传递非默认的城市名和国家名\n",
    "describe_city(city='Shanghai', country='China')"
   ]
  },
  {
   "cell_type": "markdown",
   "id": "545a4237-a533-4434-bdb4-86c040f354d6",
   "metadata": {},
   "source": [
    "## 8.3 返回值"
   ]
  },
  {
   "cell_type": "code",
   "execution_count": 3,
   "id": "102f48e1-6382-46a7-ab2f-c6a5ddfcb42c",
   "metadata": {},
   "outputs": [
    {
     "name": "stdout",
     "output_type": "stream",
     "text": [
      "Jimi Hendrix\n"
     ]
    }
   ],
   "source": [
    "#8.3.1 返回简单的值\n",
    "def get_formatted_name(first_name,last_name):\n",
    "    full_name=f\"{first_name} {last_name}\"\n",
    "    return full_name.title()\n",
    "\n",
    "musician=get_formatted_name('jimi','hendrix')\n",
    "print(musician)"
   ]
  },
  {
   "cell_type": "code",
   "execution_count": 4,
   "id": "644274de-eee3-459c-b70c-0bc5ccd17071",
   "metadata": {},
   "outputs": [
    {
     "name": "stdout",
     "output_type": "stream",
     "text": [
      "John Lee Hooker\n"
     ]
    }
   ],
   "source": [
    "#8.3.2 让实参变成可选的\n",
    "def get_formatted_name(first_name, middle_name, last_name):\n",
    "    \"\"\"返回标准格式的姓名\"\"\"\n",
    "    full_name = f\"{first_name} {middle_name} {last_name}\"\n",
    "    return full_name.title()\n",
    "\n",
    "musician = get_formatted_name('john', 'lee', 'hooker')\n",
    "print(musician)"
   ]
  },
  {
   "cell_type": "code",
   "execution_count": 10,
   "id": "b63070c5-8aee-4b02-ae40-0fa96881ecfe",
   "metadata": {},
   "outputs": [
    {
     "name": "stdout",
     "output_type": "stream",
     "text": [
      "Jimi Hendrix\n",
      "John Lee Hooker\n"
     ]
    }
   ],
   "source": [
    "def get_formatted_name(first_name, last_name, middle_name=''):#将middle_name指定默认值\n",
    "    if middle_name:\n",
    "          full_name = f\"{first_name} {middle_name} {last_name}\"\n",
    "    else:\n",
    "          full_name = f\"{first_name} {last_name}\"\n",
    "    return full_name.title()\n",
    "\n",
    "musician = get_formatted_name('jimi', 'hendrix')\n",
    "print(musician)\n",
    "\n",
    "musician = get_formatted_name('john', 'hooker', 'lee')\n",
    "print(musician)"
   ]
  },
  {
   "cell_type": "code",
   "execution_count": 12,
   "id": "aed2d53c-8cd1-4e8f-b813-279bc341bd38",
   "metadata": {},
   "outputs": [
    {
     "name": "stdout",
     "output_type": "stream",
     "text": [
      "{'first': 'jimi', 'last': 'hendrix'}\n"
     ]
    }
   ],
   "source": [
    "#8.3.3 返回字典\n",
    "def build_person(first_name,last_name):\n",
    "    \"\"\"返回一个字典，其中包含有关一个人的信息\"\"\"\n",
    "    person={'first': first_name,'last':last_name}\n",
    "    return person\n",
    "\n",
    "musician=build_person('jimi','hendrix')\n",
    "print(musician)"
   ]
  },
  {
   "cell_type": "code",
   "execution_count": 13,
   "id": "cfcf0d63-7b54-4a7e-af8b-ed3f646470cb",
   "metadata": {},
   "outputs": [
    {
     "name": "stdout",
     "output_type": "stream",
     "text": [
      "{'first': 'jimi', 'last': 'hendrix', 'age': 27}\n"
     ]
    }
   ],
   "source": [
    "#修改存储年龄\n",
    "def build_person(first_name,last_name,age=None):\n",
    "    person={'first':first_name,'last':last_name}\n",
    "    if age:\n",
    "        person['age']=age\n",
    "    return person\n",
    "\n",
    "musician=build_person('jimi','hendrix',age=27)\n",
    "print(musician)"
   ]
  },
  {
   "cell_type": "code",
   "execution_count": 15,
   "id": "160f85b8-60aa-4cb5-b95a-1ff201b14460",
   "metadata": {},
   "outputs": [
    {
     "name": "stdout",
     "output_type": "stream",
     "text": [
      "\n",
      "Please tell me your name:\n",
      "(enter 'q' at any time to quit)\n"
     ]
    },
    {
     "name": "stdin",
     "output_type": "stream",
     "text": [
      "First name:  q\n"
     ]
    }
   ],
   "source": [
    "def get_formatted_name(first_name, last_name):\n",
    "    \"\"\"返回规范格式的姓名\"\"\"\n",
    "    full_name = f\"{first_name} {last_name}\"\n",
    "    return full_name.title()\n",
    "\n",
    "while True:\n",
    "    print(\"\\nPlease tell me your name:\")\n",
    "    print(\"(enter 'q' at any time to quit)\")\n",
    "\n",
    "    f_name = input(\"First name: \")\n",
    "    if f_name == 'q':\n",
    "        break\n",
    "\n",
    "    l_name = input(\"Last name: \")\n",
    "    if l_name == 'q':\n",
    "        break\n",
    "\n",
    "    formatted_name = get_formatted_name(f_name, l_name)\n",
    "    print(f\"\\nHello, {formatted_name}!\")"
   ]
  },
  {
   "cell_type": "code",
   "execution_count": 16,
   "id": "ae609e56-137c-4895-890b-cb0ecd78cfa3",
   "metadata": {},
   "outputs": [
    {
     "name": "stdout",
     "output_type": "stream",
     "text": [
      "Shanghai, China\n"
     ]
    }
   ],
   "source": [
    "#练习8.6 城市名\n",
    "def city_country(city, country):\n",
    "    \"\"\"返回格式为'City, Country'的字符串\"\"\"\n",
    "    return f\"{city}, {country}\"\n",
    "\n",
    "one=city_country('Shanghai','China')\n",
    "print(one)\n",
    "\n"
   ]
  },
  {
   "cell_type": "code",
   "execution_count": 17,
   "id": "0ed0da1b-a49a-458c-900f-9b4bf27755a4",
   "metadata": {},
   "outputs": [
    {
     "name": "stdout",
     "output_type": "stream",
     "text": [
      "{'artist': 'Adele', 'album_title': '25'}\n",
      "{'artist': 'Taylor Swift', 'album_title': 'Reputation'}\n",
      "{'artist': 'Ed Sheeran', 'album_title': 'Divide', 'tracks': 16}\n"
     ]
    }
   ],
   "source": [
    "#练习8.7:专辑\n",
    "def make_album(artist, album_title, tracks=None):\n",
    "    \"\"\"创建一个包含音乐专辑信息的字典，包括歌手、专辑名和可选的歌曲数\"\"\"\n",
    "    album_dict = {\n",
    "        'artist': artist,\n",
    "        'album_title': album_title,\n",
    "    }\n",
    "    if tracks:\n",
    "        album_dict['tracks'] = tracks\n",
    "    return album_dict\n",
    "\n",
    "# 测试函数\n",
    "print(make_album(\"Adele\", \"25\"))\n",
    "print(make_album(\"Taylor Swift\", \"Reputation\"))\n",
    "print(make_album(\"Ed Sheeran\", \"Divide\", tracks=16))\n"
   ]
  },
  {
   "cell_type": "code",
   "execution_count": null,
   "id": "61323e75-c8ed-4e07-bfab-a389eefd7b5e",
   "metadata": {},
   "outputs": [],
   "source": [
    "#练习8.8 用户的专辑\n",
    "def get_user_album():\n",
    "    \"\"\"通过用户输入获取专辑信息，并打印该专辑的字典\"\"\"\n",
    "    while True:\n",
    "        print(\"\\nPlease enter the artist and album information:\")\n",
    "        print(\"(enter 'q' at any time to quit)\")\n",
    "        \n",
    "        artist_name = input(\"Artist Name: \")\n",
    "        if artist_name == 'q':\n",
    "            break\n",
    "        album_name = input(\"Album Name: \")\n",
    "        if album_name == 'q':\n",
    "            break\n",
    "        track_count = input(\"Track Count (optional): \")\n",
    "        if track_count == 'q':\n",
    "            break\n",
    "        \n",
    "        track_count = int(track_count) if track_count.isdigit() else None\n",
    "        album = make_album(artist_name, album_name, track_count)\n",
    "        print(album)\n",
    "\n",
    "# 调用函数\n",
    "get_user_album()\n"
   ]
  },
  {
   "cell_type": "markdown",
   "id": "9e7acd18-e8a7-4a5f-939d-ec1d26e9a6e6",
   "metadata": {},
   "source": [
    "## 8.4 传递列表"
   ]
  },
  {
   "cell_type": "code",
   "execution_count": 20,
   "id": "4e85b3eb-8ddb-472b-8b83-577ffd9e8f87",
   "metadata": {},
   "outputs": [
    {
     "name": "stdout",
     "output_type": "stream",
     "text": [
      "Hello,Hannah\n"
     ]
    }
   ],
   "source": [
    "def greet_users(names):\n",
    "    for name in names:\n",
    "        msg=f\"Hello,{name.title()}\"\n",
    "        return msg\n",
    "\n",
    "usernames=['hannah','ty','margot']\n",
    "musician=greet_users(usernames)\n",
    "print(musician)"
   ]
  },
  {
   "cell_type": "code",
   "execution_count": null,
   "id": "2a258e9d-4b73-4f79-90aa-c0c7e51877ef",
   "metadata": {},
   "outputs": [],
   "source": [
    "#这样子问题出在哪？"
   ]
  },
  {
   "cell_type": "code",
   "execution_count": 24,
   "id": "02b83a1a-5327-4752-bcdc-318ea44f912d",
   "metadata": {},
   "outputs": [
    {
     "name": "stdout",
     "output_type": "stream",
     "text": [
      "Printing model :dodecahedron\n",
      "Printing model :robot pendant\n",
      "Printing model :phone case\n",
      "\n",
      "The following models have been printed:\n",
      "dodecahedron\n",
      "robot pendant\n",
      "phone case\n"
     ]
    }
   ],
   "source": [
    "#8.4.1 在函数中修改列表\n",
    "# 首先创建一个列表，其中包含一些要打印的设计\n",
    "unprinted_designs = ['phone case', 'robot pendant', 'dodecahedron']\n",
    "completed_models = []\n",
    "\n",
    "# 模拟打印每个设计，直到没有未打印的设计为止\n",
    "# 打印每个设计后，都将其移到列表 completed_models 中\n",
    "while unprinted_designs:\n",
    "    current_design=unprinted_designs.pop()\n",
    "    print(f\"Printing model :{current_design}\"#)\n",
    "    completed_models.append(current_design)\n",
    "\n",
    "#显示打印好的所有模型\n",
    "print(\"\\nThe following models have been printed:\")\n",
    "for completed_model in completed_models:\n",
    "    print(completed_model)"
   ]
  },
  {
   "cell_type": "code",
   "execution_count": 30,
   "id": "9370f577-e9e0-4529-b0f5-76efbf69be67",
   "metadata": {},
   "outputs": [
    {
     "name": "stdout",
     "output_type": "stream",
     "text": [
      "Printing model:dodecahedron\n",
      "Printing model:robot pendant\n",
      "Printing model:phone case\n",
      "\n",
      "The following models have been printed:\n",
      "dodecahedron\n",
      "robot pendant\n",
      "phone case\n"
     ]
    }
   ],
   "source": [
    "#可以重新组织这些代码，编写两个函数，让每个都做一件具体的工作。大部分代码与原来相同，只是结构更为合理。第一个函数负责处理打印设计的工作，第二个概述打印了哪些设计：\n",
    "def print_models(unprinted_designs,completed_models):\n",
    "    \"\"\"\n",
    "    模拟打印每个设计，直到没有未打印的设计为止\n",
    "    打印每个设计后，都将其已到列表completed_models中\n",
    "    \"\"\"\n",
    "    while unprinted_designs:\n",
    "        current_design=unprinted_designs.pop()\n",
    "        print(f\"Printing model:{current_design}\")\n",
    "        completed_models.append(current_design)\n",
    "\n",
    "def show_completed_models(completed_models):\n",
    "    \"\"\"显示所有打印好的模型\"\"\"\n",
    "    print(\"\\nThe following models have been printed:\")\n",
    "    for completed_model in completed_models:\n",
    "        print(completed_model)\n",
    "\n",
    "unprinted_designs=['phone case','robot pendant','dodecahedron']\n",
    "completed_models=[]\n",
    "\n",
    "print_models(unprinted_designs,completed_models)\n",
    "show_completed_models(completed_models)"
   ]
  },
  {
   "cell_type": "code",
   "execution_count": null,
   "id": "ff56b634-4cd0-4986-8851-f2db49e9c0fc",
   "metadata": {},
   "outputs": [],
   "source": [
    "#8.4.2 禁止函数修改列表\n",
    "#函数所做的任何修改都只影响副本，而丝毫不影响原始列表。\n",
    "function_name(list_name[:])"
   ]
  },
  {
   "cell_type": "markdown",
   "id": "e4c9a924-5320-4120-92b3-1f6d5432ccfc",
   "metadata": {},
   "source": [
    "## 动手试一试"
   ]
  },
  {
   "cell_type": "code",
   "execution_count": 31,
   "id": "2ec7d7f7-c22c-42bf-818f-aba3684bb462",
   "metadata": {},
   "outputs": [
    {
     "name": "stdout",
     "output_type": "stream",
     "text": [
      "Hello\n",
      "How are you?\n",
      "Goodbye\n"
     ]
    }
   ],
   "source": [
    "#练习8.9 消息\n",
    "def show_messages(messages):\n",
    "    \"\"\"打印消息列表中的每条消息\"\"\"\n",
    "    for message in messages:\n",
    "        print(message)\n",
    "\n",
    "messages = [\"Hello\", \"How are you?\", \"Goodbye\"]\n",
    "show_messages(messages)\n"
   ]
  },
  {
   "cell_type": "code",
   "execution_count": 33,
   "id": "1e1e0e1c-52b3-4cfd-8261-d757ee4a5655",
   "metadata": {},
   "outputs": [
    {
     "name": "stdout",
     "output_type": "stream",
     "text": [
      "Sending message: Goodbye\n",
      "Sending message: How are you?\n",
      "Sending message: Hello\n",
      "\n",
      "Sent Messages:\n",
      "Goodbye\n",
      "How are you?\n",
      "Hello\n"
     ]
    }
   ],
   "source": [
    "def send_messages(messages, sent_messages):\n",
    "    \"\"\"\n",
    "    将每条消息打印出来并移到已发送消息列表中\n",
    "    \"\"\"\n",
    "    while messages:\n",
    "        current_message = messages.pop()\n",
    "        print(f\"Sending message: {current_message}\")\n",
    "        sent_messages.append(current_message)\n",
    "\n",
    "messages = [\"Hello\", \"How are you?\", \"Goodbye\"]\n",
    "sent_messages = []\n",
    "send_messages(messages, sent_messages)\n",
    "\n",
    "print(\"\\nSent Messages:\")\n",
    "for message in sent_messages:\n",
    "    print(message)\n"
   ]
  },
  {
   "cell_type": "code",
   "execution_count": 34,
   "id": "07fc1ad8-10f4-409f-8fc7-de7c6234af35",
   "metadata": {},
   "outputs": [
    {
     "name": "stdout",
     "output_type": "stream",
     "text": [
      "Sending message: Hello\n",
      "Sending message: How are you?\n",
      "Sending message: Goodbye\n",
      "\n",
      "Original Messages:\n",
      "Hello\n",
      "How are you?\n",
      "Goodbye\n",
      "\n",
      "Sent Messages:\n",
      "Hello\n",
      "How are you?\n",
      "Goodbye\n"
     ]
    }
   ],
   "source": [
    "#练习 8.11 消息归档\n",
    "def send_messages(messages, sent_messages):\n",
    "    \"\"\"\n",
    "    将每条消息打印出来并移到已发送消息列表中\n",
    "    \"\"\"\n",
    "    while messages:\n",
    "        current_message = messages.pop(0)\n",
    "        print(f\"Sending message: {current_message}\")\n",
    "        sent_messages.append(current_message)\n",
    "\n",
    "messages = [\"Hello\", \"How are you?\", \"Goodbye\"]\n",
    "sent_messages = []\n",
    "send_messages(messages[:], sent_messages)  # 传递消息列表的副本\n",
    "\n",
    "print(\"\\nOriginal Messages:\")\n",
    "for message in messages:\n",
    "    print(message)\n",
    "\n",
    "print(\"\\nSent Messages:\")\n",
    "for message in sent_messages:\n",
    "    print(message)\n"
   ]
  },
  {
   "cell_type": "markdown",
   "id": "34d1189a-0fe9-44b3-a1d8-9af0fbb4c93f",
   "metadata": {},
   "source": [
    "# 8.5 传递任意数量的实参\n"
   ]
  },
  {
   "cell_type": "code",
   "execution_count": 35,
   "id": "dd907e89-4d75-400e-aec7-431fa1d89b3b",
   "metadata": {},
   "outputs": [
    {
     "name": "stdout",
     "output_type": "stream",
     "text": [
      "('pepperoni',)\n",
      "('mushrooms', 'green peppers', 'extra cheese')\n"
     ]
    }
   ],
   "source": [
    "def make_pizza(*toppings):\n",
    "    \"\"\"打印顾客点的所有配料\"\"\"\n",
    "    print(toppings)\n",
    "\n",
    "make_pizza('pepperoni')\n",
    "make_pizza('mushrooms', 'green peppers', 'extra cheese')"
   ]
  },
  {
   "cell_type": "code",
   "execution_count": 36,
   "id": "a64efc78-a5a6-4712-9005-3d56f890df7c",
   "metadata": {},
   "outputs": [
    {
     "name": "stdout",
     "output_type": "stream",
     "text": [
      "\n",
      "Making a pizza with the following toppings:\n",
      "- pepperoni\n",
      "\n",
      "Making a pizza with the following toppings:\n",
      "- mushrooms\n",
      "- green peppers\n",
      "- extra cheese\n"
     ]
    }
   ],
   "source": [
    "def make_pizza(*toppings):\n",
    "    \"\"\"概述要制作的比萨\"\"\"\n",
    "    print(\"\\nMaking a pizza with the following toppings:\")\n",
    "    for topping in toppings:\n",
    "        print(f\"- {topping}\")\n",
    "\n",
    "make_pizza('pepperoni')\n",
    "make_pizza('mushrooms', 'green peppers', 'extra cheese')"
   ]
  },
  {
   "cell_type": "code",
   "execution_count": 37,
   "id": "9214ac39-c26e-4a3b-a86c-54cb1f355a11",
   "metadata": {},
   "outputs": [
    {
     "name": "stdout",
     "output_type": "stream",
     "text": [
      "\n",
      "Making a 16-inch pizza with the following toppings:\n",
      "- pepperoni\n",
      "\n",
      "Making a 12-inch pizza with the following toppings:\n",
      "- mushrooms\n",
      "- green peppers\n",
      "- extra cheese\n"
     ]
    }
   ],
   "source": [
    "#8.5.1 结合使用位置实参和任意数量的实参\n",
    "def make_pizza(size, *toppings):\n",
    "    \"\"\"概述要制作的比萨\"\"\"\n",
    "    print(f\"\\nMaking a {size}-inch pizza with the following toppings:\")\n",
    "    for topping in toppings:\n",
    "        print(f\"- {topping}\")\n",
    "\n",
    "make_pizza(16, 'pepperoni')\n",
    "make_pizza(12, 'mushrooms', 'green peppers', 'extra cheese')"
   ]
  },
  {
   "cell_type": "code",
   "execution_count": 38,
   "id": "208269ab-6a3b-4543-a10a-8d814fa79422",
   "metadata": {},
   "outputs": [
    {
     "name": "stdout",
     "output_type": "stream",
     "text": [
      "{'location': 'princeton', 'field': 'physics', 'first_name': 'albert', 'last_name': 'einstein'}\n"
     ]
    }
   ],
   "source": [
    "#8.5.2 使用任意数量的关键字实参\n",
    "def build_profile(first,last,**user_info):\n",
    "    \"\"\"创建一个字典，其中包含我们知道的有关用户的一切\"\"\"\n",
    "    user_info['first_name']=first\n",
    "    user_info['last_name']=last\n",
    "    return user_info\n",
    "\n",
    "user_profile=build_profile('albert','einstein',location='princeton',field='physics')\n",
    "print(user_profile)"
   ]
  },
  {
   "cell_type": "markdown",
   "id": "c6f0c654-87b8-43c5-b67d-68e8d3eb5373",
   "metadata": {},
   "source": [
    "## 动手试一试"
   ]
  },
  {
   "cell_type": "code",
   "execution_count": 39,
   "id": "22e6e13d-1a4b-41ab-8183-05aef0bd2801",
   "metadata": {},
   "outputs": [
    {
     "name": "stdout",
     "output_type": "stream",
     "text": [
      "\n",
      "Making a sandwich with the following ingredients:\n",
      "- ham\n",
      "- cheese\n",
      "- tomato\n",
      "\n",
      "Making a sandwich with the following ingredients:\n",
      "- turkey\n",
      "- apple slices\n",
      "- honey mustard\n",
      "\n",
      "Making a sandwich with the following ingredients:\n",
      "- peanut butter\n",
      "- strawberry jam\n"
     ]
    }
   ],
   "source": [
    "#练习8.12:三明治\n",
    "def make_sandwich(*ingredients):\n",
    "    \"\"\"接受顾客要添加的食材，并概述三明治内容\"\"\"\n",
    "    print(\"\\nMaking a sandwich with the following ingredients:\")\n",
    "    for ingredient in ingredients:\n",
    "        print(f\"- {ingredient}\")\n",
    "\n",
    "# 调用函数三次，每次提供不同数量的实参\n",
    "make_sandwich('ham', 'cheese', 'tomato')\n",
    "make_sandwich('turkey', 'apple slices', 'honey mustard')\n",
    "make_sandwich('peanut butter', 'strawberry jam')\n"
   ]
  },
  {
   "cell_type": "code",
   "execution_count": 40,
   "id": "4b99198f-2235-4857-8dff-fc633773b697",
   "metadata": {},
   "outputs": [
    {
     "name": "stdout",
     "output_type": "stream",
     "text": [
      "{'location': 'California', 'field': 'Engineering', 'hobby': 'Hiking', 'first_name': 'John', 'last_name': 'Doe'}\n"
     ]
    }
   ],
   "source": [
    "#练习8.13 用户简介\n",
    "def build_profile(first, last, **user_info):\n",
    "    \"\"\"创建一个用户简介字典，包含我们知道的关于用户的一切\"\"\"\n",
    "    user_info['first_name'] = first\n",
    "    user_info['last_name'] = last\n",
    "    return user_info\n",
    "\n",
    "# 调用函数，创建一个用户简介\n",
    "user_profile = build_profile('John', 'Doe',\n",
    "                             location='California',\n",
    "                             field='Engineering',\n",
    "                             hobby='Hiking')\n",
    "print(user_profile)\n"
   ]
  },
  {
   "cell_type": "code",
   "execution_count": 41,
   "id": "cd2401ae-cfcc-4edd-82f5-1a4bbb3f4c33",
   "metadata": {},
   "outputs": [
    {
     "name": "stdout",
     "output_type": "stream",
     "text": [
      "{'color': 'blue', 'tow_package': True, 'manufacturer': 'subaru', 'model': 'outback'}\n"
     ]
    }
   ],
   "source": [
    "#练习8.14 汽车\n",
    "def car_info(manufacturer, model, **other_info):\n",
    "    \"\"\"存储关于一辆汽车的信息\"\"\"\n",
    "    other_info['manufacturer'] = manufacturer\n",
    "    other_info['model'] = model\n",
    "    return other_info\n",
    "\n",
    "# 调用函数，提供必要信息和其他选项\n",
    "car = car_info('subaru', 'outback', color='blue', tow_package=True)\n",
    "print(car)\n"
   ]
  },
  {
   "cell_type": "markdown",
   "id": "7c2dd62f-f468-4e30-aebb-8cb51457e4f9",
   "metadata": {},
   "source": [
    "## 8.6 将函数存储在模版中"
   ]
  },
  {
   "cell_type": "code",
   "execution_count": null,
   "id": "9eacfd92-a57b-416d-b65b-3bce29d91428",
   "metadata": {},
   "outputs": [],
   "source": [
    "#8.6.1 导入整个模块\n",
    "def make_pizza(size, *toppings):\n",
    "    \"\"\"概述要制作的比萨\"\"\"\n",
    "    print(f\"\\nMaking a {size}-inch pizza with the following toppings:\")\n",
    "    for topping in toppings:\n",
    "        print(f\"- {topping}\")"
   ]
  },
  {
   "cell_type": "code",
   "execution_count": 46,
   "id": "8beb2361-38a3-4666-b8c4-6b22329ae778",
   "metadata": {},
   "outputs": [
    {
     "ename": "ModuleNotFoundError",
     "evalue": "No module named 'pizza'",
     "output_type": "error",
     "traceback": [
      "\u001b[0;31m---------------------------------------------------------------------------\u001b[0m",
      "\u001b[0;31mModuleNotFoundError\u001b[0m                       Traceback (most recent call last)",
      "Cell \u001b[0;32mIn[46], line 1\u001b[0m\n\u001b[0;32m----> 1\u001b[0m \u001b[38;5;28;01mimport\u001b[39;00m \u001b[38;5;21;01mpizza\u001b[39;00m\n\u001b[1;32m      2\u001b[0m pizza\u001b[38;5;241m.\u001b[39mmake_pizza(\u001b[38;5;241m16\u001b[39m, \u001b[38;5;124m'\u001b[39m\u001b[38;5;124mpepperoni\u001b[39m\u001b[38;5;124m'\u001b[39m)\n\u001b[1;32m      3\u001b[0m pizza\u001b[38;5;241m.\u001b[39mmake_pizza(\u001b[38;5;241m12\u001b[39m, \u001b[38;5;124m'\u001b[39m\u001b[38;5;124mmushrooms\u001b[39m\u001b[38;5;124m'\u001b[39m, \u001b[38;5;124m'\u001b[39m\u001b[38;5;124mgreen peppers\u001b[39m\u001b[38;5;124m'\u001b[39m, \u001b[38;5;124m'\u001b[39m\u001b[38;5;124mextra cheese\u001b[39m\u001b[38;5;124m'\u001b[39m)\n",
      "\u001b[0;31mModuleNotFoundError\u001b[0m: No module named 'pizza'"
     ]
    }
   ],
   "source": [
    "import pizza\n",
    "pizza.make_pizza(16, 'pepperoni')\n",
    "pizza.make_pizza(12, 'mushrooms', 'green peppers', 'extra cheese')"
   ]
  },
  {
   "cell_type": "code",
   "execution_count": null,
   "id": "b87de006-e168-4f0b-bc5c-d308458f7d00",
   "metadata": {},
   "outputs": [],
   "source": [
    "#8.6.2 导入特定的函数\n",
    "from module_name import function_0, function_1, function_2"
   ]
  },
  {
   "cell_type": "code",
   "execution_count": null,
   "id": "2e3ef3b9-2642-463a-bc00-5ec5af1bce2a",
   "metadata": {},
   "outputs": [],
   "source": [
    "from pizza import make_pizza\n",
    "\n",
    "make_pizza(16, 'pepperoni')\n",
    "make_pizza(12, 'mushrooms', 'green peppers', 'extra cheese')"
   ]
  },
  {
   "cell_type": "code",
   "execution_count": null,
   "id": "06dace1e-6e54-4f2f-ae0b-b4e60fcf1a2e",
   "metadata": {},
   "outputs": [],
   "source": [
    "#8.6.3 使用as给函数制定别名\n",
    "from pizza import make_pizza as mp\n",
    "\n",
    "mp(16, 'pepperoni')\n",
    "mp(12, 'mushrooms', 'green peppers', 'extra cheese')"
   ]
  },
  {
   "cell_type": "code",
   "execution_count": null,
   "id": "44520d28-c7ab-4e90-af40-f5c6c148868a",
   "metadata": {},
   "outputs": [],
   "source": [
    "#指定别名的通用语法如下：\n",
    "from module_name import function_name as fn"
   ]
  },
  {
   "cell_type": "code",
   "execution_count": null,
   "id": "37acdae3-d172-40e9-83d6-7a63b31bcaf3",
   "metadata": {},
   "outputs": [],
   "source": [
    "#8.6.4 使用as给模版指定别名\n",
    "import pizza as p\n",
    "\n",
    "p.make_pizza(16, 'pepperoni')\n",
    "p.make_pizza(12, 'mushrooms', 'green peppers', 'extra cheese')\n",
    "#import pizza as p\n",
    "#给模块指定别名的通用语法如下：\n",
    "import module_name as mn"
   ]
  },
  {
   "cell_type": "code",
   "execution_count": null,
   "id": "84d68490-f03b-4133-bc89-ca913a51b9a7",
   "metadata": {},
   "outputs": [],
   "source": [
    "#8.6.5 导入模块中的所有函数\n",
    "from pizza import *\n",
    "\n",
    "make_pizza(16, 'pepperoni')\n",
    "make_pizza(12, 'mushrooms', 'green peppers', 'extra cheese')"
   ]
  },
  {
   "cell_type": "markdown",
   "id": "c4183076-7b23-42e7-ab5b-065488e84ddb",
   "metadata": {},
   "source": [
    "## 8.7 函数编写指南"
   ]
  },
  {
   "cell_type": "code",
   "execution_count": null,
   "id": "af6e7fbd-0a5c-406c-8916-38fb44b684ca",
   "metadata": {},
   "outputs": [],
   "source": [
    "#在给形参指定默认值时，等号两边不要有空格\n",
    "def function_name(parameter_0, parameter_1='default value')\n",
    "#函数调用中的关键字实参也应遵循这种约定：\n",
    "function_name(value_0, parameter_1='value')\n",
    "#如果程序或模块包含多个函数，可使用两个空行将相邻的函数分开。这样将更容易知道前一个函数到什么地方结束，下一个函数从什么地方开始。所有的 import 语句都应放在文件开头。唯一的例外是，你要在文件开头使用注释来描述整个程序"
   ]
  },
  {
   "cell_type": "markdown",
   "id": "797be2d0-21c9-4b95-9e3f-eeb7e2fa7a32",
   "metadata": {},
   "source": [
    "## 动手试一试"
   ]
  },
  {
   "cell_type": "code",
   "execution_count": 47,
   "id": "1b590788-4023-45e7-92a5-68be123662e0",
   "metadata": {},
   "outputs": [
    {
     "ename": "ModuleNotFoundError",
     "evalue": "No module named 'printing_functions'",
     "output_type": "error",
     "traceback": [
      "\u001b[0;31m---------------------------------------------------------------------------\u001b[0m",
      "\u001b[0;31mModuleNotFoundError\u001b[0m                       Traceback (most recent call last)",
      "Cell \u001b[0;32mIn[47], line 20\u001b[0m\n\u001b[1;32m     17\u001b[0m         \u001b[38;5;28mprint\u001b[39m(completed_model)\n\u001b[1;32m     18\u001b[0m \u001b[38;5;66;03m# printing_models.py\u001b[39;00m\n\u001b[0;32m---> 20\u001b[0m \u001b[38;5;28;01mfrom\u001b[39;00m \u001b[38;5;21;01mprinting_functions\u001b[39;00m \u001b[38;5;28;01mimport\u001b[39;00m print_models, show_completed_models\n\u001b[1;32m     22\u001b[0m \u001b[38;5;66;03m# ... 保留原有代码，使用 print_models 和 show_completed_models ...\u001b[39;00m\n\u001b[1;32m     24\u001b[0m unprinted_designs \u001b[38;5;241m=\u001b[39m [\u001b[38;5;124m'\u001b[39m\u001b[38;5;124mphone case\u001b[39m\u001b[38;5;124m'\u001b[39m, \u001b[38;5;124m'\u001b[39m\u001b[38;5;124mrobot pendant\u001b[39m\u001b[38;5;124m'\u001b[39m, \u001b[38;5;124m'\u001b[39m\u001b[38;5;124mdodecahedron\u001b[39m\u001b[38;5;124m'\u001b[39m]\n",
      "\u001b[0;31mModuleNotFoundError\u001b[0m: No module named 'printing_functions'"
     ]
    }
   ],
   "source": [
    "#练习8.15 打印模型\n",
    "# printing_models.py\n",
    "def print_models(unprinted_designs, completed_models):\n",
    "    \"\"\"\n",
    "    模拟打印每个设计，直到没有未打印的设计为止。\n",
    "    打印每个设计后，都将其移到列表completed_models中。\n",
    "    \"\"\"\n",
    "    while unprinted_designs:\n",
    "        current_design = unprinted_designs.pop()\n",
    "        print(f\"Printing model: {current_design}\")\n",
    "        completed_models.append(current_design)\n",
    "\n",
    "def show_completed_models(completed_models):\n",
    "    \"\"\"显示打印好的所有模型。\"\"\"\n",
    "    print(\"\\nThe following models have been printed:\")\n",
    "    for completed_model in completed_models:\n",
    "        print(completed_model)\n",
    "# printing_models.py\n",
    "\n",
    "from printing_functions import print_models, show_completed_models\n",
    "\n",
    "# ... 保留原有代码，使用 print_models 和 show_completed_models ...\n",
    "\n",
    "unprinted_designs = ['phone case', 'robot pendant', 'dodecahedron']\n",
    "completed_models = []\n",
    "\n",
    "print_models(unprinted_designs, completed_models)\n",
    "show_completed_models(completed_models)\n"
   ]
  },
  {
   "cell_type": "code",
   "execution_count": null,
   "id": "aca14d83-607c-44a5-8c24-e998847bf776",
   "metadata": {},
   "outputs": [],
   "source": [
    "#练习8.16\n",
    "# make_sandwich.py\n",
    "\n",
    "def make_sandwich(*ingredients):\n",
    "    \"\"\"打印顾客的三明治配料。\"\"\"\n",
    "    print(\"\\nI'll make a great sandwich with the following ingredients:\")\n",
    "    for ingredient in ingredients:\n",
    "        print(f\" - {ingredient}\")\n",
    "#导入整个模块:\n",
    "import sandwich_functions\n",
    "sandwich_functions.make_sandwich('ham', 'cheese', 'tomato')\n",
    "#导入特定的函数:\n",
    "from sandwich_functions import make_sandwich\n",
    "make_sandwich('turkey', 'lettuce', 'mustard')\n",
    "#使用 as 给函数指定别名:\n",
    "from sandwich_functions import make_sandwich as ms\n",
    "ms('peanut butter', 'jelly')\n",
    "#使用 as 给模块指定别名:\n",
    "import sandwich_functions as sf\n",
    "sf.make_sandwich('bacon', 'lettuce', 'tomato')\n",
    "#导入模块中的所有函数:\n",
    "from sandwich_functions import *\n",
    "make_sandwich('steak', 'cheese', 'onions', 'peppers')\n"
   ]
  }
 ],
 "metadata": {
  "kernelspec": {
   "display_name": "Python 3 (ipykernel)",
   "language": "python",
   "name": "python3"
  },
  "language_info": {
   "codemirror_mode": {
    "name": "ipython",
    "version": 3
   },
   "file_extension": ".py",
   "mimetype": "text/x-python",
   "name": "python",
   "nbconvert_exporter": "python",
   "pygments_lexer": "ipython3",
   "version": "3.11.7"
  }
 },
 "nbformat": 4,
 "nbformat_minor": 5
}
