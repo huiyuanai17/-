{
 "cells": [
  {
   "cell_type": "markdown",
   "id": "404257a1",
   "metadata": {},
   "source": [
    "# 第5章 if语句"
   ]
  },
  {
   "cell_type": "markdown",
   "id": "4b129785",
   "metadata": {},
   "source": [
    "## 5.1 一个简单的事例"
   ]
  },
  {
   "cell_type": "code",
   "execution_count": 8,
   "id": "1bd1c962",
   "metadata": {},
   "outputs": [
    {
     "name": "stdout",
     "output_type": "stream",
     "text": [
      "Audi\n",
      "BMW\n",
      "Subaru\n",
      "Toyota\n"
     ]
    }
   ],
   "source": [
    "cars=['audi','bmw','subaru','toyota']\n",
    "for car in cars:\n",
    "    if car == 'bmw':\n",
    "        print(car.upper())\n",
    "    else:\n",
    "        print(car.title())"
   ]
  },
  {
   "cell_type": "markdown",
   "id": "794202ef",
   "metadata": {},
   "source": [
    "## 5.2 条件测试"
   ]
  },
  {
   "cell_type": "code",
   "execution_count": null,
   "id": "b3d78cdc",
   "metadata": {},
   "outputs": [],
   "source": [
    "#5.2.1 检查是否相等"
   ]
  },
  {
   "cell_type": "code",
   "execution_count": 13,
   "id": "409e445c",
   "metadata": {},
   "outputs": [
    {
     "ename": "SyntaxError",
     "evalue": "invalid syntax (4157600446.py, line 1)",
     "output_type": "error",
     "traceback": [
      "\u001b[1;36m  Cell \u001b[1;32mIn[13], line 1\u001b[1;36m\u001b[0m\n\u001b[1;33m    >>>car= 'bmw'\u001b[0m\n\u001b[1;37m    ^\u001b[0m\n\u001b[1;31mSyntaxError\u001b[0m\u001b[1;31m:\u001b[0m invalid syntax\n"
     ]
    }
   ],
   "source": [
    ">>>car= 'bmw'\n",
    ">>>car == 'bmw'"
   ]
  },
  {
   "cell_type": "code",
   "execution_count": 14,
   "id": "3de3d0d0",
   "metadata": {},
   "outputs": [
    {
     "data": {
      "text/plain": [
       "True"
      ]
     },
     "execution_count": 14,
     "metadata": {},
     "output_type": "execute_result"
    }
   ],
   "source": [
    ">>> car= 'bmw'\n",
    ">>> car == 'bmw'"
   ]
  },
  {
   "cell_type": "code",
   "execution_count": 15,
   "id": "6f5e208d",
   "metadata": {},
   "outputs": [
    {
     "data": {
      "text/plain": [
       "False"
      ]
     },
     "execution_count": 15,
     "metadata": {},
     "output_type": "execute_result"
    }
   ],
   "source": [
    ">>> car='audi'\n",
    ">>> car=='bmw'"
   ]
  },
  {
   "cell_type": "code",
   "execution_count": 16,
   "id": "ea33cea0",
   "metadata": {},
   "outputs": [
    {
     "data": {
      "text/plain": [
       "True"
      ]
     },
     "execution_count": 16,
     "metadata": {},
     "output_type": "execute_result"
    }
   ],
   "source": [
    "#5.2.2 如何在检查是否相等时忽略大小写\n",
    ">>> car='Audi'\n",
    ">>> car.lower()=='audi'"
   ]
  },
  {
   "cell_type": "code",
   "execution_count": 17,
   "id": "bffc7b2b",
   "metadata": {},
   "outputs": [
    {
     "name": "stdout",
     "output_type": "stream",
     "text": [
      "Hold the anchovies\n"
     ]
    }
   ],
   "source": [
    "#5.2.3 检查是否不等\n",
    "requested_topping='mushroom'\n",
    "if requested_topping !='anchovies':\n",
    "    print(\"Hold the anchovies\")"
   ]
  },
  {
   "cell_type": "code",
   "execution_count": 20,
   "id": "d35620c8",
   "metadata": {},
   "outputs": [
    {
     "data": {
      "text/plain": [
       "True"
      ]
     },
     "execution_count": 20,
     "metadata": {},
     "output_type": "execute_result"
    }
   ],
   "source": [
    "#5.2.4 数值比较\n",
    "age =18\n",
    "age ==18"
   ]
  },
  {
   "cell_type": "code",
   "execution_count": 19,
   "id": "e3405067",
   "metadata": {},
   "outputs": [
    {
     "name": "stdout",
     "output_type": "stream",
     "text": [
      "That is not the correct answer.Please try again\n"
     ]
    }
   ],
   "source": [
    "answer=17\n",
    "if answer !=42:\n",
    "    print(\"That is not the correct answer.Please try again\")"
   ]
  },
  {
   "cell_type": "code",
   "execution_count": 24,
   "id": "c956ff82",
   "metadata": {},
   "outputs": [
    {
     "data": {
      "text/plain": [
       "False"
      ]
     },
     "execution_count": 24,
     "metadata": {},
     "output_type": "execute_result"
    }
   ],
   "source": [
    "#5.2.5 检查多个条件\n",
    "age_0=22\n",
    "age_1=18\n",
    "age_0>=21 and age_1>=21\n"
   ]
  },
  {
   "cell_type": "code",
   "execution_count": 25,
   "id": "75216985",
   "metadata": {},
   "outputs": [
    {
     "data": {
      "text/plain": [
       "False"
      ]
     },
     "execution_count": 25,
     "metadata": {},
     "output_type": "execute_result"
    }
   ],
   "source": [
    "age_0=22\n",
    "age_1=18\n",
    "(age_0>=21)and(age_1>=21)"
   ]
  },
  {
   "cell_type": "code",
   "execution_count": 26,
   "id": "8be75c33",
   "metadata": {},
   "outputs": [
    {
     "data": {
      "text/plain": [
       "True"
      ]
     },
     "execution_count": 26,
     "metadata": {},
     "output_type": "execute_result"
    }
   ],
   "source": [
    "age_0=22\n",
    "age_1=18\n",
    "age_0>=21 or age_1>=21"
   ]
  },
  {
   "cell_type": "code",
   "execution_count": 30,
   "id": "c8a5e95f",
   "metadata": {},
   "outputs": [
    {
     "data": {
      "text/plain": [
       "True"
      ]
     },
     "execution_count": 30,
     "metadata": {},
     "output_type": "execute_result"
    }
   ],
   "source": [
    "#5.2.6 检查特定的值是否在列表中\n",
    "requested_toppings=['mushrooms','onions','pineapple']\n",
    "'mushrooms'in requested_toppings"
   ]
  },
  {
   "cell_type": "code",
   "execution_count": 31,
   "id": "f8bebf97",
   "metadata": {},
   "outputs": [
    {
     "name": "stdout",
     "output_type": "stream",
     "text": [
      "Marie,you can post a reponse if you wish.\n"
     ]
    }
   ],
   "source": [
    "#5.2.7 检查特定的值是否不在列表中\n",
    "banned_users=['andrew','carolina','david']\n",
    "user='marie'\n",
    "if user not in banned_users:\n",
    "    print(f\"{user.title()},you can post a reponse if you wish.\")"
   ]
  },
  {
   "cell_type": "code",
   "execution_count": null,
   "id": "804ac799",
   "metadata": {},
   "outputs": [],
   "source": [
    "#5.2.8 布尔表达式\n"
   ]
  },
  {
   "cell_type": "markdown",
   "id": "39e854b9",
   "metadata": {},
   "source": [
    "# 5.3 if 语句"
   ]
  },
  {
   "cell_type": "code",
   "execution_count": 1,
   "id": "bf90ac7c",
   "metadata": {},
   "outputs": [
    {
     "name": "stdout",
     "output_type": "stream",
     "text": [
      "You are old enough to vote!\n"
     ]
    }
   ],
   "source": [
    "age=19\n",
    "if age>=18:\n",
    "    print(\"You are old enough to vote!\")"
   ]
  },
  {
   "cell_type": "code",
   "execution_count": 2,
   "id": "807e3cb0",
   "metadata": {},
   "outputs": [
    {
     "name": "stdout",
     "output_type": "stream",
     "text": [
      "You are old enough to vote!\n",
      "Have you registered to vote yet?\n"
     ]
    }
   ],
   "source": [
    "age=19\n",
    "if age>=18:\n",
    "    print(\"You are old enough to vote!\")\n",
    "    print(\"Have you registered to vote yet?\")"
   ]
  },
  {
   "cell_type": "code",
   "execution_count": 4,
   "id": "d386618d",
   "metadata": {},
   "outputs": [
    {
     "name": "stdout",
     "output_type": "stream",
     "text": [
      "Sorry，you are too young to vote.\n",
      "Please register to vote as soon as you turn 18!\n"
     ]
    }
   ],
   "source": [
    "#5.3.2 if-else语句\n",
    "age=17\n",
    "if age>=18:\n",
    "    print(\"You are old enough to votel\")\n",
    "    print(\"Have you registered to vote yet?\")\n",
    "else:\n",
    "    print('Sorry，you are too young to vote.')\n",
    "    print(\"Please register to vote as soon as you turn 18!\")"
   ]
  },
  {
   "cell_type": "code",
   "execution_count": 5,
   "id": "3e9396de",
   "metadata": {},
   "outputs": [
    {
     "name": "stdout",
     "output_type": "stream",
     "text": [
      "Your admission cost is 25.\n"
     ]
    }
   ],
   "source": [
    "#5.3.3 if-elif-else语句\n",
    "age=12\n",
    "if age<4:\n",
    "    print(\"Your admission cost is 0.\")\n",
    "elif age<18:\n",
    "    print(\"Your admission cost is 25.\")\n",
    "else:\n",
    "    print(\"Your admission cost is 40.\")"
   ]
  },
  {
   "cell_type": "code",
   "execution_count": 6,
   "id": "27614142",
   "metadata": {},
   "outputs": [
    {
     "name": "stdout",
     "output_type": "stream",
     "text": [
      "Your admission cost is 25.\n"
     ]
    }
   ],
   "source": [
    "age=12\n",
    "if age<4:\n",
    "    price=0\n",
    "elif age<18:\n",
    "    price=25\n",
    "else:\n",
    "    price=40\n",
    "print(f\"Your admission cost is {price}.\")"
   ]
  },
  {
   "cell_type": "code",
   "execution_count": 13,
   "id": "955907ec",
   "metadata": {},
   "outputs": [
    {
     "name": "stdout",
     "output_type": "stream",
     "text": [
      "Your admission cost is 25.\n"
     ]
    }
   ],
   "source": [
    "#5.3.4 使用多个elif代码块\n",
    "age=12\n",
    "if age<4:\n",
    "    price=0\n",
    "elif age<18:\n",
    "    price=25\n",
    "elif age<60:\n",
    "    price=40\n",
    "else:\n",
    "    price=20\n",
    "    \n",
    "print(f\"Your admission cost is {price}.\")"
   ]
  },
  {
   "cell_type": "code",
   "execution_count": 1,
   "id": "b23b0290",
   "metadata": {},
   "outputs": [
    {
     "name": "stdout",
     "output_type": "stream",
     "text": [
      "Your admission cost is 25.\n"
     ]
    }
   ],
   "source": [
    "#5.3.5 省略else代码块\n",
    "age=12\n",
    "if age<4:\n",
    "    price=0\n",
    "elif age<18:\n",
    "    price=25\n",
    "elif age<65:\n",
    "    price=40\n",
    "elif age>=65:\n",
    "    price=20\n",
    "print(f\"Your admission cost is {price}.\")"
   ]
  },
  {
   "cell_type": "code",
   "execution_count": 2,
   "id": "0e91ef2b-49f2-4d96-be96-6d459ad71db8",
   "metadata": {},
   "outputs": [
    {
     "ename": "SyntaxError",
     "evalue": "unterminated string literal (detected at line 8) (282875198.py, line 8)",
     "output_type": "error",
     "traceback": [
      "\u001b[0;36m  Cell \u001b[0;32mIn[2], line 8\u001b[0;36m\u001b[0m\n\u001b[0;31m    print(\"Adding extra cheese.)\u001b[0m\n\u001b[0m          ^\u001b[0m\n\u001b[0;31mSyntaxError\u001b[0m\u001b[0;31m:\u001b[0m unterminated string literal (detected at line 8)\n"
     ]
    }
   ],
   "source": [
    "#5.3.6 测试多个条件\n",
    "requested_toppings=['mushrooms','extra cheese']\n",
    "if 'mushrooms' in requested_toppings:\n",
    "    print(\"Adding mushrooms.\")\n",
    "if 'pepperoni' in requested_toppings:\n",
    "    print(\"Adding pepperoni.\")\n",
    "if 'extra cheese' in requested_toppings:\n",
    "    print(\"Adding extra cheese.)\n",
    "\n",
    "print(\"\\nFinished making your pizza\")"
   ]
  },
  {
   "cell_type": "code",
   "execution_count": 3,
   "id": "8a9eb4ea-effb-49ea-9e65-62ab9cf87b45",
   "metadata": {},
   "outputs": [
    {
     "name": "stdout",
     "output_type": "stream",
     "text": [
      "Adding mushrooms.\n",
      "Adding extra cheese.\n",
      "\n",
      "Finished making your pizza\n"
     ]
    }
   ],
   "source": [
    "requested_toppings=['mushrooms','extra cheese']\n",
    "if 'mushrooms' in requested_toppings:\n",
    "    print(\"Adding mushrooms.\")\n",
    "if 'pepperoni' in requested_toppings:\n",
    "    print(\"Adding pepperoni.\")\n",
    "if 'extra cheese' in requested_toppings:\n",
    "    print(\"Adding extra cheese.\")\n",
    "\n",
    "print(\"\\nFinished making your pizza\")"
   ]
  },
  {
   "cell_type": "code",
   "execution_count": null,
   "id": "763a2055-2569-4018-acb2-00379c05dde5",
   "metadata": {},
   "outputs": [],
   "source": [
    "#总结：想运行一个代码块 使用if elif else,运行多个则使用一系列独立的if语句"
   ]
  },
  {
   "cell_type": "markdown",
   "id": "3c77f9a6-5eee-4600-9020-339d8fac5ee4",
   "metadata": {},
   "source": [
    "# 5.4 使用if语句处理列表"
   ]
  },
  {
   "cell_type": "code",
   "execution_count": 4,
   "id": "99b4d949-8659-49b2-b8e2-4dcfebff794e",
   "metadata": {},
   "outputs": [
    {
     "ename": "SyntaxError",
     "evalue": "invalid syntax (2459868041.py, line 3)",
     "output_type": "error",
     "traceback": [
      "\u001b[0;36m  Cell \u001b[0;32mIn[4], line 3\u001b[0;36m\u001b[0m\n\u001b[0;31m    if requested_topping==green pepper\u001b[0m\n\u001b[0m                                ^\u001b[0m\n\u001b[0;31mSyntaxError\u001b[0m\u001b[0;31m:\u001b[0m invalid syntax\n"
     ]
    }
   ],
   "source": [
    "#5.4.1 检查特殊元素\n",
    "requested_toppings=['mushrooms','green peppers','extra cheese']\n",
    "for requested_topping in requested_toppings:\n",
    "    if requested_topping==green pepper\n",
    "    print(\"Sorry, we are out of green peppers right now.\")\n",
    "    else:\n",
    "    print(f\"Adding {requested_topping}.\")\n",
    "print(\"\\nFinished making your pizza\")"
   ]
  },
  {
   "cell_type": "code",
   "execution_count": 5,
   "id": "6d23479f-5799-4995-88fa-28417eae69f7",
   "metadata": {},
   "outputs": [
    {
     "ename": "SyntaxError",
     "evalue": "invalid syntax (3806993248.py, line 3)",
     "output_type": "error",
     "traceback": [
      "\u001b[0;36m  Cell \u001b[0;32mIn[5], line 3\u001b[0;36m\u001b[0m\n\u001b[0;31m    if requested_topping==green peppers\u001b[0m\n\u001b[0m                                ^\u001b[0m\n\u001b[0;31mSyntaxError\u001b[0m\u001b[0;31m:\u001b[0m invalid syntax\n"
     ]
    }
   ],
   "source": [
    "requested_toppings=['mushrooms','green peppers','extra cheese']\n",
    "for requested_topping in requested_toppings:\n",
    "    if requested_topping==green peppers\n",
    "    print(\"Sorry, we are out of green peppers right now.\")\n",
    "    else:\n",
    "    print(f\"Adding {requested_topping}.\")\n",
    "print(\"\\nFinished making your pizza\")"
   ]
  },
  {
   "cell_type": "code",
   "execution_count": 6,
   "id": "b13134f3-df7c-4b96-8bfc-ba9102856fbc",
   "metadata": {},
   "outputs": [
    {
     "ename": "SyntaxError",
     "evalue": "expected ':' (4069265104.py, line 3)",
     "output_type": "error",
     "traceback": [
      "\u001b[0;36m  Cell \u001b[0;32mIn[6], line 3\u001b[0;36m\u001b[0m\n\u001b[0;31m    if requested_topping=='green peppers'\u001b[0m\n\u001b[0m                                         ^\u001b[0m\n\u001b[0;31mSyntaxError\u001b[0m\u001b[0;31m:\u001b[0m expected ':'\n"
     ]
    }
   ],
   "source": [
    "requested_toppings=['mushrooms','green peppers','extra cheese']\n",
    "for requested_topping in requested_toppings:\n",
    "    if requested_topping=='green peppers'\n",
    "    print(\"Sorry, we are out of green peppers right now.\")\n",
    "    else:\n",
    "    print(f\"Adding {requested_topping}.\")\n",
    "print(\"\\nFinished making your pizza\")"
   ]
  },
  {
   "cell_type": "code",
   "execution_count": 7,
   "id": "da50ff0d-417d-492e-be97-a5fa0881e46c",
   "metadata": {},
   "outputs": [
    {
     "ename": "IndentationError",
     "evalue": "expected an indented block after 'if' statement on line 3 (2518377904.py, line 4)",
     "output_type": "error",
     "traceback": [
      "\u001b[0;36m  Cell \u001b[0;32mIn[7], line 4\u001b[0;36m\u001b[0m\n\u001b[0;31m    print(\"Sorry, we are out of green peppers right now.\")\u001b[0m\n\u001b[0m    ^\u001b[0m\n\u001b[0;31mIndentationError\u001b[0m\u001b[0;31m:\u001b[0m expected an indented block after 'if' statement on line 3\n"
     ]
    }
   ],
   "source": [
    "requested_toppings=['mushrooms','green peppers','extra cheese']\n",
    "for requested_topping in requested_toppings:\n",
    "    if requested_topping=='green peppers':\n",
    "    print(\"Sorry, we are out of green peppers right now.\")\n",
    "    else:\n",
    "    print(f\"Adding {requested_topping}.\")\n",
    "print(\"\\nFinished making your pizza\")"
   ]
  },
  {
   "cell_type": "code",
   "execution_count": 10,
   "id": "14f997ff-f8ad-4989-97cf-454922e7e60b",
   "metadata": {},
   "outputs": [
    {
     "name": "stdout",
     "output_type": "stream",
     "text": [
      "Adding mushrooms.\n",
      "Sorry, we are out of green peppers right now.\n",
      "Adding extra cheese.\n",
      "\n",
      "Finished making your pizza.\n"
     ]
    }
   ],
   "source": [
    "requested_toppings=['mushrooms','green peppers','extra cheese']\n",
    "for requested_topping in requested_toppings:\n",
    "    if requested_topping=='green peppers':\n",
    "        print(\"Sorry, we are out of green peppers right now.\")\n",
    "    else:\n",
    "        print(f\"Adding {requested_topping}.\")\n",
    "print(\"\\nFinished making your pizza.\")"
   ]
  },
  {
   "cell_type": "code",
   "execution_count": 11,
   "id": "b7505466-4439-4e16-b333-2222cc35b5cb",
   "metadata": {},
   "outputs": [
    {
     "name": "stdout",
     "output_type": "stream",
     "text": [
      "Are you sure you want a plain pizza?\n"
     ]
    }
   ],
   "source": [
    "#5.4.2 确定列表非空\n",
    "requested_toppings=[]\n",
    "if requested_toppings:\n",
    "    for requested_topping in requested_toppings:\n",
    "        print(f\"Adding {requested_topping}.\")\n",
    "else:\n",
    "    print(\"Are you sure you want a plain pizza?\")"
   ]
  },
  {
   "cell_type": "code",
   "execution_count": 13,
   "id": "15c3e5eb-750c-4133-920a-55a8f260231d",
   "metadata": {},
   "outputs": [
    {
     "name": "stdout",
     "output_type": "stream",
     "text": [
      "Adding mushrooms.\n",
      "Sorry,we don't have french fries.\n",
      "Adding extra cheese.\n",
      "\n",
      "Finished making your pizza.\n"
     ]
    }
   ],
   "source": [
    "#5.4.3 使用多个列表\n",
    "available_toppings=['mushrooms','olives','green peppers','pepperoni','pineapple','extra cheese']\n",
    "requested_toppings=['mushrooms','french fries','extra cheese']\n",
    "for requested_topping in requested_toppings:\n",
    "    if requested_topping in available_toppings:\n",
    "        print(f\"Adding {requested_topping}.\")\n",
    "    else:\n",
    "        print(f\"Sorry,we don't have {requested_topping}.\")\n",
    "print(\"\\nFinished making your pizza.\")"
   ]
  },
  {
   "cell_type": "markdown",
   "id": "0d128253-14ae-4941-98d8-0e280092b6b2",
   "metadata": {},
   "source": [
    "# 5.5 设置 if 语句的格式"
   ]
  },
  {
   "cell_type": "code",
   "execution_count": null,
   "id": "0791ad72-c27d-42bf-9aab-f48eb56640b2",
   "metadata": {},
   "outputs": [],
   "source": [
    "#在诸如==、>=和<=等比较运算符两边各添加一个空格"
   ]
  },
  {
   "cell_type": "markdown",
   "id": "a4a11ad3-d8da-4c8a-be89-2a13cc937d93",
   "metadata": {},
   "source": [
    "# 练习题"
   ]
  },
  {
   "cell_type": "code",
   "execution_count": 1,
   "id": "df6dd3d0-64cf-4591-bfe9-9527ae5bf78a",
   "metadata": {},
   "outputs": [
    {
     "ename": "SyntaxError",
     "evalue": "incomplete input (990914136.py, line 4)",
     "output_type": "error",
     "traceback": [
      "\u001b[0;36m  Cell \u001b[0;32mIn[1], line 4\u001b[0;36m\u001b[0m\n\u001b[0;31m    print(\"You get 5 grades.\"\u001b[0m\n\u001b[0m                             ^\u001b[0m\n\u001b[0;31mSyntaxError\u001b[0m\u001b[0;31m:\u001b[0m incomplete input\n"
     ]
    }
   ],
   "source": [
    "#5.3 \n",
    "alien_color=['green','yellow','red']\n",
    "if green in alien_color:\n",
    "    print(\"You get 5 grades.\"\n"
   ]
  },
  {
   "cell_type": "code",
   "execution_count": 2,
   "id": "c67dc1ad-9984-4a08-9b56-ca3222ce1e2e",
   "metadata": {},
   "outputs": [
    {
     "ename": "NameError",
     "evalue": "name 'green' is not defined",
     "output_type": "error",
     "traceback": [
      "\u001b[0;31m---------------------------------------------------------------------------\u001b[0m",
      "\u001b[0;31mNameError\u001b[0m                                 Traceback (most recent call last)",
      "Cell \u001b[0;32mIn[2], line 2\u001b[0m\n\u001b[1;32m      1\u001b[0m alien_color\u001b[38;5;241m=\u001b[39m[\u001b[38;5;124m'\u001b[39m\u001b[38;5;124mgreen\u001b[39m\u001b[38;5;124m'\u001b[39m,\u001b[38;5;124m'\u001b[39m\u001b[38;5;124myellow\u001b[39m\u001b[38;5;124m'\u001b[39m,\u001b[38;5;124m'\u001b[39m\u001b[38;5;124mred\u001b[39m\u001b[38;5;124m'\u001b[39m]\n\u001b[0;32m----> 2\u001b[0m \u001b[38;5;28;01mif\u001b[39;00m green \u001b[38;5;129;01min\u001b[39;00m alien_color:\n\u001b[1;32m      3\u001b[0m     \u001b[38;5;28mprint\u001b[39m(\u001b[38;5;124m\"\u001b[39m\u001b[38;5;124mYou get 5 grades.\u001b[39m\u001b[38;5;124m\"\u001b[39m)\n",
      "\u001b[0;31mNameError\u001b[0m: name 'green' is not defined"
     ]
    }
   ],
   "source": [
    "alien_color=['green','yellow','red']\n",
    "if green in alien_color:\n",
    "    print(\"You get 5 grades.\")"
   ]
  },
  {
   "cell_type": "code",
   "execution_count": 3,
   "id": "9e72c121-7c44-46ae-b7ab-33283cd43b97",
   "metadata": {},
   "outputs": [
    {
     "name": "stdout",
     "output_type": "stream",
     "text": [
      "You get 5 grades.\n"
     ]
    }
   ],
   "source": [
    "alien_color=['green','yellow','red']\n",
    "if 'green' in alien_color:\n",
    "    print(\"You get 5 grades.\")"
   ]
  },
  {
   "cell_type": "code",
   "execution_count": 4,
   "id": "b3e5f642-3ddc-4669-960a-dba3149f3b6a",
   "metadata": {},
   "outputs": [],
   "source": [
    "alien_color=['green','yellow','red']\n",
    "if 'green' == alien_color:\n",
    "    print(\"You get 5 grades.\")"
   ]
  },
  {
   "cell_type": "code",
   "execution_count": 5,
   "id": "8e39784c-8953-48d8-91c5-45d0c4052055",
   "metadata": {},
   "outputs": [
    {
     "ename": "NameError",
     "evalue": "name 'green' is not defined",
     "output_type": "error",
     "traceback": [
      "\u001b[0;31m---------------------------------------------------------------------------\u001b[0m",
      "\u001b[0;31mNameError\u001b[0m                                 Traceback (most recent call last)",
      "Cell \u001b[0;32mIn[5], line 4\u001b[0m\n\u001b[1;32m      2\u001b[0m alien_colors\u001b[38;5;241m=\u001b[39m[\u001b[38;5;124m'\u001b[39m\u001b[38;5;124mgreen\u001b[39m\u001b[38;5;124m'\u001b[39m,\u001b[38;5;124m'\u001b[39m\u001b[38;5;124myellow\u001b[39m\u001b[38;5;124m'\u001b[39m,\u001b[38;5;124m'\u001b[39m\u001b[38;5;124mred\u001b[39m\u001b[38;5;124m'\u001b[39m]\n\u001b[1;32m      3\u001b[0m \u001b[38;5;28;01mfor\u001b[39;00m aline_color \u001b[38;5;129;01min\u001b[39;00m alien_colors:\n\u001b[0;32m----> 4\u001b[0m     \u001b[38;5;28;01mif\u001b[39;00m aline_color \u001b[38;5;241m==\u001b[39m green:\n\u001b[1;32m      5\u001b[0m         \u001b[38;5;28mprint\u001b[39m (\u001b[38;5;124m\"\u001b[39m\u001b[38;5;124mYou get 5 grades.\u001b[39m\u001b[38;5;124m\"\u001b[39m)\n\u001b[1;32m      6\u001b[0m     \u001b[38;5;28;01mif\u001b[39;00m aline_color \u001b[38;5;241m!=\u001b[39m green:\n",
      "\u001b[0;31mNameError\u001b[0m: name 'green' is not defined"
     ]
    }
   ],
   "source": [
    "#5.4\n",
    "alien_colors=['green','yellow','red']\n",
    "for aline_color in alien_colors:\n",
    "    if aline_color == green:\n",
    "        print (\"You get 5 grades.\")\n",
    "    if aline_color != green:\n",
    "        print(\"You get 10 grades.\")"
   ]
  },
  {
   "cell_type": "code",
   "execution_count": 6,
   "id": "e92c16a0-303b-426c-a4a8-ce695e7f647e",
   "metadata": {},
   "outputs": [
    {
     "name": "stdout",
     "output_type": "stream",
     "text": [
      "You get 5 grades.\n",
      "You get 10 grades.\n",
      "You get 10 grades.\n"
     ]
    }
   ],
   "source": [
    "#5.4\n",
    "alien_colors=['green','yellow','red']\n",
    "for aline_color in alien_colors:\n",
    "    if aline_color == 'green':\n",
    "        print (\"You get 5 grades.\")\n",
    "    if aline_color != 'green':\n",
    "        print(\"You get 10 grades.\")"
   ]
  },
  {
   "cell_type": "code",
   "execution_count": 7,
   "id": "257d090c-3211-402a-a9b6-bd029b26a5fa",
   "metadata": {},
   "outputs": [
    {
     "name": "stdout",
     "output_type": "stream",
     "text": [
      "You get 5 grades.\n",
      "You get 10 grades.\n",
      "You get 10 grades.\n"
     ]
    }
   ],
   "source": [
    "#5.4.3\n",
    "alien_colors=['green','yellow','red']\n",
    "for aline_color in alien_colors:\n",
    "    if aline_color == 'green':\n",
    "        print (\"You get 5 grades.\")\n",
    "    else:\n",
    "        print(\"You get 10 grades.\")"
   ]
  },
  {
   "cell_type": "code",
   "execution_count": 8,
   "id": "02c989f0-a151-4027-8728-0916a7dcf8f3",
   "metadata": {},
   "outputs": [
    {
     "name": "stdout",
     "output_type": "stream",
     "text": [
      "You get 5 grades.\n",
      "You get 10 grades.\n",
      "You get 15 grades.\n"
     ]
    }
   ],
   "source": [
    "#5.5\n",
    "alien_colors=['green','yellow','red']\n",
    "for aline_color in alien_colors:\n",
    "    if aline_color == 'green':\n",
    "        print (\"You get 5 grades.\")\n",
    "    elif aline_color =='yellow':\n",
    "        print(\"You get 10 grades.\")\n",
    "    else:\n",
    "        print(\"You get 15 grades.\")"
   ]
  },
  {
   "cell_type": "code",
   "execution_count": 10,
   "id": "32c2c21a-556f-4871-b0f6-c29c66afc043",
   "metadata": {},
   "outputs": [
    {
     "name": "stdout",
     "output_type": "stream",
     "text": [
      "You just earned 5 points for shooting the alien!\n",
      "You just earned 10 points!\n",
      "You just earned 15 points!\n"
     ]
    }
   ],
   "source": [
    "#第一个版本，当外星人是绿色时：\n",
    "alien_color = 'green'\n",
    "if alien_color == 'green':\n",
    "    print(\"You just earned 5 points for shooting the alien!\")\n",
    "elif alien_color == 'yellow':\n",
    "    print(\"You just earned 10 points!\")\n",
    "elif alien_color == 'red':\n",
    "    print(\"You just earned 15 points!\")\n",
    "#第二个版本，当外星人是黄色时：\n",
    "\n",
    "alien_color = 'yellow'\n",
    "if alien_color == 'green':\n",
    "    print(\"You just earned 5 points for shooting the alien!\")\n",
    "elif alien_color == 'yellow':\n",
    "    print(\"You just earned 10 points!\")\n",
    "elif alien_color == 'red':\n",
    "    print(\"You just earned 15 points!\")\n",
    "#第三个版本，当外星人是红色时：\n",
    "alien_color = 'red'\n",
    "if alien_color == 'green':\n",
    "    print(\"You just earned 5 points for shooting the alien!\")\n",
    "elif alien_color == 'yellow':\n",
    "    print(\"You just earned 10 points!\")\n",
    "elif alien_color == 'red':\n",
    "    print(\"You just earned 15 points!\")"
   ]
  },
  {
   "cell_type": "code",
   "execution_count": 11,
   "id": "0a202e4a-d862-4f9d-9c13-3ce42e834792",
   "metadata": {},
   "outputs": [
    {
     "name": "stdout",
     "output_type": "stream",
     "text": [
      "This person is an adult.\n"
     ]
    }
   ],
   "source": [
    "#5.6\n",
    "age = 25  # 你可以将这个值改为任何年龄来测试不同的输出\n",
    "if age < 2:\n",
    "    print(\"This person is a baby.\")\n",
    "elif age < 4:\n",
    "    print(\"This person is a toddler.\")\n",
    "elif age < 13:\n",
    "    print(\"This person is a child.\")\n",
    "elif age < 18:\n",
    "    print(\"This person is a teenager.\")\n",
    "elif age < 65:\n",
    "    print(\"This person is an adult.\")\n",
    "else:\n",
    "    print(\"This person is an elder.\")"
   ]
  },
  {
   "cell_type": "code",
   "execution_count": 12,
   "id": "edf82212-79a2-4650-bf97-bfbb246c3930",
   "metadata": {},
   "outputs": [
    {
     "name": "stdout",
     "output_type": "stream",
     "text": [
      "You really like bananas!\n",
      "You really like apples!\n",
      "You really like cherries!\n"
     ]
    }
   ],
   "source": [
    "#5.7\n",
    "favorite_fruits = ['apples', 'bananas', 'cherries']\n",
    "if 'bananas' in favorite_fruits:\n",
    "    print(\"You really like bananas!\")\n",
    "\n",
    "if 'apples' in favorite_fruits:\n",
    "    print(\"You really like apples!\")\n",
    "\n",
    "if 'cherries' in favorite_fruits:\n",
    "    print(\"You really like cherries!\")\n",
    "\n",
    "if 'oranges' in favorite_fruits:\n",
    "    print(\"You really like oranges!\")\n",
    "\n",
    "if 'grapes' in favorite_fruits:\n",
    "    print(\"You really like grapes!\")"
   ]
  },
  {
   "cell_type": "code",
   "execution_count": 13,
   "id": "ff5eb992-757e-41a1-8616-77229c356b69",
   "metadata": {},
   "outputs": [
    {
     "name": "stdout",
     "output_type": "stream",
     "text": [
      "Hello admin, would you like to see a status report?\n",
      "Hello user1, thank you for logging in again.\n",
      "Hello user2, thank you for logging in again.\n",
      "Hello user3, thank you for logging in again.\n",
      "Hello user4, thank you for logging in again.\n"
     ]
    }
   ],
   "source": [
    "#5.8\n",
    "usernames = ['admin', 'user1', 'user2', 'user3', 'user4']\n",
    "for username in usernames:\n",
    "    if username == 'admin':\n",
    "        print(\"Hello admin, would you like to see a status report?\")\n",
    "    else:\n",
    "        print(f\"Hello {username}, thank you for logging in again.\")"
   ]
  },
  {
   "cell_type": "code",
   "execution_count": 15,
   "id": "13058824-73ad-4d70-85da-a21f77fb5555",
   "metadata": {},
   "outputs": [
    {
     "name": "stdout",
     "output_type": "stream",
     "text": [
      "Hello admin, would you like to see a status report?\n",
      "Hello user1, thank you for logging in again.\n",
      "Hello user2, thank you for logging in again.\n",
      "Hello user3, thank you for logging in again.\n",
      "Hello user4, thank you for logging in again.\n"
     ]
    }
   ],
   "source": [
    "#5.9\n",
    "usernames = ['admin', 'user1', 'user2', 'user3', 'user4']\n",
    "if not usernames:\n",
    "    print(\"We need to find some users!\")\n",
    "else:\n",
    "    for username in usernames:\n",
    "        if username == 'admin':\n",
    "            print(\"Hello admin, would you like to see a status report?\")\n",
    "        else:\n",
    "            print(f\"Hello {username}, thank you for logging in again.\")"
   ]
  },
  {
   "cell_type": "code",
   "execution_count": 16,
   "id": "3191bf52-dfdd-4f51-a530-f8b70ccff306",
   "metadata": {},
   "outputs": [
    {
     "name": "stdout",
     "output_type": "stream",
     "text": [
      "We need to find some users!\n"
     ]
    }
   ],
   "source": [
    "usernames = []\n",
    "if not usernames:\n",
    "    print(\"We need to find some users!\")\n",
    "else:\n",
    "    for username in usernames:\n",
    "        if username == 'admin':\n",
    "            print(\"Hello admin, would you like to see a status report?\")\n",
    "        else:\n",
    "            print(f\"Hello {username}, thank you for logging in again.\")"
   ]
  },
  {
   "cell_type": "code",
   "execution_count": 17,
   "id": "cd18739d-e254-4e9f-aced-7d1e1f8cbea8",
   "metadata": {},
   "outputs": [
    {
     "name": "stdout",
     "output_type": "stream",
     "text": [
      "The username 'USER2' is already taken. Please enter a different username.\n",
      "The username 'user5' is available.\n",
      "The username 'user6' is available.\n",
      "The username 'Admin' is already taken. Please enter a different username.\n",
      "The username 'user7' is available.\n"
     ]
    }
   ],
   "source": [
    "#5.10\n",
    "current_users = ['admin', 'user1', 'user2', 'user3', 'user4']\n",
    "new_users = ['USER2', 'user5', 'user6', 'Admin', 'user7']\n",
    "current_users_lower = [user.lower() for user in current_users]\n",
    "for new_user in new_users:\n",
    "    if new_user.lower() in current_users_lower:\n",
    "        print(f\"The username '{new_user}' is already taken. Please enter a different username.\")\n",
    "    else:\n",
    "        print(f\"The username '{new_user}' is available.\")"
   ]
  },
  {
   "cell_type": "code",
   "execution_count": 18,
   "id": "f17725c1-b430-4b20-98a9-f1dbd0ee0365",
   "metadata": {},
   "outputs": [
    {
     "name": "stdout",
     "output_type": "stream",
     "text": [
      "1st\n",
      "2nd\n",
      "3rd\n",
      "4th\n",
      "5th\n",
      "6th\n",
      "7th\n",
      "8th\n",
      "9th\n"
     ]
    }
   ],
   "source": [
    "# 5.11\n",
    "numbers = list(range(1, 10))\n",
    "for number in numbers:\n",
    "    if number == 1:\n",
    "        ordinal = '1st'\n",
    "    elif number == 2:\n",
    "        ordinal = '2nd'\n",
    "    elif number == 3:\n",
    "        ordinal = '3rd'\n",
    "    else:\n",
    "        ordinal = f'{number}th'\n",
    "    print(ordinal)"
   ]
  },
  {
   "cell_type": "code",
   "execution_count": null,
   "id": "0c2e184d-579f-4ce0-9043-6918e506ec81",
   "metadata": {},
   "outputs": [],
   "source": []
  }
 ],
 "metadata": {
  "kernelspec": {
   "display_name": "Python 3 (ipykernel)",
   "language": "python",
   "name": "python3"
  },
  "language_info": {
   "codemirror_mode": {
    "name": "ipython",
    "version": 3
   },
   "file_extension": ".py",
   "mimetype": "text/x-python",
   "name": "python",
   "nbconvert_exporter": "python",
   "pygments_lexer": "ipython3",
   "version": "3.11.7"
  }
 },
 "nbformat": 4,
 "nbformat_minor": 5
}
