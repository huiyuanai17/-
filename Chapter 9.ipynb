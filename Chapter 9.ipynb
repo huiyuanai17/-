{
 "cells": [
  {
   "cell_type": "markdown",
   "id": "193181fb-975c-4c2f-8c35-16018975cc06",
   "metadata": {},
   "source": [
    "# 第九章 类"
   ]
  },
  {
   "cell_type": "markdown",
   "id": "2f664b35-97cd-44f3-a96e-bdc3b2fe3908",
   "metadata": {},
   "source": [
    "## 9.1 创建和使用类"
   ]
  },
  {
   "cell_type": "code",
   "execution_count": 74,
   "id": "347708aa-91c0-445a-9973-133e9e2a0d43",
   "metadata": {},
   "outputs": [],
   "source": [
    "#9.1.1创建Dog类\n",
    "#在 Python 中，首字母大写的名称指的是类\n",
    "class Dog:\n",
    "    \"\"\"一次模拟小狗的简单尝试\"\"\"\n",
    "    def __init__(self,name,age):\n",
    "        \"\"\"初始化属性name和age\"\"\"\n",
    "        self.name=name\n",
    "        self.age=age\n",
    "\n",
    "    def sit(self):\n",
    "        \"\"\"模拟小狗收到命令时坐下\"\"\"\n",
    "        print(f\"{self.name} is now sitting.\")\n",
    "\n",
    "    def roll_over(self):\n",
    "        \"\"\"模拟小狗收到命令时打滚\"\"\"\n",
    "        print(f\"{self.name} rolled over!\")"
   ]
  },
  {
   "cell_type": "code",
   "execution_count": 75,
   "id": "3b95da1c-e33d-4299-bd9b-37e11a971362",
   "metadata": {},
   "outputs": [
    {
     "name": "stdout",
     "output_type": "stream",
     "text": [
      "My dog's name is Whillie\n",
      "My dog is 6 years old.\n"
     ]
    }
   ],
   "source": [
    "#9.1.2 根据类创建实例\n",
    "class Dog:\n",
    "    \"\"\"一次模拟小狗的简单尝试\"\"\"\n",
    "    def __init__(self,name,age):\n",
    "        \"\"\"初始化属性name和age\"\"\"\n",
    "        self.name=name\n",
    "        self.age=age\n",
    "\n",
    "my_dog=Dog('Whillie',6)\n",
    "print(f\"My dog's name is {my_dog.name}\")\n",
    "print(f\"My dog is {my_dog.age} years old.\")\n"
   ]
  },
  {
   "cell_type": "markdown",
   "id": "27e18e3e-ed9b-4cc6-a98b-10cf32cdc08b",
   "metadata": {},
   "source": [
    "# 9.2 使用类和实例\n"
   ]
  },
  {
   "cell_type": "code",
   "execution_count": 29,
   "id": "2e864232-3b51-4593-abee-1201597964e3",
   "metadata": {},
   "outputs": [
    {
     "name": "stdout",
     "output_type": "stream",
     "text": [
      "2024 audi a4\n"
     ]
    }
   ],
   "source": [
    "#9.2.1 Car类\n",
    "class Car:\n",
    "    \"\"\"一次模拟汽车的简单尝试\"\"\"\n",
    "    def __init__(self,make,model,year):\n",
    "        \"\"\"初始化描述汽车的属性\"\"\"\n",
    "        self.make=make\n",
    "        self.model=model\n",
    "        self.year=year\n",
    "\n",
    "    def get_descriptive_name(self):\n",
    "       long_name=f\"{self.year} {self.make} {self.model}\"\n",
    "       return long_name\n",
    "\n",
    "my_new_car=Car('audi','a4',2024)\n",
    "print(my_new_car.get_descriptive_name())"
   ]
  },
  {
   "cell_type": "code",
   "execution_count": 35,
   "id": "7cd08ff2-899b-4cc5-8e88-e3091bdf26a3",
   "metadata": {},
   "outputs": [
    {
     "name": "stdout",
     "output_type": "stream",
     "text": [
      "2024 audi a4\n",
      "This car has 0 miles on it\n"
     ]
    }
   ],
   "source": [
    "#9.2.2 给属性指定默认值\n",
    "class Car:\n",
    "    \"\"\"一次模拟汽车的简单尝试\"\"\"\n",
    "    def __init__(self,make,model,year):\n",
    "        \"\"\"初始化描述汽车的属性\"\"\"\n",
    "        self.make=make\n",
    "        self.model=model\n",
    "        self.year=year\n",
    "        self.odometer_reading=0\n",
    "\n",
    "    def get_descriptive_name(self):\n",
    "       long_name=f\"{self.year} {self.make} {self.model}\"\n",
    "       return long_name\n",
    "        \n",
    "    def read_odometer(self):\n",
    "        \"\"\"打印一条指出汽车行驶里程的消息\"\"\"\n",
    "        print(f\"This car has {self.odometer_reading} miles on it\")\n",
    "\n",
    "my_new_car=Car('audi','a4',2024)\n",
    "print(my_new_car.get_descriptive_name())\n",
    "my_new_car.read_odometer()"
   ]
  },
  {
   "cell_type": "code",
   "execution_count": 36,
   "id": "06045d22-b271-4fb8-bf01-9f50a580c66e",
   "metadata": {},
   "outputs": [
    {
     "name": "stdout",
     "output_type": "stream",
     "text": [
      "2024 audi a4\n",
      "This car has 23 miles on it\n"
     ]
    }
   ],
   "source": [
    "#9.2.3 修改属性的值\n",
    "#1.直接修改属性的值\n",
    "class Car:\n",
    "    \"\"\"一次模拟汽车的简单尝试\"\"\"\n",
    "    def __init__(self,make,model,year):\n",
    "        \"\"\"初始化描述汽车的属性\"\"\"\n",
    "        self.make=make\n",
    "        self.model=model\n",
    "        self.year=year\n",
    "        self.odometer_reading=0\n",
    "    def get_descriptive_name(self):\n",
    "       long_name=f\"{self.year} {self.make} {self.model}\"\n",
    "       return long_name\n",
    "        \n",
    "    def read_odometer(self):\n",
    "        \"\"\"打印一条指出汽车行驶里程的消息\"\"\"\n",
    "        print(f\"This car has {self.odometer_reading} miles on it\")\n",
    "my_new_car=Car('audi','a4',2024)\n",
    "print(my_new_car.get_descriptive_name())\n",
    "\n",
    "my_new_car.odometer_reading=23\n",
    "my_new_car.read_odometer()"
   ]
  },
  {
   "cell_type": "code",
   "execution_count": 39,
   "id": "7615df34-4804-475f-a86e-4c8d09c4ba2b",
   "metadata": {},
   "outputs": [
    {
     "name": "stdout",
     "output_type": "stream",
     "text": [
      "2024 audi a4\n",
      "This car has 23 miles on it\n"
     ]
    }
   ],
   "source": [
    "#2.通过方法改属性的值\n",
    "class Car:\n",
    "    \"\"\"一次模拟汽车的简单尝试\"\"\"\n",
    "    def __init__(self,make,model,year):\n",
    "        \"\"\"初始化描述汽车的属性\"\"\"\n",
    "        self.make=make\n",
    "        self.model=model\n",
    "        self.year=year\n",
    "        self.odometer_reading=0\n",
    "    def get_descriptive_name(self):\n",
    "       long_name=f\"{self.year} {self.make} {self.model}\"\n",
    "       return long_name\n",
    "        \n",
    "    def read_odometer(self):\n",
    "        \"\"\"打印一条指出汽车行驶里程的消息\"\"\"\n",
    "        print(f\"This car has {self.odometer_reading} miles on it\")\n",
    "\n",
    "    def update_odometer(self,mileage):\n",
    "        \"\"\"将里程表读数设置为指定的值\"\"\"\n",
    "        self.odometer_reading=mileage\n",
    "\n",
    "my_new_car=Car('audi','a4',2024)\n",
    "print(my_new_car.get_descriptive_name())\n",
    "\n",
    "my_new_car.update_odometer(23)\n",
    "my_new_car.read_odometer()"
   ]
  },
  {
   "cell_type": "code",
   "execution_count": 41,
   "id": "8ff5786d-114c-483b-8e89-490fc158e512",
   "metadata": {},
   "outputs": [
    {
     "name": "stdout",
     "output_type": "stream",
     "text": [
      "2024 audi a4\n",
      "This car has 23 miles on it\n"
     ]
    }
   ],
   "source": [
    "class Car:\n",
    "    \"\"\"一次模拟汽车的简单尝试\"\"\"\n",
    "    def __init__(self,make,model,year):\n",
    "        \"\"\"初始化描述汽车的属性\"\"\"\n",
    "        self.make=make\n",
    "        self.model=model\n",
    "        self.year=year\n",
    "        self.odometer_reading=0\n",
    "    def get_descriptive_name(self):\n",
    "       long_name=f\"{self.year} {self.make} {self.model}\"\n",
    "       return long_name\n",
    "        \n",
    "    def read_odometer(self):\n",
    "        \"\"\"打印一条指出汽车行驶里程的消息\"\"\"\n",
    "        print(f\"This car has {self.odometer_reading} miles on it\")\n",
    "\n",
    "    def update_odometer(self,mileage):\n",
    "        \"\"\"将里程表读数设置为指定的值\n",
    "        禁止将里程表读书往回调\n",
    "        \"\"\"\n",
    "        if mileage>=self.odometer_reading:\n",
    "            self.odometer_reading=mileage\n",
    "        else:\n",
    "            print(\"You can't roll back an odometer\")\n",
    "\n",
    "my_new_car=Car('audi','a4',2024)\n",
    "print(my_new_car.get_descriptive_name())\n",
    "\n",
    "my_new_car.update_odometer(23)\n",
    "my_new_car.read_odometer()"
   ]
  },
  {
   "cell_type": "code",
   "execution_count": 42,
   "id": "970709ab-4d45-4904-ba73-7f4bca4e63b1",
   "metadata": {},
   "outputs": [
    {
     "name": "stdout",
     "output_type": "stream",
     "text": [
      "2019 subaru outback\n",
      "This car has 23500 miles on it\n",
      "This car has 23600 miles on it\n"
     ]
    }
   ],
   "source": [
    "#3. 通过方法让属性的值递增\n",
    "class Car:\n",
    "    \"\"\"一次模拟汽车的简单尝试\"\"\"\n",
    "    def __init__(self,make,model,year):\n",
    "        \"\"\"初始化描述汽车的属性\"\"\"\n",
    "        self.make=make\n",
    "        self.model=model\n",
    "        self.year=year\n",
    "        self.odometer_reading=0\n",
    "    def get_descriptive_name(self):\n",
    "       long_name=f\"{self.year} {self.make} {self.model}\"\n",
    "       return long_name\n",
    "        \n",
    "    def read_odometer(self):\n",
    "        \"\"\"打印一条指出汽车行驶里程的消息\"\"\"\n",
    "        print(f\"This car has {self.odometer_reading} miles on it\")\n",
    "\n",
    "    def update_odometer(self,mileage):\n",
    "        \"\"\"将里程表读数设置为指定的值\"\"\"\n",
    "        self.odometer_reading=mileage\n",
    "        \n",
    "    def increment_odometer(self,miles):\n",
    "        \"\"\"让里程表读数增加指定的量\"\"\"\n",
    "        self.odometer_reading+=miles\n",
    "\n",
    "my_used_car = Car('subaru', 'outback', 2019)\n",
    "print(my_used_car.get_descriptive_name())\n",
    "\n",
    "my_used_car.update_odometer(23_500)\n",
    "my_used_car.read_odometer()\n",
    "\n",
    "my_used_car.increment_odometer(100)\n",
    "my_used_car.read_odometer()"
   ]
  },
  {
   "cell_type": "markdown",
   "id": "e3facad6-e68e-4466-b48e-a98c546c1740",
   "metadata": {},
   "source": [
    "# 动手试一试"
   ]
  },
  {
   "cell_type": "code",
   "execution_count": 43,
   "id": "410cb12f-b063-42c0-ad52-06d89122b4c0",
   "metadata": {},
   "outputs": [
    {
     "name": "stdout",
     "output_type": "stream",
     "text": [
      "Number of customers served: 0\n",
      "Number of customers served: 10\n",
      "Number of customers served: 15\n",
      "Number of customers served: 20\n"
     ]
    }
   ],
   "source": [
    "#练习9.4 就餐人数\n",
    "class Restaurant:\n",
    "    \"\"\"模拟餐馆\"\"\"\n",
    "\n",
    "    def __init__(self, name, cuisine_type):\n",
    "        \"\"\"初始化餐馆属性\"\"\"\n",
    "        self.name = name\n",
    "        self.cuisine_type = cuisine_type\n",
    "        self.number_served = 0\n",
    "\n",
    "    def describe_restaurant(self):\n",
    "        \"\"\"描述餐馆\"\"\"\n",
    "        print(f\"The restaurant {self.name} serves {self.cuisine_type} cuisine.\")\n",
    "\n",
    "    def open_restaurant(self):\n",
    "        \"\"\"显示一条消息，指出餐馆正在营业\"\"\"\n",
    "        print(f\"The restaurant {self.name} is open.\")\n",
    "\n",
    "    def set_number_served(self, number_served):\n",
    "        \"\"\"设置就餐人数\"\"\"\n",
    "        self.number_served = number_served\n",
    "\n",
    "    def increment_number_served(self, additional_served):\n",
    "        \"\"\"将就餐人数递增\"\"\"\n",
    "        self.number_served += additional_served\n",
    "\n",
    "\n",
    "# 根据这个类创建一个名为restaurant的实例\n",
    "restaurant = Restaurant('The Italian Place', 'Italian')\n",
    "\n",
    "# 打印有多少人在这家餐馆就餐过\n",
    "print(f\"Number of customers served: {restaurant.number_served}\")\n",
    "\n",
    "# 修改这个值并再次打印\n",
    "restaurant.number_served = 10\n",
    "print(f\"Number of customers served: {restaurant.number_served}\")\n",
    "\n",
    "# 调用set_number_served方法并传递新的就餐人数，然后再次打印这个值\n",
    "restaurant.set_number_served(15)\n",
    "print(f\"Number of customers served: {restaurant.number_served}\")\n",
    "\n",
    "# 调用increment_number_served方法并传递一个这样的值\n",
    "restaurant.increment_number_served(5)  # 假设一天接待5个客人\n",
    "print(f\"Number of customers served: {restaurant.number_served}\")\n"
   ]
  },
  {
   "cell_type": "code",
   "execution_count": 44,
   "id": "6eb7e9a3-2854-4611-8897-0d329e8726cc",
   "metadata": {},
   "outputs": [
    {
     "name": "stdout",
     "output_type": "stream",
     "text": [
      "Login attempts: 3\n",
      "Login attempts after reset: 0\n"
     ]
    }
   ],
   "source": [
    "#练习9.5：尝试登陆次数：\n",
    "class User:\n",
    "    \"\"\"模拟用户\"\"\"\n",
    "    \n",
    "    def __init__(self, first_name, last_name, username, email):\n",
    "        \"\"\"初始化用户属性\"\"\"\n",
    "        self.first_name = first_name\n",
    "        self.last_name = last_name\n",
    "        self.username = username\n",
    "        self.email = email\n",
    "        self.login_attempts = 0  # 添加 login_attempts 属性，初始值为0\n",
    "    \n",
    "    def describe_user(self):\n",
    "        \"\"\"描述用户信息\"\"\"\n",
    "        print(f\"Name: {self.first_name.title()} {self.last_name.title()}\")\n",
    "        print(f\"Username: {self.username}\")\n",
    "        print(f\"Email: {self.email}\")\n",
    "    \n",
    "    def greet_user(self):\n",
    "        \"\"\"向用户发送问候\"\"\"\n",
    "        print(f\"Hello, {self.first_name.title()}! Welcome back.\")\n",
    "    \n",
    "    def increment_login_attempts(self):\n",
    "        \"\"\"将属性 login_attempts 的值加 1\"\"\"\n",
    "        self.login_attempts += 1\n",
    "        \n",
    "    def reset_login_attempts(self):\n",
    "        \"\"\"将属性 login_attempts 的值重置为 0\"\"\"\n",
    "        self.login_attempts = 0\n",
    "\n",
    "# 根据 User 类创建一个实例\n",
    "user = User('john', 'doe', 'johndoe', 'johndoe@example.com')\n",
    "\n",
    "# 调用 increment_login_attempts() 方法多次\n",
    "user.increment_login_attempts()\n",
    "user.increment_login_attempts()\n",
    "user.increment_login_attempts()\n",
    "\n",
    "# 打印属性 login_attempts 的值，确认它正确地递增了\n",
    "print(f\"Login attempts: {user.login_attempts}\")\n",
    "\n",
    "# 调用 reset_login_attempts() 方法\n",
    "user.reset_login_attempts()\n",
    "\n",
    "# 再次打印属性 login_attempts 的值，确认它被重置为 0\n",
    "print(f\"Login attempts after reset: {user.login_attempts}\")\n"
   ]
  },
  {
   "cell_type": "markdown",
   "id": "fc7745ce-d13d-406b-a46d-8df9cef207a9",
   "metadata": {},
   "source": [
    "## 9.3 继承\n"
   ]
  },
  {
   "cell_type": "code",
   "execution_count": 54,
   "id": "e73ee380-1173-4e12-a64f-86ffaebd9930",
   "metadata": {},
   "outputs": [
    {
     "name": "stdout",
     "output_type": "stream",
     "text": [
      "2024 nissan leaf\n"
     ]
    }
   ],
   "source": [
    "##9.3.1 子类的__init__()方法\n",
    "class Car:\n",
    "    \"\"\"一次模拟汽车的简单尝试\"\"\"\n",
    "    def __init__(self,make,model,year):\n",
    "        \"\"\"初始化描述汽车的属性\"\"\"\n",
    "        self.make=make\n",
    "        self.model=model\n",
    "        self.year=year\n",
    "        self.odometer_reading=0\n",
    "    def get_descriptive_name(self):\n",
    "       long_name=f\"{self.year} {self.make} {self.model}\"\n",
    "       return long_name\n",
    "        \n",
    "    def read_odometer(self):\n",
    "        \"\"\"打印一条指出汽车行驶里程的消息\"\"\"\n",
    "        print(f\"This car has {self.odometer_reading} miles on it\")\n",
    "\n",
    "    def update_odometer(self,mileage):\n",
    "        \"\"\"将里程表读数设置为指定的值\"\"\"\n",
    "        self.odometer_reading=mileage\n",
    "        \n",
    "    def increment_odometer(self,miles):\n",
    "        \"\"\"让里程表读数增加指定的量\"\"\"\n",
    "        self.odometer_reading+=miles\n",
    "\n",
    "class ElectricCar(Car):\n",
    "    \"\"\"电动汽车的独特之处\"\"\"\n",
    "    def __init__(self,make,model,year):\n",
    "        \"\"\"初始化父类的属性\"\"\"\n",
    "        super(). __init__(make,model,year)\n",
    "my_leaf=ElectricCar('nissan','leaf',2024)\n",
    "print(my_leaf.get_descriptive_name())\n"
   ]
  },
  {
   "cell_type": "code",
   "execution_count": 57,
   "id": "1e1a167f-94b8-4a89-ba96-eae074830ca0",
   "metadata": {},
   "outputs": [
    {
     "name": "stdout",
     "output_type": "stream",
     "text": [
      "2024 nissan leaf\n",
      "This car has a 40-kwh battery.\n"
     ]
    }
   ],
   "source": [
    "#9.3.2 给子类定义属性和方法\n",
    "#添加区分子类和父类所需的新属性和新方法\n",
    "class Car:\n",
    "    \"\"\"一次模拟汽车的简单尝试\"\"\"\n",
    "    def __init__(self,make,model,year):\n",
    "        \"\"\"初始化描述汽车的属性\"\"\"\n",
    "        self.make=make\n",
    "        self.model=model\n",
    "        self.year=year\n",
    "        self.odometer_reading=0\n",
    "    def get_descriptive_name(self):\n",
    "       long_name=f\"{self.year} {self.make} {self.model}\"\n",
    "       return long_name\n",
    "        \n",
    "    def read_odometer(self):\n",
    "        \"\"\"打印一条指出汽车行驶里程的消息\"\"\"\n",
    "        print(f\"This car has {self.odometer_reading} miles on it\")\n",
    "\n",
    "    def update_odometer(self,mileage):\n",
    "        \"\"\"将里程表读数设置为指定的值\"\"\"\n",
    "        self.odometer_reading=mileage\n",
    "        \n",
    "    def increment_odometer(self,miles):\n",
    "        \"\"\"让里程表读数增加指定的量\"\"\"\n",
    "        self.odometer_reading+=miles\n",
    "\n",
    "class ElectricCar(Car):\n",
    "    \"\"\"电动汽车的独特之处\"\"\"\n",
    "    def __init__(self,make,model,year):\n",
    "        \"\"\"\n",
    "        先初始化父类的属性，再初始化电动汽车特有的属性\n",
    "        \"\"\"\n",
    "        super().__init__(make,model,year)\n",
    "        self.battery_size=40\n",
    "\n",
    "    def describe_battery(self):\n",
    "        \"\"\"打印一条描述电池容量的信息\"\"\"\n",
    "        print(f\"This car has a {self.battery_size}-kwh battery.\")\n",
    "        \n",
    "my_leaf=ElectricCar('nissan','leaf',2024)\n",
    "print(my_leaf.get_descriptive_name())\n",
    "my_leaf.describe_battery()"
   ]
  },
  {
   "cell_type": "code",
   "execution_count": null,
   "id": "47bf5fb1-21ce-41fd-a5f0-efc45dc30f9d",
   "metadata": {},
   "outputs": [],
   "source": [
    "#9.3.3 重写父类中的方法\n",
    "class ElectricCar(Car):\n",
    "    --snip--\n",
    "\n",
    "    def fill_gas_tank(self):\n",
    "        \"\"\"电动汽车没有油箱\"\"\"\n",
    "        print(\"This car doesn't have a gas tank!\")"
   ]
  },
  {
   "cell_type": "code",
   "execution_count": 58,
   "id": "f6841ae0-bc52-4ec6-a215-96d251f1eab0",
   "metadata": {},
   "outputs": [
    {
     "name": "stdout",
     "output_type": "stream",
     "text": [
      "2024 nissan leaf\n",
      "This car has a 40.\n"
     ]
    }
   ],
   "source": [
    "#9.3.4 将实例用作属性\n",
    "#将大型类拆分成多个协同工作的小类，这种方法称为组合（composition）。\n",
    "class Car:\n",
    "    \"\"\"一次模拟汽车的简单尝试\"\"\"\n",
    "    def __init__(self,make,model,year):\n",
    "        \"\"\"初始化描述汽车的属性\"\"\"\n",
    "        self.make=make\n",
    "        self.model=model\n",
    "        self.year=year\n",
    "        self.odometer_reading=0\n",
    "    def get_descriptive_name(self):\n",
    "       long_name=f\"{self.year} {self.make} {self.model}\"\n",
    "       return long_name\n",
    "        \n",
    "    def read_odometer(self):\n",
    "        \"\"\"打印一条指出汽车行驶里程的消息\"\"\"\n",
    "        print(f\"This car has {self.odometer_reading} miles on it\")\n",
    "\n",
    "    def update_odometer(self,mileage):\n",
    "        \"\"\"将里程表读数设置为指定的值\"\"\"\n",
    "        self.odometer_reading=mileage\n",
    "        \n",
    "    def increment_odometer(self,miles):\n",
    "        \"\"\"让里程表读数增加指定的量\"\"\"\n",
    "        self.odometer_reading+=miles\n",
    "\n",
    "class Battery:\n",
    "    \"\"\"一次模拟电动汽车电池的简单尝试\"\"\"\n",
    "    def __init__(self,battery_size=40):\n",
    "        \"\"\"初始化电池的属性\"\"\"\n",
    "        self.battery_size=battery_size\n",
    "    def describe_battery(self):\n",
    "        \"\"\"打印一条描述电池容量的消息\"\"\"\n",
    "        print(f\"This car has a {self.battery_size}.\")\n",
    "\n",
    "class ElectricCar(Car):\n",
    "    \"\"\"电动汽车的独特之处\"\"\"\n",
    "    def __init__(self,make,model,year):\n",
    "        \"\"\"\n",
    "        先初始化父类的属性，再初始化电动汽车特有的属性\n",
    "        \"\"\"\n",
    "        super().__init__(make,model,year)\n",
    "        self.battery=Battery()\n",
    "\n",
    "my_leaf=ElectricCar('nissan','leaf',2024)\n",
    "print(my_leaf.get_descriptive_name())\n",
    "my_leaf.battery.describe_battery()"
   ]
  },
  {
   "cell_type": "code",
   "execution_count": 61,
   "id": "22f85773-8feb-44af-ba46-cbb100150364",
   "metadata": {},
   "outputs": [
    {
     "name": "stdout",
     "output_type": "stream",
     "text": [
      "2024 nissan leaf\n",
      "This car has a 40.\n",
      "This car can go about 150 miles on a full charge.\n"
     ]
    }
   ],
   "source": [
    "#再给Battery类添加一个方法，根据电池容量报告汽车的续航里程\n",
    "class Car:\n",
    "    \"\"\"一次模拟汽车的简单尝试\"\"\"\n",
    "    def __init__(self,make,model,year):\n",
    "        \"\"\"初始化描述汽车的属性\"\"\"\n",
    "        self.make=make\n",
    "        self.model=model\n",
    "        self.year=year\n",
    "        self.odometer_reading=0\n",
    "    def get_descriptive_name(self):\n",
    "       long_name=f\"{self.year} {self.make} {self.model}\"\n",
    "       return long_name\n",
    "        \n",
    "    def read_odometer(self):\n",
    "        \"\"\"打印一条指出汽车行驶里程的消息\"\"\"\n",
    "        print(f\"This car has {self.odometer_reading} miles on it\")\n",
    "\n",
    "    def update_odometer(self,mileage):\n",
    "        \"\"\"将里程表读数设置为指定的值\"\"\"\n",
    "        self.odometer_reading=mileage\n",
    "        \n",
    "    def increment_odometer(self,miles):\n",
    "        \"\"\"让里程表读数增加指定的量\"\"\"\n",
    "        self.odometer_reading+=miles\n",
    "\n",
    "class Battery:\n",
    "    \"\"\"一次模拟电动汽车电池的简单尝试\"\"\"\n",
    "    def __init__(self,battery_size=40):\n",
    "        \"\"\"初始化电池的属性\"\"\"\n",
    "        self.battery_size=battery_size\n",
    "    def describe_battery(self):\n",
    "        \"\"\"打印一条描述电池容量的消息\"\"\"\n",
    "        print(f\"This car has a {self.battery_size}.\")\n",
    "    def get_range(self):\n",
    "        \"\"\"打印一条消息，指出电池的续航里程\"\"\"\n",
    "        if self.battery_size==40:\n",
    "            range=150\n",
    "        elif self.battery.size==65:\n",
    "            range=225\n",
    "\n",
    "        print(f\"This car can go about {range} miles on a full charge.\")\n",
    "\n",
    "class ElectricCar(Car):\n",
    "    \"\"\"电动汽车的独特之处\"\"\"\n",
    "    def __init__(self,make,model,year):\n",
    "        \"\"\"\n",
    "        先初始化父类的属性，再初始化电动汽车特有的属性\n",
    "        \"\"\"\n",
    "        super().__init__(make,model,year)\n",
    "        self.battery=Battery()\n",
    "\n",
    "my_leaf=ElectricCar('nissan','leaf',2024)\n",
    "print(my_leaf.get_descriptive_name())\n",
    "my_leaf.battery.describe_battery()\n",
    "my_leaf.battery.get_range()\n"
   ]
  },
  {
   "cell_type": "markdown",
   "id": "1eda049e-2319-43fb-94ef-fd6fbb00e3a4",
   "metadata": {},
   "source": [
    "## 动手试一试"
   ]
  },
  {
   "cell_type": "code",
   "execution_count": 62,
   "id": "e3016525-0d93-4cb8-bf1f-b5b6c3ae2e6f",
   "metadata": {},
   "outputs": [
    {
     "name": "stdout",
     "output_type": "stream",
     "text": [
      "We have the following flavors of ice cream:\n",
      "- Chocolate\n",
      "- Vanilla\n",
      "- Strawberry\n",
      "- Mint Chocolate Chip\n"
     ]
    }
   ],
   "source": [
    "#练习9.6 冰淇淋小店\n",
    "# 练习 9.6：冰激凌小店\n",
    "\n",
    "class Restaurant:\n",
    "    def __init__(self, restaurant_name, cuisine_type):\n",
    "        self.restaurant_name = restaurant_name\n",
    "        self.cuisine_type = cuisine_type\n",
    "\n",
    "    def describe_restaurant(self):\n",
    "        print(f\"The restaurant's name is {self.restaurant_name} and it serves {self.cuisine_type} cuisine.\")\n",
    "\n",
    "    def open_restaurant(self):\n",
    "        print(f\"{self.restaurant_name} is now open!\")\n",
    "\n",
    "class IceCreamStand(Restaurant):\n",
    "    def __init__(self, restaurant_name, cuisine_type):\n",
    "        super().__init__(restaurant_name, cuisine_type)\n",
    "        self.flavors = []\n",
    "\n",
    "    def display_flavors(self):\n",
    "        print(\"We have the following flavors of ice cream:\")\n",
    "        for flavor in self.flavors:\n",
    "            print(f\"- {flavor}\")\n",
    "\n",
    "# 创建一个 IceCreamStand 实例并调用方法\n",
    "my_ice_cream_stand = IceCreamStand('Sweet Scoops', 'Ice Cream')\n",
    "my_ice_cream_stand.flavors = ['Chocolate', 'Vanilla', 'Strawberry', 'Mint Chocolate Chip']\n",
    "my_ice_cream_stand.display_flavors()\n"
   ]
  },
  {
   "cell_type": "code",
   "execution_count": 63,
   "id": "cf0ff78e-72bc-44b6-94a4-e4350c8e63ef",
   "metadata": {},
   "outputs": [
    {
     "name": "stdout",
     "output_type": "stream",
     "text": [
      "John Doe has the following privileges:\n",
      "- can add post\n",
      "- can delete post\n",
      "- can ban user\n"
     ]
    }
   ],
   "source": [
    "#练习9.7 管理员\n",
    "\n",
    "class User:\n",
    "    def __init__(self, first_name, last_name, age, gender):\n",
    "        self.first_name = first_name\n",
    "        self.last_name = last_name\n",
    "        self.age = age\n",
    "        self.gender = gender\n",
    "\n",
    "    def describe_user(self):\n",
    "        print(f\"User's name is {self.first_name} {self.last_name}, age is {self.age}, and gender is {self.gender}.\")\n",
    "\n",
    "    def greet_user(self):\n",
    "        print(f\"Hello, {self.first_name} {self.last_name}! Welcome back.\")\n",
    "\n",
    "class Admin(User):\n",
    "    def __init__(self, first_name, last_name, age, gender):\n",
    "        super().__init__(first_name, last_name, age, gender)\n",
    "        self.privileges = []\n",
    "\n",
    "    def show_privileges(self):\n",
    "        print(f\"{self.first_name} {self.last_name} has the following privileges:\")\n",
    "        for privilege in self.privileges:\n",
    "            print(f\"- {privilege}\")\n",
    "\n",
    "# 创建一个 Admin 实例并调用方法\n",
    "admin = Admin('John', 'Doe', 30, 'Male')\n",
    "admin.privileges = ['can add post', 'can delete post', 'can ban user']\n",
    "admin.show_privileges()\n"
   ]
  },
  {
   "cell_type": "code",
   "execution_count": 66,
   "id": "3de66b60-93d1-4be7-a2b1-c1b44382c591",
   "metadata": {},
   "outputs": [
    {
     "name": "stdout",
     "output_type": "stream",
     "text": [
      "The admin has the following privileges:\n",
      "- can add post\n",
      "- can delete post\n",
      "- can ban user\n"
     ]
    }
   ],
   "source": [
    "#练习9.8 权限\n",
    "class User:\n",
    "    def __init__(self, first_name, last_name, age, gender):\n",
    "        self.first_name = first_name\n",
    "        self.last_name = last_name\n",
    "        self.age = age\n",
    "        self.gender = gender\n",
    "\n",
    "    def describe_user(self):\n",
    "        print(f\"User's name is {self.first_name} {self.last_name}, age is {self.age}, and gender is {self.gender}.\")\n",
    "\n",
    "    def greet_user(self):\n",
    "        print(f\"Hello, {self.first_name} {self.last_name}! Welcome back.\")\n",
    "        \n",
    "class Privileges:\n",
    "    def __init__(self):\n",
    "        self.privileges = []\n",
    "\n",
    "    def show_privileges(self):\n",
    "        print(\"The admin has the following privileges:\")\n",
    "        for privilege in self.privileges:\n",
    "            print(f\"- {privilege}\")\n",
    "\n",
    "class Admin(User):\n",
    "    def __init__(self, first_name, last_name, age, gender):\n",
    "        super().__init__(first_name, last_name, age, gender)\n",
    "        self.privileges = Privileges()\n",
    "\n",
    "# 创建一个 Admin 实例并调用方法\n",
    "admin = Admin('John', 'Doe', 30, 'Male')\n",
    "admin.privileges.privileges = ['can add post', 'can delete post', 'can ban user']\n",
    "admin.privileges.show_privileges()\n"
   ]
  },
  {
   "cell_type": "code",
   "execution_count": 67,
   "id": "89d1399b-87b2-4e81-9bfe-5fefc04ce6ce",
   "metadata": {},
   "outputs": [
    {
     "name": "stdout",
     "output_type": "stream",
     "text": [
      "This car has a 40-kWh battery.\n",
      "This car can go about 240 miles on a full charge.\n",
      "This car has a 65-kWh battery.\n",
      "This car can go about 260 miles on a full charge.\n"
     ]
    }
   ],
   "source": [
    "# 练习 9.9：电池升级\n",
    "\n",
    "class Battery:\n",
    "    def __init__(self, battery_size=40):\n",
    "        self.battery_size = battery_size\n",
    "\n",
    "    def describe_battery(self):\n",
    "        print(f\"This car has a {self.battery_size}-kWh battery.\")\n",
    "\n",
    "    def get_range(self):\n",
    "        if self.battery_size == 65:\n",
    "            range = 260\n",
    "        elif self.battery_size == 85:\n",
    "            range = 270\n",
    "        else:\n",
    "            range = 240\n",
    "        print(f\"This car can go about {range} miles on a full charge.\")\n",
    "\n",
    "    def upgrade_battery(self):\n",
    "        if self.battery_size != 65:\n",
    "            self.battery_size = 65\n",
    "\n",
    "class ElectricCar(Car):\n",
    "    def __init__(self, make, model, year):\n",
    "        super().__init__(make, model, year)\n",
    "        self.battery = Battery()\n",
    "\n",
    "# 创建一辆电动汽车，检查电池容量，并进行升级\n",
    "my_electric_car = ElectricCar('Tesla', 'Model S', 2019)\n",
    "my_electric_car.battery.describe_battery()\n",
    "my_electric_car.battery.get_range()\n",
    "\n",
    "my_electric_car.battery.upgrade_battery()\n",
    "my_electric_car.battery.describe_battery()\n",
    "my_electric_car.battery.get_range()\n"
   ]
  },
  {
   "cell_type": "markdown",
   "id": "cb4824a6-d6f4-4903-8540-3e645eee9f2d",
   "metadata": {},
   "source": [
    "## 9.4 导入类"
   ]
  },
  {
   "cell_type": "code",
   "execution_count": 72,
   "id": "78943e25-e676-4236-9124-04a48878348c",
   "metadata": {},
   "outputs": [],
   "source": [
    "\"\"\"一个用来表示汽车的类\"\"\"\n",
    "\n",
    "class Car:\n",
    "    \"\"\"一次模拟汽车的简单尝试\"\"\"\n",
    "\n",
    "    def __init__(self, make, model, year):\n",
    "        \"\"\"初始化描述汽车的属性\"\"\"\n",
    "        self.make = make\n",
    "        self.model = model\n",
    "        self.year = year\n",
    "        self.odometer_reading = 0\n",
    "\n",
    "    def get_descriptive_name(self):\n",
    "        \"\"\"返回格式规范的描述性名称\"\"\"\n",
    "        long_name = f\"{self.year} {self.make} {self.model}\"\n",
    "        return long_name.title()\n",
    "\n",
    "    def read_odometer(self):\n",
    "        \"\"\"打印一条消息，指出汽车的行驶里程\"\"\"\n",
    "        print(f\"This car has {self.odometer_reading} miles on it.\")\n",
    "\n",
    "    def update_odometer(self, mileage):\n",
    "        \"\"\"\n",
    "        将里程表读数设置为指定的值\n",
    "        拒绝将里程表往回调\n",
    "        \"\"\"\n",
    "        if mileage >= self.odometer_reading:\n",
    "            self.odometer_reading = mileage\n",
    "        else:\n",
    "            print(\"You can't roll back an odometer!\")\n",
    "\n",
    "    def increment_odometer(self, miles):\n",
    "        \"\"\"让里程表读数增加指定的量\"\"\"\n",
    "        self.odometer_reading += miles"
   ]
  },
  {
   "cell_type": "code",
   "execution_count": 73,
   "id": "9333d022-f933-4a8a-bdf5-d7bc6a523d52",
   "metadata": {},
   "outputs": [
    {
     "ename": "ModuleNotFoundError",
     "evalue": "No module named 'car'",
     "output_type": "error",
     "traceback": [
      "\u001b[0;31m---------------------------------------------------------------------------\u001b[0m",
      "\u001b[0;31mModuleNotFoundError\u001b[0m                       Traceback (most recent call last)",
      "Cell \u001b[0;32mIn[73], line 1\u001b[0m\n\u001b[0;32m----> 1\u001b[0m \u001b[38;5;28;01mfrom\u001b[39;00m \u001b[38;5;21;01mcar\u001b[39;00m \u001b[38;5;28;01mimport\u001b[39;00m Car\n\u001b[1;32m      3\u001b[0m my_new_car \u001b[38;5;241m=\u001b[39m Car(\u001b[38;5;124m'\u001b[39m\u001b[38;5;124maudi\u001b[39m\u001b[38;5;124m'\u001b[39m, \u001b[38;5;124m'\u001b[39m\u001b[38;5;124ma4\u001b[39m\u001b[38;5;124m'\u001b[39m, \u001b[38;5;241m2024\u001b[39m)\n\u001b[1;32m      4\u001b[0m \u001b[38;5;28mprint\u001b[39m(my_new_car\u001b[38;5;241m.\u001b[39mget_descriptive_name())\n",
      "\u001b[0;31mModuleNotFoundError\u001b[0m: No module named 'car'"
     ]
    }
   ],
   "source": [
    "from car import Car\n",
    "\n",
    "my_new_car = Car('audi', 'a4', 2024)\n",
    "print(my_new_car.get_descriptive_name())\n",
    "\n",
    "my_new_car.odometer_reading = 23\n",
    "my_new_car.read_odometer()"
   ]
  },
  {
   "cell_type": "code",
   "execution_count": null,
   "id": "b2a093a0-b535-499a-9a08-201db4d8e0bb",
   "metadata": {},
   "outputs": [],
   "source": [
    "#9.4.2 在一个模块中存储多少类\n",
    "\"\"\"一组用于表示燃油汽车和电动汽车的类\"\"\"\n",
    "\n",
    "class Car:\n",
    "    --snip--\n",
    "\n",
    "class Battery:\n",
    "    \"\"\"一次模拟电动汽车电瓶的简单尝试\"\"\"\n",
    "\n",
    "    def __init__(self, battery_size=40):\n",
    "        \"\"\"初始化电池的属性\"\"\"\n",
    "        self.battery_size = battery_size\n",
    "\n",
    "    def describe_battery(self):\n",
    "        \"\"\"打印一条描述电池容量的消息\"\"\"\n",
    "        print(f\"This car has a {self.battery_size}-kWh battery.\")\n",
    "\n",
    "    def get_range(self):\n",
    "        \"\"\"打印一条描述电池续航里程的消息\"\"\"\n",
    "        if self.battery_size == 40:\n",
    "            range = 150\n",
    "        elif self.battery_size == 65:\n",
    "            range = 225\n",
    "\n",
    "        print(f\"This car can go about {range} miles on a full charge.\")\n",
    "\n",
    "class ElectricCar(Car):\n",
    "    \"\"\"模拟电动汽车的独特之处\"\"\"\n",
    "\n",
    "    def __init__(self, make, model, year):\n",
    "        \"\"\"\n",
    "        先初始化父类的属性，再初始化电动汽车特有的属性\n",
    "        \"\"\"\n",
    "        super().__init__(make, model, year)\n",
    "        self.battery = Battery()"
   ]
  },
  {
   "cell_type": "code",
   "execution_count": null,
   "id": "f577a114-9bda-49ce-9776-8951d925c8f0",
   "metadata": {},
   "outputs": [],
   "source": [
    "#9.4.2 从一个模块中导入多个类\n",
    "❶ from car import Car, ElectricCar\n",
    "\n",
    "❷ my_mustang = Car('ford', 'mustang', 2024)\n",
    "  print(my_mustang.get_descriptive_name())\n",
    "❸ my_leaf = ElectricCar('nissan', 'leaf', 2024)\n",
    "  print(my_leaf.get_descriptive_name())"
   ]
  },
  {
   "cell_type": "code",
   "execution_count": null,
   "id": "447140b5-6bf4-470e-ab12-c3809fcb86c4",
   "metadata": {},
   "outputs": [],
   "source": [
    "#9.4.4 导入整个模块\n",
    "❶ import car\n",
    "\n",
    "❷ my_mustang = car.Car('ford', 'mustang', 2024)\n",
    "  print(my_mustang.get_descriptive_name())\n",
    "\n",
    "❸ my_leaf = car.ElectricCar('nissan', 'leaf', 2024)\n",
    "  print(my_leaf.get_descriptive_name())"
   ]
  },
  {
   "cell_type": "code",
   "execution_count": null,
   "id": "203ab983-d06f-46e9-9d0e-b8f8ced9c31a",
   "metadata": {},
   "outputs": [],
   "source": [
    "#9.4.5 导入模块中的所有类\n",
    "from module_name import *"
   ]
  },
  {
   "cell_type": "code",
   "execution_count": null,
   "id": "06dd207f-4e8a-4d7b-9f54-55b77a702706",
   "metadata": {},
   "outputs": [],
   "source": [
    "#9.4.6 在一个模块中导入另一个模块\n",
    "\"\"\"一组可用于表示电动汽车的类\"\"\"\n",
    "\n",
    "from car import Car\n",
    "\n",
    "class Battery:\n",
    "    --snip--\n",
    "\n",
    "class ElectricCar(Car):\n",
    "    --snip--"
   ]
  },
  {
   "cell_type": "code",
   "execution_count": null,
   "id": "4664c3c5-924b-4db6-ab33-83fc58cccf15",
   "metadata": {},
   "outputs": [],
   "source": [
    "from car import Car\n",
    "from electric_car import ElectricCar\n",
    "\n",
    "my_mustang = Car('ford', 'mustang', 2024)\n",
    "print(my_mustang.get_descriptive_name())\n",
    "\n",
    "my_leaf = ElectricCar('nissan', 'leaf', 2024)\n",
    "print(my_leaf.get_descriptive_name())"
   ]
  },
  {
   "cell_type": "code",
   "execution_count": null,
   "id": "8eeb9074-caed-49e5-9823-dfe6ad6868a3",
   "metadata": {},
   "outputs": [],
   "source": [
    "#9.4.7使用别名\n",
    "from electric_car import ElectricCar as EC\n",
    "#给模块指定别名\n",
    "import electric_car as ec"
   ]
  },
  {
   "cell_type": "code",
   "execution_count": null,
   "id": "da9ea87e-173c-4b16-bfe4-dcaca457325d",
   "metadata": {},
   "outputs": [],
   "source": [
    "#9.4.8 找到合适的工作流程"
   ]
  },
  {
   "cell_type": "markdown",
   "id": "e8d68b38-009b-4adf-86c5-cbfc1d8d2839",
   "metadata": {},
   "source": [
    "## 动手试一试"
   ]
  },
  {
   "cell_type": "code",
   "execution_count": 76,
   "id": "4e526b26-0e75-4dea-99c0-b22dcc63b21d",
   "metadata": {},
   "outputs": [
    {
     "ename": "ModuleNotFoundError",
     "evalue": "No module named 'restaurant'",
     "output_type": "error",
     "traceback": [
      "\u001b[0;31m---------------------------------------------------------------------------\u001b[0m",
      "\u001b[0;31mModuleNotFoundError\u001b[0m                       Traceback (most recent call last)",
      "Cell \u001b[0;32mIn[76], line 16\u001b[0m\n\u001b[1;32m     13\u001b[0m         \u001b[38;5;28mprint\u001b[39m(\u001b[38;5;124mf\u001b[39m\u001b[38;5;124m\"\u001b[39m\u001b[38;5;132;01m{\u001b[39;00m\u001b[38;5;28mself\u001b[39m\u001b[38;5;241m.\u001b[39mname\u001b[38;5;132;01m}\u001b[39;00m\u001b[38;5;124m is now open.\u001b[39m\u001b[38;5;124m\"\u001b[39m)\n\u001b[1;32m     14\u001b[0m \u001b[38;5;66;03m# main.py\u001b[39;00m\n\u001b[0;32m---> 16\u001b[0m \u001b[38;5;28;01mfrom\u001b[39;00m \u001b[38;5;21;01mrestaurant\u001b[39;00m \u001b[38;5;28;01mimport\u001b[39;00m Restaurant\n\u001b[1;32m     18\u001b[0m my_restaurant \u001b[38;5;241m=\u001b[39m Restaurant(\u001b[38;5;124m\"\u001b[39m\u001b[38;5;124mThe Italian Place\u001b[39m\u001b[38;5;124m\"\u001b[39m, \u001b[38;5;124m\"\u001b[39m\u001b[38;5;124mItalian\u001b[39m\u001b[38;5;124m\"\u001b[39m)\n\u001b[1;32m     19\u001b[0m my_restaurant\u001b[38;5;241m.\u001b[39mdescribe_restaurant()\n",
      "\u001b[0;31mModuleNotFoundError\u001b[0m: No module named 'restaurant'"
     ]
    }
   ],
   "source": [
    "#练习9.10\n",
    "# restaurant.py\n",
    "\n",
    "class Restaurant:\n",
    "    def __init__(self, name, cuisine_type):\n",
    "        self.name = name\n",
    "        self.cuisine_type = cuisine_type\n",
    "\n",
    "    def describe_restaurant(self):\n",
    "        print(f\"{self.name} serves wonderful {self.cuisine_type}.\")\n",
    "\n",
    "    def open_restaurant(self):\n",
    "        print(f\"{self.name} is now open.\")\n",
    "# main.py\n",
    "\n",
    "from restaurant import Restaurant\n",
    "\n",
    "my_restaurant = Restaurant(\"The Italian Place\", \"Italian\")\n",
    "my_restaurant.describe_restaurant()\n",
    "my_restaurant.open_restaurant()\n"
   ]
  },
  {
   "cell_type": "code",
   "execution_count": null,
   "id": "c25a0649-fb1a-448f-b1f9-f28d37a66543",
   "metadata": {},
   "outputs": [],
   "source": [
    "#练习9.11\n",
    "# user.py\n",
    "\n",
    "class User:\n",
    "    def __init__(self, first_name, last_name, age, gender):\n",
    "        self.first_name = first_name\n",
    "        self.last_name = last_name\n",
    "        self.age = age\n",
    "        self.gender = gender\n",
    "\n",
    "    def describe_user(self):\n",
    "        print(f\"{self.first_name} {self.last_name}, age {self.age}, gender {self.gender}\")\n",
    "\n",
    "    def greet_user(self):\n",
    "        print(f\"Hello, {self.first_name} {self.last_name}! Welcome back.\")\n",
    "\n",
    "class Privileges:\n",
    "    def __init__(self):\n",
    "        self.privileges = []\n",
    "\n",
    "    def show_privileges(self):\n",
    "        print(\"Privileges:\")\n",
    "        for privilege in self.privileges:\n",
    "            print(f\"- {privilege}\")\n",
    "\n",
    "class Admin(User):\n",
    "    def __init__(self, first_name, last_name, age, gender):\n",
    "        super().__init__(first_name, last_name, age, gender)\n",
    "        self.privileges = Privileges()\n"
   ]
  },
  {
   "cell_type": "code",
   "execution_count": null,
   "id": "f6fc7d60-81e0-40f2-a007-384505cdba48",
   "metadata": {},
   "outputs": [],
   "source": [
    "#练习9.12:多个模块\n",
    "# users.py\n",
    "\n",
    "class User:\n",
    "    def __init__(self, first_name, last_name, age, gender):\n",
    "        self.first_name = first_name\n",
    "        self.last_name = last_name\n",
    "        self.age = age\n",
    "        self.gender = gender\n",
    "\n",
    "    def describe_user(self):\n",
    "        print(f\"{self.first_name} {self.last_name}, age {self.age}, gender {self.gender}\")\n",
    "\n",
    "    def greet_user(self):\n",
    "        print(f\"Hello, {self.first_name} {self.last_name}! Welcome back.\")\n",
    "# admin_privileges.py\n",
    "\n",
    "from users import User\n",
    "\n",
    "class Privileges:\n",
    "    def __init__(self):\n",
    "        self.privileges = []\n",
    "\n",
    "    def show_privileges(self):\n",
    "        print(\"Privileges:\")\n",
    "        for privilege in self.privileges:\n",
    "            print(f\"- {privilege}\")\n",
    "\n",
    "class Admin(User):\n",
    "    def __init__(self, first_name, last_name, age, gender):\n",
    "        super().__init__(first_name, last_name, age, gender)\n",
    "        self.privileges = Privileges()\n",
    "# test_admin.py\n",
    "\n",
    "from admin_privileges import Admin\n",
    "\n",
    "admin = Admin('John', 'Doe', 30, 'Male')\n",
    "admin.privileges.privileges = ['can add post', 'can delete post', 'can ban user']\n",
    "admin.privileges.show_privileges()\n"
   ]
  },
  {
   "cell_type": "markdown",
   "id": "baefa904-2a14-40c8-b524-3698314ba74e",
   "metadata": {},
   "source": [
    "## 9.5 Python 标准库"
   ]
  },
  {
   "cell_type": "code",
   "execution_count": 77,
   "id": "cd203b21-f047-4b42-a64b-3517ba0fd8dd",
   "metadata": {},
   "outputs": [
    {
     "data": {
      "text/plain": [
       "3"
      ]
     },
     "execution_count": 77,
     "metadata": {},
     "output_type": "execute_result"
    }
   ],
   "source": [
    ">>> from random import randint\n",
    ">>> randint(1, 6)\n",
    "3"
   ]
  },
  {
   "cell_type": "code",
   "execution_count": 78,
   "id": "0df8ddcc-4723-42fb-8f37-f6f67fece5fb",
   "metadata": {},
   "outputs": [
    {
     "data": {
      "text/plain": [
       "'florence'"
      ]
     },
     "execution_count": 78,
     "metadata": {},
     "output_type": "execute_result"
    }
   ],
   "source": [
    ">>> from random import choice\n",
    ">>> players = ['charles', 'martina', 'michael', 'florence', 'eli']\n",
    ">>> first_up = choice(players)\n",
    ">>> first_up\n",
    "'florence'"
   ]
  },
  {
   "cell_type": "markdown",
   "id": "df835415-44fb-47ee-9d42-6aab12665c09",
   "metadata": {},
   "source": [
    "## 动手试一试"
   ]
  },
  {
   "cell_type": "code",
   "execution_count": 79,
   "id": "e0828ef6-7e52-4b23-8f16-f6c9492550ba",
   "metadata": {},
   "outputs": [
    {
     "name": "stdout",
     "output_type": "stream",
     "text": [
      "3\n",
      "6\n",
      "6\n",
      "5\n",
      "3\n",
      "1\n",
      "6\n",
      "6\n",
      "6\n",
      "3\n",
      "6\n",
      "8\n",
      "7\n",
      "7\n",
      "1\n",
      "3\n",
      "10\n",
      "10\n",
      "6\n",
      "1\n",
      "8\n",
      "9\n",
      "15\n",
      "18\n",
      "14\n",
      "20\n",
      "8\n",
      "16\n",
      "12\n",
      "12\n"
     ]
    }
   ],
   "source": [
    "#练习9.13 骰子\n",
    "import random\n",
    "\n",
    "class Die:\n",
    "    def __init__(self, sides=6):\n",
    "        self.sides = sides\n",
    "\n",
    "    def roll_die(self):\n",
    "        return random.randint(1, self.sides)\n",
    "\n",
    "# 创建一个 6 面的骰子并掷 10 次\n",
    "die_6 = Die()\n",
    "for _ in range(10):\n",
    "    print(die_6.roll_die())\n",
    "\n",
    "# 创建一个 10 面的骰子并掷 10 次\n",
    "die_10 = Die(10)\n",
    "for _ in range(10):\n",
    "    print(die_10.roll_die())\n",
    "\n",
    "# 创建一个 20 面的骰子并掷 10 次\n",
    "die_20 = Die(20)\n",
    "for _ in range(10):\n",
    "    print(die_20.roll_die())\n"
   ]
  },
  {
   "cell_type": "code",
   "execution_count": 80,
   "id": "de5bc9ec-6807-4a67-a3fd-a829b88c5c50",
   "metadata": {},
   "outputs": [
    {
     "name": "stdout",
     "output_type": "stream",
     "text": [
      "只要彩票上是这 4 个数或字母，就中大奖了： [2, 'c', 4, 'b']\n"
     ]
    }
   ],
   "source": [
    "#练习9.14 彩票分析\n",
    "import random\n",
    "\n",
    "# 创建一个列表，包含 10 个数和 5 个字母\n",
    "lottery_elements = [1, 2, 3, 4, 5, 6, 7, 8, 9, 0, 'a', 'b', 'c', 'd', 'e']\n",
    "\n",
    "# 从列表中随机选择 4 个元素\n",
    "winning_numbers = random.sample(lottery_elements, 4)\n",
    "\n",
    "print(\"只要彩票上是这 4 个数或字母，就中大奖了：\", winning_numbers)"
   ]
  },
  {
   "cell_type": "code",
   "execution_count": 81,
   "id": "0642a1e7-154f-448e-aef5-0c8ae17f43da",
   "metadata": {},
   "outputs": [
    {
     "name": "stdout",
     "output_type": "stream",
     "text": [
      "执行了 37279 次循环才中了大奖。\n"
     ]
    }
   ],
   "source": [
    "#练习9.15 彩票分析\n",
    "import random\n",
    "\n",
    "# 创建一个列表，包含 10 个数和 5 个字母\n",
    "lottery_elements = [1, 2, 3, 4, 5, 6, 7, 8, 9, 0, 'a', 'b', 'c', 'd', 'e']\n",
    "\n",
    "# 定义你的彩票\n",
    "my_ticket = [1, 'a', 2, 'b']\n",
    "\n",
    "# 计数器\n",
    "attempts = 0\n",
    "\n",
    "# 循环直到中奖\n",
    "while True:\n",
    "    # 随机选择 4 个元素\n",
    "    drawn_numbers = random.sample(lottery_elements, 4)\n",
    "    attempts += 1\n",
    "    if drawn_numbers == my_ticket:\n",
    "        break\n",
    "\n",
    "print(\"执行了\", attempts, \"次循环才中了大奖。\")\n"
   ]
  },
  {
   "cell_type": "code",
   "execution_count": null,
   "id": "17cd8b4c-ac26-498c-a6a2-a04f7deb7ce1",
   "metadata": {},
   "outputs": [],
   "source": []
  }
 ],
 "metadata": {
  "kernelspec": {
   "display_name": "Python 3 (ipykernel)",
   "language": "python",
   "name": "python3"
  },
  "language_info": {
   "codemirror_mode": {
    "name": "ipython",
    "version": 3
   },
   "file_extension": ".py",
   "mimetype": "text/x-python",
   "name": "python",
   "nbconvert_exporter": "python",
   "pygments_lexer": "ipython3",
   "version": "3.11.7"
  }
 },
 "nbformat": 4,
 "nbformat_minor": 5
}
