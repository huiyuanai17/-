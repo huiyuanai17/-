{
 "cells": [
  {
   "cell_type": "markdown",
   "id": "a422726b",
   "metadata": {},
   "source": [
    "# 第三章 列表简介 "
   ]
  },
  {
   "cell_type": "markdown",
   "id": "7ffd5d0b",
   "metadata": {},
   "source": [
    "## 3.1 列表是什么"
   ]
  },
  {
   "cell_type": "code",
   "execution_count": 1,
   "id": "d5c53a09",
   "metadata": {},
   "outputs": [
    {
     "name": "stdout",
     "output_type": "stream",
     "text": [
      "['trek', 'redline', 'giant']\n"
     ]
    }
   ],
   "source": [
    "bikes=['trek','redline','giant']\n",
    "print(bikes)"
   ]
  },
  {
   "cell_type": "code",
   "execution_count": 2,
   "id": "f0275634",
   "metadata": {},
   "outputs": [
    {
     "name": "stdout",
     "output_type": "stream",
     "text": [
      "trek\n",
      "giant giant\n"
     ]
    }
   ],
   "source": [
    "#3.1.1 访问列表元素\n",
    "bikes=['trek','redline','giant']\n",
    "print(bikes[0])\n",
    "print(bikes[2],bikes[-1])"
   ]
  },
  {
   "cell_type": "code",
   "execution_count": 7,
   "id": "05679240",
   "metadata": {},
   "outputs": [
    {
     "name": "stdout",
     "output_type": "stream",
     "text": [
      "My first bicyle was a Trek.\n"
     ]
    }
   ],
   "source": [
    "#3.1.3 使用列表中的各个值\n",
    "bikes=['trek','redline','giant']\n",
    "message=f\"My first bicyle was a {bikes[0].title()}.\"\n",
    "print(message)"
   ]
  },
  {
   "cell_type": "code",
   "execution_count": 9,
   "id": "5c9e53c1",
   "metadata": {},
   "outputs": [
    {
     "name": "stdout",
     "output_type": "stream",
     "text": [
      "['honda', 'yamaha', 'suzuki']\n",
      "['ducati', 'yamaha', 'suzuki']\n"
     ]
    }
   ],
   "source": [
    "#3.2.1 修改列表元素\n",
    "motorcycles=['honda','yamaha','suzuki']\n",
    "print(motorcycles)\n",
    "motorcycles[0]='ducati'\n",
    "print(motorcycles)"
   ]
  },
  {
   "cell_type": "code",
   "execution_count": 10,
   "id": "2e13dc34",
   "metadata": {},
   "outputs": [
    {
     "name": "stdout",
     "output_type": "stream",
     "text": [
      "['trek', 'redline']\n"
     ]
    }
   ],
   "source": [
    "#3.2.2 在列表中添加元素\n",
    "bikes=[]\n",
    "bikes.append('redline')\n",
    "bikes.insert(0,'trek')\n",
    "print(bikes)"
   ]
  },
  {
   "cell_type": "code",
   "execution_count": 11,
   "id": "6e18f4a0",
   "metadata": {},
   "outputs": [
    {
     "name": "stdout",
     "output_type": "stream",
     "text": [
      "['redline', 'giant']\n"
     ]
    }
   ],
   "source": [
    "#3.2.3 从列表中删除元素\n",
    "bikes=['trek','redline','giant']\n",
    "del bikes[0]\n",
    "print(bikes)"
   ]
  },
  {
   "cell_type": "code",
   "execution_count": 12,
   "id": "039735b0",
   "metadata": {},
   "outputs": [
    {
     "name": "stdout",
     "output_type": "stream",
     "text": [
      "['trek', 'redline']\n",
      "giant\n"
     ]
    }
   ],
   "source": [
    "#使用pop()方法删除元素\n",
    "bikes=['giant','trek','redline']\n",
    "popped_bike=bikes.pop()\n",
    "print(bikes)\n",
    "print(popped_bike)"
   ]
  },
  {
   "cell_type": "code",
   "execution_count": 2,
   "id": "ac9f7767",
   "metadata": {},
   "outputs": [
    {
     "name": "stdout",
     "output_type": "stream",
     "text": [
      "the first bike i owned was a Honda.\n"
     ]
    }
   ],
   "source": [
    "#也可以使用pop()删除列表中任意位置的元素，需要在括号中指定要删除的元素\n",
    "motorcycles=['honda','yamaha','suzuki']\n",
    "first_owned=motorcycles.pop(0)\n",
    "print(f\"the first bike i owned was a {first_owned.title()}.\")"
   ]
  },
  {
   "cell_type": "code",
   "execution_count": 5,
   "id": "feb5da7d",
   "metadata": {},
   "outputs": [
    {
     "name": "stdout",
     "output_type": "stream",
     "text": [
      "['honda', 'yamaha', 'suzuki']\n",
      "A Ducati is too expensive for me.\n"
     ]
    }
   ],
   "source": [
    "#根据值来删除列表中的元素\n",
    "motorcycles=['honda','yamaha','suzuki','ducati']\n",
    "too_expensive='ducati'\n",
    "motorcycles.remove(too_expensive)\n",
    "print(motorcycles)\n",
    "print(f\"A {too_expensive.title()} is too expensive for me.\")"
   ]
  },
  {
   "cell_type": "markdown",
   "id": "1c89ccc1",
   "metadata": {},
   "source": [
    "## 3.3 管理列表"
   ]
  },
  {
   "cell_type": "code",
   "execution_count": 6,
   "id": "2b4a1eb6",
   "metadata": {},
   "outputs": [
    {
     "name": "stdout",
     "output_type": "stream",
     "text": [
      "['audi', 'bmw', 'subaru', 'toyota']\n"
     ]
    }
   ],
   "source": [
    "#3.3.1 使用sort()方法对列表进行永久排序\n",
    "cars=['bmw','audi','toyota','subaru']\n",
    "cars.sort()\n",
    "print(cars)"
   ]
  },
  {
   "cell_type": "code",
   "execution_count": 7,
   "id": "e595522e",
   "metadata": {},
   "outputs": [
    {
     "name": "stdout",
     "output_type": "stream",
     "text": [
      "['toyota', 'subaru', 'bmw', 'audi']\n"
     ]
    }
   ],
   "source": [
    "cars=['bmw','audi','toyota','subaru']\n",
    "cars.sort(reverse=True)\n",
    "print(cars)"
   ]
  },
  {
   "cell_type": "code",
   "execution_count": null,
   "id": "89341852",
   "metadata": {},
   "outputs": [],
   "source": [
    "#3.3.2 使用sorted（）函数对列表进行临时排序\n",
    "nums=[9,6,1,4,2]\n",
    "print(sorted(nums))\n",
    "nums.sort()\n",
    "print(nums)\n",
    "nums.sort(reverse=True)\n",
    "print(nums)"
   ]
  },
  {
   "cell_type": "code",
   "execution_count": 8,
   "id": "0c81944d",
   "metadata": {},
   "outputs": [
    {
     "name": "stdout",
     "output_type": "stream",
     "text": [
      "[2, 4, 1, 6, 9]\n"
     ]
    }
   ],
   "source": [
    "# 3.3.3 反转\n",
    "nums=[9,6,1,4,2]\n",
    "nums.reverse()\n",
    "print(nums)"
   ]
  },
  {
   "cell_type": "code",
   "execution_count": 10,
   "id": "cddf0322",
   "metadata": {},
   "outputs": [
    {
     "data": {
      "text/plain": [
       "4"
      ]
     },
     "execution_count": 10,
     "metadata": {},
     "output_type": "execute_result"
    }
   ],
   "source": [
    "#3.3.4 确定列表的长度\n",
    "cars=['bmw','audi','toyota','subaru']\n",
    "len(cars)"
   ]
  },
  {
   "cell_type": "code",
   "execution_count": null,
   "id": "8829b7bf",
   "metadata": {},
   "outputs": [],
   "source": []
  },
  {
   "cell_type": "code",
   "execution_count": null,
   "id": "a93793c7",
   "metadata": {},
   "outputs": [],
   "source": []
  },
  {
   "cell_type": "code",
   "execution_count": null,
   "id": "9adfd8ba",
   "metadata": {},
   "outputs": [],
   "source": []
  },
  {
   "cell_type": "code",
   "execution_count": null,
   "id": "0e8ba754",
   "metadata": {},
   "outputs": [],
   "source": []
  },
  {
   "cell_type": "code",
   "execution_count": null,
   "id": "9587547a",
   "metadata": {},
   "outputs": [],
   "source": []
  },
  {
   "cell_type": "code",
   "execution_count": null,
   "id": "18d2a753",
   "metadata": {},
   "outputs": [],
   "source": []
  },
  {
   "cell_type": "code",
   "execution_count": null,
   "id": "6ce8a0fd",
   "metadata": {},
   "outputs": [],
   "source": []
  }
 ],
 "metadata": {
  "kernelspec": {
   "display_name": "Python 3 (ipykernel)",
   "language": "python",
   "name": "python3"
  },
  "language_info": {
   "codemirror_mode": {
    "name": "ipython",
    "version": 3
   },
   "file_extension": ".py",
   "mimetype": "text/x-python",
   "name": "python",
   "nbconvert_exporter": "python",
   "pygments_lexer": "ipython3",
   "version": "3.11.5"
  }
 },
 "nbformat": 4,
 "nbformat_minor": 5
}
