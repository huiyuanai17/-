{
 "cells": [
  {
   "cell_type": "markdown",
   "id": "a422726b",
   "metadata": {},
   "source": [
    "# 第三章 列表简介 "
   ]
  },
  {
   "cell_type": "markdown",
   "id": "7ffd5d0b",
   "metadata": {},
   "source": [
    "## 3.1 列表是什么"
   ]
  },
  {
   "cell_type": "code",
   "execution_count": 1,
   "id": "d5c53a09",
   "metadata": {},
   "outputs": [
    {
     "name": "stdout",
     "output_type": "stream",
     "text": [
      "['trek', 'redline', 'giant']\n"
     ]
    }
   ],
   "source": [
    "bikes=['trek','redline','giant']\n",
    "print(bikes)"
   ]
  },
  {
   "cell_type": "code",
   "execution_count": 2,
   "id": "f0275634",
   "metadata": {},
   "outputs": [
    {
     "name": "stdout",
     "output_type": "stream",
     "text": [
      "trek\n",
      "giant giant\n"
     ]
    }
   ],
   "source": [
    "#3.1.1 访问列表元素\n",
    "bikes=['trek','redline','giant']\n",
    "print(bikes[0])\n",
    "print(bikes[2],bikes[-1])"
   ]
  },
  {
   "cell_type": "code",
   "execution_count": 7,
   "id": "05679240",
   "metadata": {},
   "outputs": [
    {
     "name": "stdout",
     "output_type": "stream",
     "text": [
      "My first bicyle was a Trek.\n"
     ]
    }
   ],
   "source": [
    "#3.1.3 使用列表中的各个值\n",
    "bikes=['trek','redline','giant']\n",
    "message=f\"My first bicyle was a {bikes[0].title()}.\"\n",
    "print(message)"
   ]
  },
  {
   "cell_type": "code",
   "execution_count": 9,
   "id": "5c9e53c1",
   "metadata": {},
   "outputs": [
    {
     "name": "stdout",
     "output_type": "stream",
     "text": [
      "['honda', 'yamaha', 'suzuki']\n",
      "['ducati', 'yamaha', 'suzuki']\n"
     ]
    }
   ],
   "source": [
    "#3.2.1 修改列表元素\n",
    "motorcycles=['honda','yamaha','suzuki']\n",
    "print(motorcycles)\n",
    "motorcycles[0]='ducati'\n",
    "print(motorcycles)"
   ]
  },
  {
   "cell_type": "code",
   "execution_count": 10,
   "id": "2e13dc34",
   "metadata": {},
   "outputs": [
    {
     "name": "stdout",
     "output_type": "stream",
     "text": [
      "['trek', 'redline']\n"
     ]
    }
   ],
   "source": [
    "#3.2.2 在列表中添加元素\n",
    "bikes=[]\n",
    "bikes.append('redline')\n",
    "bikes.insert(0,'trek')\n",
    "print(bikes)"
   ]
  },
  {
   "cell_type": "code",
   "execution_count": 11,
   "id": "6e18f4a0",
   "metadata": {},
   "outputs": [
    {
     "name": "stdout",
     "output_type": "stream",
     "text": [
      "['redline', 'giant']\n"
     ]
    }
   ],
   "source": [
    "#3.2.3 从列表中删除元素\n",
    "bikes=['trek','redline','giant']\n",
    "del bikes[0]\n",
    "print(bikes)"
   ]
  },
  {
   "cell_type": "code",
   "execution_count": 12,
   "id": "039735b0",
   "metadata": {},
   "outputs": [
    {
     "name": "stdout",
     "output_type": "stream",
     "text": [
      "['trek', 'redline']\n",
      "giant\n"
     ]
    }
   ],
   "source": [
    "#使用pop()方法删除元素\n",
    "bikes=['giant','trek','redline']\n",
    "popped_bike=bikes.pop()\n",
    "print(bikes)\n",
    "print(popped_bike)"
   ]
  },
  {
   "cell_type": "code",
   "execution_count": 2,
   "id": "ac9f7767",
   "metadata": {},
   "outputs": [
    {
     "name": "stdout",
     "output_type": "stream",
     "text": [
      "the first bike i owned was a Honda.\n"
     ]
    }
   ],
   "source": [
    "#也可以使用pop()删除列表中任意位置的元素，需要在括号中指定要删除的元素\n",
    "motorcycles=['honda','yamaha','suzuki']\n",
    "first_owned=motorcycles.pop(0)\n",
    "print(f\"the first bike i owned was a {first_owned.title()}.\")"
   ]
  },
  {
   "cell_type": "code",
   "execution_count": 5,
   "id": "feb5da7d",
   "metadata": {},
   "outputs": [
    {
     "name": "stdout",
     "output_type": "stream",
     "text": [
      "['honda', 'yamaha', 'suzuki']\n",
      "A Ducati is too expensive for me.\n"
     ]
    }
   ],
   "source": [
    "#根据值来删除列表中的元素\n",
    "motorcycles=['honda','yamaha','suzuki','ducati']\n",
    "too_expensive='ducati'\n",
    "motorcycles.remove(too_expensive)\n",
    "print(motorcycles)\n",
    "print(f\"A {too_expensive.title()} is too expensive for me.\")"
   ]
  },
  {
   "cell_type": "markdown",
   "id": "1c89ccc1",
   "metadata": {},
   "source": [
    "## 3.3 管理列表"
   ]
  },
  {
   "cell_type": "code",
   "execution_count": 6,
   "id": "2b4a1eb6",
   "metadata": {},
   "outputs": [
    {
     "name": "stdout",
     "output_type": "stream",
     "text": [
      "['audi', 'bmw', 'subaru', 'toyota']\n"
     ]
    }
   ],
   "source": [
    "#3.3.1 使用sort()方法对列表进行永久排序\n",
    "cars=['bmw','audi','toyota','subaru']\n",
    "cars.sort()\n",
    "print(cars)"
   ]
  },
  {
   "cell_type": "code",
   "execution_count": 7,
   "id": "e595522e",
   "metadata": {},
   "outputs": [
    {
     "name": "stdout",
     "output_type": "stream",
     "text": [
      "['toyota', 'subaru', 'bmw', 'audi']\n"
     ]
    }
   ],
   "source": [
    "cars=['bmw','audi','toyota','subaru']\n",
    "cars.sort(reverse=True)\n",
    "print(cars)"
   ]
  },
  {
   "cell_type": "code",
   "execution_count": null,
   "id": "89341852",
   "metadata": {},
   "outputs": [],
   "source": [
    "#3.3.2 使用sorted（）函数对列表进行临时排序\n",
    "nums=[9,6,1,4,2]\n",
    "print(sorted(nums))\n",
    "nums.sort()\n",
    "print(nums)\n",
    "nums.sort(reverse=True)\n",
    "print(nums)"
   ]
  },
  {
   "cell_type": "code",
   "execution_count": 8,
   "id": "0c81944d",
   "metadata": {},
   "outputs": [
    {
     "name": "stdout",
     "output_type": "stream",
     "text": [
      "[2, 4, 1, 6, 9]\n"
     ]
    }
   ],
   "source": [
    "# 3.3.3 反转\n",
    "nums=[9,6,1,4,2]\n",
    "nums.reverse()\n",
    "print(nums)"
   ]
  },
  {
   "cell_type": "code",
   "execution_count": 10,
   "id": "cddf0322",
   "metadata": {},
   "outputs": [
    {
     "data": {
      "text/plain": [
       "4"
      ]
     },
     "execution_count": 10,
     "metadata": {},
     "output_type": "execute_result"
    }
   ],
   "source": [
    "#3.3.4 确定列表的长度\n",
    "cars=['bmw','audi','toyota','subaru']\n",
    "len(cars)"
   ]
  },
  {
   "cell_type": "markdown",
   "id": "db2e82db-da4b-4ce2-9a0f-f828c9676c7f",
   "metadata": {},
   "source": [
    "## 动手试一试"
   ]
  },
  {
   "cell_type": "code",
   "execution_count": 1,
   "id": "8829b7bf",
   "metadata": {},
   "outputs": [
    {
     "name": "stdout",
     "output_type": "stream",
     "text": [
      "Alice\n",
      "Bob\n",
      "Charlie\n",
      "Diana\n",
      "Hello, Alice! How are you doing today?\n",
      "Hello, Bob! How are you doing today?\n",
      "Hello, Charlie! How are you doing today?\n",
      "Hello, Diana! How are you doing today?\n",
      "I love traveling by bicycle. It's very relaxing.\n",
      "I love traveling by car. It's very relaxing.\n",
      "I love traveling by train. It's very relaxing.\n"
     ]
    }
   ],
   "source": [
    "# 练习 3.1 姓名\n",
    "names = ['Alice', 'Bob', 'Charlie', 'Diana']\n",
    "for name in names:\n",
    "    print(name)\n",
    "    \n",
    "#练习 3.2 问候语\n",
    "names = ['Alice', 'Bob', 'Charlie', 'Diana']\n",
    "for name in names:\n",
    "    print(f\"Hello, {name}! How are you doing today?\")\n",
    "\n",
    "\n",
    "#练习 3.3 自己的列表\n",
    "commutes = ['bicycle', 'car', 'train']\n",
    "for commute in commutes:\n",
    "    print(f\"I love traveling by {commute}. It's very relaxing.\")"
   ]
  },
  {
   "cell_type": "code",
   "execution_count": 2,
   "id": "a93793c7",
   "metadata": {},
   "outputs": [
    {
     "name": "stdout",
     "output_type": "stream",
     "text": [
      "Albert Einstein, I would be pleased to have dinner with you.\n",
      "Marie Curie, I would be pleased to have dinner with you.\n",
      "Isaac Newton, I would be pleased to have dinner with you.\n",
      "\n",
      "Unfortunately, Isaac Newton can't make it to the dinner.\n",
      "Albert Einstein, I would be pleased to have dinner with you.\n",
      "Marie Curie, I would be pleased to have dinner with you.\n",
      "Isaac Newton, I would be pleased to have dinner with you.\n",
      "Great news! I found a bigger dinner table, so we can invite more guests!\n",
      "Leonardo da Vinci, I would be pleased to have dinner with you.\n",
      "Albert Einstein, I would be pleased to have dinner with you.\n",
      "Ada Lovelace, I would be pleased to have dinner with you.\n",
      "Marie Curie, I would be pleased to have dinner with you.\n",
      "Nicola Tesla, I would be pleased to have dinner with you.\n",
      "Charles Darwin, I would be pleased to have dinner with you.\n"
     ]
    }
   ],
   "source": [
    "#3.4 嘉宾名单\n",
    "guests = ['Albert Einstein', 'Marie Curie', 'Isaac Newton']\n",
    "for guest in guests:\n",
    "    print(f\"{guest}, I would be pleased to have dinner with you.\")\n",
    "#3.5 修改嘉宾名单\n",
    "print(f\"\\nUnfortunately, {guests[-1]} can't make it to the dinner.\")\n",
    "for guest in guests:\n",
    "    print(f\"{guest}, I would be pleased to have dinner with you.\")\n",
    "#3.6 添加嘉宾\n",
    "guests = ['Albert Einstein', 'Marie Curie', 'Nicola Tesla']\n",
    "print(\"Great news! I found a bigger dinner table, so we can invite more guests!\")\n",
    "guests.insert(0, 'Leonardo da Vinci')\n",
    "middle_index = len(guests) // 2\n",
    "guests.insert(middle_index, 'Ada Lovelace')\n",
    "guests.append('Charles Darwin')\n",
    "for guest in guests:\n",
    "    print(f\"{guest}, I would be pleased to have dinner with you.\")"
   ]
  },
  {
   "cell_type": "code",
   "execution_count": 3,
   "id": "9adfd8ba",
   "metadata": {},
   "outputs": [
    {
     "name": "stdout",
     "output_type": "stream",
     "text": [
      "I'm sorry to inform that the dinner table won't arrive in time, and I can only invite two guests.\n",
      "I'm really sorry, Charles Darwin. I cannot invite you to dinner.\n",
      "I'm really sorry, Nicola Tesla. I cannot invite you to dinner.\n",
      "I'm really sorry, Marie Curie. I cannot invite you to dinner.\n",
      "I'm really sorry, Ada Lovelace. I cannot invite you to dinner.\n",
      "Leonardo da Vinci, you are still invited to the dinner.\n",
      "Albert Einstein, you are still invited to the dinner.\n",
      "[]\n"
     ]
    }
   ],
   "source": [
    "#3.7 缩短名单\n",
    "guests = ['Leonardo da Vinci', 'Albert Einstein', 'Ada Lovelace', 'Marie Curie', 'Nicola Tesla', 'Charles Darwin']\n",
    "print(\"I'm sorry to inform that the dinner table won't arrive in time, and I can only invite two guests.\")\n",
    "while len(guests) > 2:\n",
    "    removed_guest = guests.pop()\n",
    "    print(f\"I'm really sorry, {removed_guest}. I cannot invite you to dinner.\")\n",
    "for guest in guests:\n",
    "    print(f\"{guest}, you are still invited to the dinner.\")\n",
    "del guests[1]\n",
    "del guests[0]\n",
    "print(guests)"
   ]
  },
  {
   "cell_type": "code",
   "execution_count": 4,
   "id": "0e8ba754",
   "metadata": {},
   "outputs": [
    {
     "name": "stdout",
     "output_type": "stream",
     "text": [
      "['Kyoto', 'New Zealand', 'Iceland', 'Paris', 'Maldives']\n",
      "['Iceland', 'Kyoto', 'Maldives', 'New Zealand', 'Paris']\n",
      "['Kyoto', 'New Zealand', 'Iceland', 'Paris', 'Maldives']\n",
      "['Paris', 'New Zealand', 'Maldives', 'Kyoto', 'Iceland']\n",
      "['Kyoto', 'New Zealand', 'Iceland', 'Paris', 'Maldives']\n",
      "['Maldives', 'Paris', 'Iceland', 'New Zealand', 'Kyoto']\n",
      "['Kyoto', 'New Zealand', 'Iceland', 'Paris', 'Maldives']\n",
      "['Iceland', 'Kyoto', 'Maldives', 'New Zealand', 'Paris']\n",
      "['Paris', 'New Zealand', 'Maldives', 'Kyoto', 'Iceland']\n"
     ]
    }
   ],
   "source": [
    "#3.8 放眼世界\n",
    "travel_destinations = ['Kyoto', 'New Zealand', 'Iceland', 'Paris', 'Maldives']\n",
    "print(travel_destinations)\n",
    "print(sorted(travel_destinations))\n",
    "print(travel_destinations)\n",
    "print(sorted(travel_destinations, reverse=True))\n",
    "print(travel_destinations)\n",
    "travel_destinations.reverse()\n",
    "print(travel_destinations)\n",
    "travel_destinations.reverse()\n",
    "print(travel_destinations)\n",
    "travel_destinations.sort()\n",
    "print(travel_destinations)\n",
    "travel_destinations.sort(reverse=True)\n",
    "print(travel_destinations)"
   ]
  },
  {
   "cell_type": "code",
   "execution_count": 5,
   "id": "9587547a",
   "metadata": {},
   "outputs": [
    {
     "name": "stdout",
     "output_type": "stream",
     "text": [
      "I have invited 4 guests to the dinner.\n"
     ]
    }
   ],
   "source": [
    "#3.9 晚餐嘉宾\n",
    "dinner_guests = ['Alice', 'Bob', 'Charlie', 'Diana']\n",
    "number_of_guests = len(dinner_guests)\n",
    "print(f\"I have invited {number_of_guests} guests to the dinner.\")"
   ]
  },
  {
   "cell_type": "code",
   "execution_count": null,
   "id": "18d2a753",
   "metadata": {},
   "outputs": [],
   "source": []
  },
  {
   "cell_type": "code",
   "execution_count": null,
   "id": "6ce8a0fd",
   "metadata": {},
   "outputs": [],
   "source": []
  }
 ],
 "metadata": {
  "kernelspec": {
   "display_name": "Python 3 (ipykernel)",
   "language": "python",
   "name": "python3"
  },
  "language_info": {
   "codemirror_mode": {
    "name": "ipython",
    "version": 3
   },
   "file_extension": ".py",
   "mimetype": "text/x-python",
   "name": "python",
   "nbconvert_exporter": "python",
   "pygments_lexer": "ipython3",
   "version": "3.11.7"
  }
 },
 "nbformat": 4,
 "nbformat_minor": 5
}
