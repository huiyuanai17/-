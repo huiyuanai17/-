{
 "cells": [
  {
   "cell_type": "markdown",
   "id": "f6b67c84-5df0-4a9b-aa18-24f6d9d84ea2",
   "metadata": {},
   "source": [
    "# 第六章 字典"
   ]
  },
  {
   "cell_type": "markdown",
   "id": "3b1595f3-1505-4e88-bcd5-5b5c45d58ff3",
   "metadata": {},
   "source": [
    "## 6.1 一个简单的字典"
   ]
  },
  {
   "cell_type": "code",
   "execution_count": 1,
   "id": "6fbca801-508c-4e1f-8ad4-de724f4fcac2",
   "metadata": {},
   "outputs": [
    {
     "name": "stdout",
     "output_type": "stream",
     "text": [
      "green\n",
      "5\n"
     ]
    }
   ],
   "source": [
    "alien_0 = {'color': 'green', 'points': 5}\n",
    "\n",
    "print(alien_0['color'])\n",
    "print(alien_0['points'])"
   ]
  },
  {
   "cell_type": "markdown",
   "id": "88225035-3059-4b95-943a-e24a69d378a0",
   "metadata": {},
   "source": [
    "## 6.2 使用字典"
   ]
  },
  {
   "cell_type": "code",
   "execution_count": 2,
   "id": "796e4222-375f-4ada-89f9-47aae1b21526",
   "metadata": {},
   "outputs": [
    {
     "name": "stdout",
     "output_type": "stream",
     "text": [
      "green\n"
     ]
    }
   ],
   "source": [
    "#6.2.1 访问字典的值\n",
    "alien_0={'color':'green'}\n",
    "print(alien_0['color'])"
   ]
  },
  {
   "cell_type": "code",
   "execution_count": 3,
   "id": "05ffef3d-36cf-4780-9cac-9b12cb5db3d0",
   "metadata": {},
   "outputs": [
    {
     "name": "stdout",
     "output_type": "stream",
     "text": [
      "You just earned 5 points!\n"
     ]
    }
   ],
   "source": [
    "alien_0={'color':'green','points':5}\n",
    "new_points=alien_0['points']\n",
    "print(f\"You just earned {new_points} points!\")"
   ]
  },
  {
   "cell_type": "code",
   "execution_count": 4,
   "id": "9e185c45-d1f5-4cd4-a2cc-3cc59f12c840",
   "metadata": {},
   "outputs": [
    {
     "ename": "SyntaxError",
     "evalue": "cannot assign to literal here. Maybe you meant '==' instead of '='? (2967481197.py, line 4)",
     "output_type": "error",
     "traceback": [
      "\u001b[0;36m  Cell \u001b[0;32mIn[4], line 4\u001b[0;36m\u001b[0m\n\u001b[0;31m    alien_0['x_poisition'=0]\u001b[0m\n\u001b[0m            ^\u001b[0m\n\u001b[0;31mSyntaxError\u001b[0m\u001b[0;31m:\u001b[0m cannot assign to literal here. Maybe you meant '==' instead of '='?\n"
     ]
    }
   ],
   "source": [
    "#6.2.2 添加键值对\n",
    "alien_0 = {'color': 'green', 'points': 5}\n",
    "print(alien_0)\n",
    "alien_0['x_poisition'=0]\n",
    "alien_0['y_poisition'=25]\n",
    "print(alien_0)"
   ]
  },
  {
   "cell_type": "code",
   "execution_count": 6,
   "id": "85c367f1-2a9f-4995-8952-4af651df1571",
   "metadata": {},
   "outputs": [
    {
     "name": "stdout",
     "output_type": "stream",
     "text": [
      "{'color': 'green', 'points': 5}\n",
      "{'color': 'green', 'points': 5, 'x_poisition': 0, 'y_poisition': 25}\n"
     ]
    }
   ],
   "source": [
    "alien_0 = {'color': 'green', 'points': 5}\n",
    "print(alien_0)\n",
    "alien_0['x_poisition']=0\n",
    "alien_0['y_poisition']=25\n",
    "print(alien_0)"
   ]
  },
  {
   "cell_type": "code",
   "execution_count": 7,
   "id": "4609e0f3-09c4-4b61-84d5-4d4919c1db23",
   "metadata": {},
   "outputs": [
    {
     "name": "stdout",
     "output_type": "stream",
     "text": [
      "{'color': 'green', 'points': 5}\n"
     ]
    }
   ],
   "source": [
    "#6.2.3 从创建一个空字典看是\n",
    "alien_0={}\n",
    "alien_0['color']='green'\n",
    "alien_0['points']=5\n",
    "print(alien_0)"
   ]
  },
  {
   "cell_type": "code",
   "execution_count": 8,
   "id": "d12d806f-babf-4437-a5e4-b6057fab76b0",
   "metadata": {},
   "outputs": [
    {
     "ename": "NameError",
     "evalue": "name 'color' is not defined",
     "output_type": "error",
     "traceback": [
      "\u001b[0;31m---------------------------------------------------------------------------\u001b[0m",
      "\u001b[0;31mNameError\u001b[0m                                 Traceback (most recent call last)",
      "Cell \u001b[0;32mIn[8], line 3\u001b[0m\n\u001b[1;32m      1\u001b[0m \u001b[38;5;66;03m#6.2.4 修改字典中的值\u001b[39;00m\n\u001b[1;32m      2\u001b[0m alien_0\u001b[38;5;241m=\u001b[39m{\u001b[38;5;124m'\u001b[39m\u001b[38;5;124mcolor\u001b[39m\u001b[38;5;124m'\u001b[39m:\u001b[38;5;124m'\u001b[39m\u001b[38;5;124mgreen\u001b[39m\u001b[38;5;124m'\u001b[39m}\n\u001b[0;32m----> 3\u001b[0m \u001b[38;5;28mprint\u001b[39m(\u001b[38;5;124mf\u001b[39m\u001b[38;5;124m\"\u001b[39m\u001b[38;5;124mThe alien is \u001b[39m\u001b[38;5;132;01m{\u001b[39;00malien_0[color]\u001b[38;5;132;01m}\u001b[39;00m\u001b[38;5;124m.\u001b[39m\u001b[38;5;124m\"\u001b[39m)\n",
      "\u001b[0;31mNameError\u001b[0m: name 'color' is not defined"
     ]
    }
   ],
   "source": [
    "#6.2.4 修改字典中的值\n",
    "alien_0={'color':'green'}\n",
    "print(f\"The alien is {alien_0[color]}.\")\n"
   ]
  },
  {
   "cell_type": "code",
   "execution_count": 9,
   "id": "bbbde8ec-633a-446c-9c9c-3243d24820e5",
   "metadata": {},
   "outputs": [
    {
     "name": "stdout",
     "output_type": "stream",
     "text": [
      "The alien is green.\n"
     ]
    }
   ],
   "source": [
    "alien_0={'color':'green'}\n",
    "print(f\"The alien is {alien_0['color']}.\")"
   ]
  },
  {
   "cell_type": "code",
   "execution_count": 10,
   "id": "ae4fa24c-8bf9-4f20-9807-2374a275e575",
   "metadata": {},
   "outputs": [
    {
     "name": "stdout",
     "output_type": "stream",
     "text": [
      "The alien is green.\n"
     ]
    },
    {
     "ename": "NameError",
     "evalue": "name 'color' is not defined",
     "output_type": "error",
     "traceback": [
      "\u001b[0;31m---------------------------------------------------------------------------\u001b[0m",
      "\u001b[0;31mNameError\u001b[0m                                 Traceback (most recent call last)",
      "Cell \u001b[0;32mIn[10], line 4\u001b[0m\n\u001b[1;32m      2\u001b[0m \u001b[38;5;28mprint\u001b[39m(\u001b[38;5;124mf\u001b[39m\u001b[38;5;124m\"\u001b[39m\u001b[38;5;124mThe alien is \u001b[39m\u001b[38;5;132;01m{\u001b[39;00malien_0[\u001b[38;5;124m'\u001b[39m\u001b[38;5;124mcolor\u001b[39m\u001b[38;5;124m'\u001b[39m]\u001b[38;5;132;01m}\u001b[39;00m\u001b[38;5;124m.\u001b[39m\u001b[38;5;124m\"\u001b[39m)\n\u001b[1;32m      3\u001b[0m alien_0\u001b[38;5;241m=\u001b[39m{\u001b[38;5;124m'\u001b[39m\u001b[38;5;124mcolor\u001b[39m\u001b[38;5;124m'\u001b[39m:\u001b[38;5;124m'\u001b[39m\u001b[38;5;124myellow\u001b[39m\u001b[38;5;124m'\u001b[39m}\n\u001b[0;32m----> 4\u001b[0m \u001b[38;5;28mprint\u001b[39m(\u001b[38;5;124mf\u001b[39m\u001b[38;5;124m\"\u001b[39m\u001b[38;5;124mThe alien is now \u001b[39m\u001b[38;5;132;01m{\u001b[39;00malien_0[color]\u001b[38;5;132;01m}\u001b[39;00m\u001b[38;5;124m.\u001b[39m\u001b[38;5;124m\"\u001b[39m)\n",
      "\u001b[0;31mNameError\u001b[0m: name 'color' is not defined"
     ]
    }
   ],
   "source": [
    "alien_0={'color':'green'}\n",
    "print(f\"The alien is {alien_0['color']}.\")\n",
    "alien_0={'color':'yellow'}\n",
    "print(f\"The alien is now {alien_0[color]}.\")"
   ]
  },
  {
   "cell_type": "code",
   "execution_count": 11,
   "id": "0f4226df-6748-440a-b231-a69506e84baf",
   "metadata": {},
   "outputs": [
    {
     "name": "stdout",
     "output_type": "stream",
     "text": [
      "The alien is green.\n",
      "The alien is now yellow.\n"
     ]
    }
   ],
   "source": [
    "alien_0={'color':'green'}\n",
    "print(f\"The alien is {alien_0['color']}.\")\n",
    "alien_0={'color':'yellow'}\n",
    "print(f\"The alien is now {alien_0['color']}.\")"
   ]
  },
  {
   "cell_type": "code",
   "execution_count": 12,
   "id": "8aff8098-d66c-4af5-ba6c-0b03a1b53159",
   "metadata": {},
   "outputs": [
    {
     "ename": "SyntaxError",
     "evalue": "unterminated string literal (detected at line 8) (2436670071.py, line 8)",
     "output_type": "error",
     "traceback": [
      "\u001b[0;36m  Cell \u001b[0;32mIn[12], line 8\u001b[0;36m\u001b[0m\n\u001b[0;31m    alien_0['x_position']=alien_['x_position]+x_increment\u001b[0m\n\u001b[0m                                 ^\u001b[0m\n\u001b[0;31mSyntaxError\u001b[0m\u001b[0;31m:\u001b[0m unterminated string literal (detected at line 8)\n"
     ]
    }
   ],
   "source": [
    "alien_0={'x_position':0,'y_position':25,'speed':'mediun'}\n",
    "if alien_0['speed']== 'slow':\n",
    "    x_increment=1\n",
    "elif alien_0['speed']=='medium':\n",
    "    x_increment=2\n",
    "else:\n",
    "    x_increment=3\n",
    "alien_0['x_position']=alien_['x_position]+x_increment\n",
    "print(f\"New position:{alien_0['x_position']}\")"
   ]
  },
  {
   "cell_type": "code",
   "execution_count": 16,
   "id": "cca18971-279e-4bf4-8546-abd8cd9a5822",
   "metadata": {},
   "outputs": [
    {
     "name": "stdout",
     "output_type": "stream",
     "text": [
      "New position:2\n"
     ]
    }
   ],
   "source": [
    "alien_0={'x_position':0,'y_position':25,'speed':'medium'}\n",
    "if alien_0['speed']== 'slow':\n",
    "    x_increment=1\n",
    "elif alien_0['speed']=='medium':\n",
    "    x_increment=2\n",
    "else:\n",
    "    x_increment=3\n",
    "alien_0['x_position']=alien_0['x_position']+x_increment\n",
    "print(f\"New position:{alien_0['x_position']}\")"
   ]
  },
  {
   "cell_type": "code",
   "execution_count": 17,
   "id": "ffcfe77f-15c1-46ed-a59a-df98bb674d7d",
   "metadata": {},
   "outputs": [
    {
     "name": "stdout",
     "output_type": "stream",
     "text": [
      "New position:3\n"
     ]
    }
   ],
   "source": [
    "alien_0={'x_position':0,'y_position':25,'speed':'medium'}\n",
    "alien_0['speed']='fast'\n",
    "if alien_0['speed']== 'slow':\n",
    "    x_increment=1\n",
    "elif alien_0['speed']=='medium':\n",
    "    x_increment=2\n",
    "else:\n",
    "    x_increment=3\n",
    "alien_0['x_position']=alien_0['x_position']+x_increment\n",
    "print(f\"New position:{alien_0['x_position']}\")"
   ]
  },
  {
   "cell_type": "code",
   "execution_count": 18,
   "id": "11ce72b8-2347-4531-9019-4e419009a63c",
   "metadata": {},
   "outputs": [
    {
     "name": "stdout",
     "output_type": "stream",
     "text": [
      "{'color': 'green', 'points': 5}\n",
      "{'color': 'green'}\n"
     ]
    }
   ],
   "source": [
    "#6.2.5 删除键制度\n",
    "alien_0={'color':'green','points':5}\n",
    "print(alien_0)\n",
    "\n",
    "del alien_0['points']\n",
    "print(alien_0)"
   ]
  },
  {
   "cell_type": "code",
   "execution_count": 23,
   "id": "03e723d2-d4af-4b0b-8b96-54645d297575",
   "metadata": {},
   "outputs": [
    {
     "name": "stdout",
     "output_type": "stream",
     "text": [
      "Sarah's favorite language is C.\n"
     ]
    }
   ],
   "source": [
    "favorite_languages={\n",
    "    'jen':'python',\n",
    "    'sarah':'c',\n",
    "    'edward':'rust',\n",
    "    'phil':'python',\n",
    "    }\n",
    "language=favorite_languages['sarah'].title()\n",
    "print(f\"Sarah's favorite language is {language}.\") #发生什么事了？"
   ]
  },
  {
   "cell_type": "code",
   "execution_count": 25,
   "id": "610896e0-3f6c-4e50-a52a-29fcfdcb6fae",
   "metadata": {},
   "outputs": [
    {
     "ename": "KeyError",
     "evalue": "'points'",
     "output_type": "error",
     "traceback": [
      "\u001b[0;31m---------------------------------------------------------------------------\u001b[0m",
      "\u001b[0;31mKeyError\u001b[0m                                  Traceback (most recent call last)",
      "Cell \u001b[0;32mIn[25], line 3\u001b[0m\n\u001b[1;32m      1\u001b[0m \u001b[38;5;66;03m#6.2.7 使用get()来访问值\u001b[39;00m\n\u001b[1;32m      2\u001b[0m alien_0\u001b[38;5;241m=\u001b[39m{\u001b[38;5;124m'\u001b[39m\u001b[38;5;124mcolor\u001b[39m\u001b[38;5;124m'\u001b[39m:\u001b[38;5;124m'\u001b[39m\u001b[38;5;124mgreen\u001b[39m\u001b[38;5;124m'\u001b[39m,\u001b[38;5;124m'\u001b[39m\u001b[38;5;124mspeed\u001b[39m\u001b[38;5;124m'\u001b[39m:\u001b[38;5;124m'\u001b[39m\u001b[38;5;124mslow\u001b[39m\u001b[38;5;124m'\u001b[39m}\n\u001b[0;32m----> 3\u001b[0m \u001b[38;5;28mprint\u001b[39m(alien_0[\u001b[38;5;124m'\u001b[39m\u001b[38;5;124mpoints\u001b[39m\u001b[38;5;124m'\u001b[39m])\n",
      "\u001b[0;31mKeyError\u001b[0m: 'points'"
     ]
    }
   ],
   "source": [
    "#6.2.7 使用get()来访问值\n",
    "alien_0={'color':'green','speed':'slow'}\n",
    "print(alien_0['points'])"
   ]
  },
  {
   "cell_type": "code",
   "execution_count": 26,
   "id": "8b3ae5f2-48fa-463f-807e-8c73f101bf2e",
   "metadata": {},
   "outputs": [
    {
     "name": "stdout",
     "output_type": "stream",
     "text": [
      "No points value assigned.\n"
     ]
    }
   ],
   "source": [
    "alien_0={'color':'green','speed':'slow'}\n",
    "point_value=alien_0.get('points','No points value assigned.')\n",
    "print(point_value)"
   ]
  },
  {
   "cell_type": "markdown",
   "id": "d3b3bb91-c12b-418f-a3bc-ee4519f63f05",
   "metadata": {},
   "source": [
    "## 动手试一试"
   ]
  },
  {
   "cell_type": "code",
   "execution_count": 1,
   "id": "00c51024-8321-4b0c-a227-e0def2d099eb",
   "metadata": {},
   "outputs": [
    {
     "name": "stdout",
     "output_type": "stream",
     "text": [
      "First Name: John\n",
      "Last Name: Doe\n",
      "Age: 30\n",
      "City: New York\n"
     ]
    }
   ],
   "source": [
    "#6.1\n",
    "person_info = {\n",
    "    'first_name': 'John',\n",
    "    'last_name': 'Doe',\n",
    "    'age': 30,\n",
    "    'city': 'New York',\n",
    "    }\n",
    "\n",
    "print(f\"First Name: {person_info['first_name']}\")\n",
    "print(f\"Last Name: {person_info['last_name']}\")\n",
    "print(f\"Age: {person_info['age']}\")\n",
    "print(f\"City: {person_info['city']}\")"
   ]
  },
  {
   "cell_type": "code",
   "execution_count": 4,
   "id": "ca6f3398-d69a-4cdc-b0f7-546ae7781e74",
   "metadata": {},
   "outputs": [
    {
     "name": "stdout",
     "output_type": "stream",
     "text": [
      "Alice:7\n",
      "Bob:42\n",
      "Charlie:23\n",
      "Diana:9\n",
      "Edward:88\n"
     ]
    }
   ],
   "source": [
    "#6.2\n",
    "favorite_numbers = {\n",
    "    'Alice': 7,\n",
    "    'Bob': 42,\n",
    "    'Charlie': 23,\n",
    "    'Diana': 9,\n",
    "    'Edward': 88,\n",
    "    }\n",
    "print(f\"Alice:{favorite_numbers['Alice']}\")\n",
    "print(f\"Bob:{favorite_numbers['Bob']}\")\n",
    "print(f\"Charlie:{favorite_numbers['Charlie']}\")\n",
    "print(f\"Diana:{favorite_numbers['Diana']}\")\n",
    "print(f\"Edward:{favorite_numbers['Edward']}\")"
   ]
  },
  {
   "cell_type": "code",
   "execution_count": 6,
   "id": "7e3fb766-f5ea-4e13-ba1d-54cc02e9119b",
   "metadata": {},
   "outputs": [
    {
     "name": "stdout",
     "output_type": "stream",
     "text": [
      "variable:A symbol that represents a quantity in a mathematical expression, as used in many programming languages.\n",
      "loop:A sequence of instructions that is continually repeated until a certain condition is reached.\n",
      "function:A named section of a program that performs a specific task.\n",
      "list:A data structure in Python that is a mutable, or changeable, ordered sequence of elements.\n",
      "dictionary:A data structure in Python that stores key-value pairs, where each key is unique.\n"
     ]
    }
   ],
   "source": [
    "#6.3 \n",
    "programming_terms = {\n",
    "    'variable': 'A symbol that represents a quantity in a mathematical expression, as used in many programming languages.',\n",
    "    'loop': 'A sequence of instructions that is continually repeated until a certain condition is reached.',\n",
    "    'function': 'A named section of a program that performs a specific task.',\n",
    "    'list': 'A data structure in Python that is a mutable, or changeable, ordered sequence of elements.',\n",
    "    'dictionary': 'A data structure in Python that stores key-value pairs, where each key is unique.',\n",
    "    }\n",
    "print(f\"variable:{programming_terms['variable']}\")\n",
    "print(f\"loop:{programming_terms['loop']}\")\n",
    "print(f\"function:{programming_terms['function']}\")\n",
    "print(f\"list:{programming_terms['list']}\")\n",
    "print(f\"dictionary:{programming_terms['dictionary']}\")"
   ]
  },
  {
   "cell_type": "markdown",
   "id": "e01d6b33-b9e3-457b-839d-802f4d39c31c",
   "metadata": {},
   "source": [
    "## 6.3 遍历字典"
   ]
  },
  {
   "cell_type": "code",
   "execution_count": 11,
   "id": "63cb81a8-2440-4f0e-a627-ab92c9408b52",
   "metadata": {},
   "outputs": [
    {
     "name": "stdout",
     "output_type": "stream",
     "text": [
      "\n",
      "key:username\n",
      "Value:efermi\n",
      "\n",
      "key:first\n",
      "Value:enrico\n",
      "\n",
      "key:last\n",
      "Value:fermi\n"
     ]
    }
   ],
   "source": [
    "user_0 = {\n",
    "    'username': 'efermi',\n",
    "    'first': 'enrico',\n",
    "    'last': 'fermi',\n",
    "    }\n",
    "for key,value in user_0.items():\n",
    "    print(f\"\\nkey:{key}\")\n",
    "    print(f\"Value:{value}\")"
   ]
  },
  {
   "cell_type": "code",
   "execution_count": 13,
   "id": "8d388c0c-3b5a-42cc-98d8-abeb1722c804",
   "metadata": {},
   "outputs": [
    {
     "name": "stdout",
     "output_type": "stream",
     "text": [
      "Jen's favorite language is Python.\n",
      "Sarah's favorite language is C.\n",
      "Edward's favorite language is Rust.\n",
      "Phil's favorite language is Python.\n"
     ]
    }
   ],
   "source": [
    "favorite_languages={\n",
    "    'jen':'python',\n",
    "    'sarah':'c',\n",
    "    'edward':'rust',\n",
    "    'phil':'python',\n",
    "    }\n",
    "for name,language in favorite_languages.items():\n",
    "    print(f\"{name.title()}'s favorite language is {language.title()}.\")"
   ]
  },
  {
   "cell_type": "code",
   "execution_count": 15,
   "id": "e5bb3427-91cc-408c-9642-a2218fc970ff",
   "metadata": {},
   "outputs": [
    {
     "name": "stdout",
     "output_type": "stream",
     "text": [
      "Jen\n",
      "Sarah\n",
      "Edward\n",
      "Phil\n"
     ]
    }
   ],
   "source": [
    "#6.3.2 遍历字典中的所有键\n",
    "favorite_languages={\n",
    "    'jen':'python',\n",
    "    'sarah':'c',\n",
    "    'edward':'rust',\n",
    "    'phil':'python',\n",
    "    }\n",
    "for name in favorite_languages.keys ():\n",
    "    print(name.title())"
   ]
  },
  {
   "cell_type": "code",
   "execution_count": 22,
   "id": "7b531b09-0bb1-48d9-b0fa-9cbf21840022",
   "metadata": {},
   "outputs": [
    {
     "name": "stdout",
     "output_type": "stream",
     "text": [
      "Hi Jen.\n",
      "Hi Sarah.\n",
      "\tSarah,I see you love C!\n",
      "Hi Edward.\n",
      "Hi Phil.\n",
      "\tPhil,I see you love Python!\n"
     ]
    }
   ],
   "source": [
    "favorite_languages={\n",
    "    'jen':'python',\n",
    "    'sarah':'c',\n",
    "    'edward':'rust',\n",
    "    'phil':'python',\n",
    "    }\n",
    "friends=['phil','sarah']\n",
    "for name in favorite_languages.keys():\n",
    "    print(f\"Hi {name.title()}.\")\n",
    "    if name in friends:\n",
    "        language=favorite_languages[name].title()\n",
    "        print(f\"\\t{name.title()},I see you love {language}!\")"
   ]
  },
  {
   "cell_type": "code",
   "execution_count": 23,
   "id": "7d2d164a-a653-4249-becc-ab36b2ab5c84",
   "metadata": {},
   "outputs": [
    {
     "name": "stdout",
     "output_type": "stream",
     "text": [
      "erin,please take your poll\n"
     ]
    }
   ],
   "source": [
    "favorite_languages={\n",
    "    'jen':'python',\n",
    "    'sarah':'c',\n",
    "    'edward':'rust',\n",
    "    'phil':'python',\n",
    "    }\n",
    "if 'erin' not in favorite_languages.keys():\n",
    "    print(\"erin,please take your poll\")"
   ]
  },
  {
   "cell_type": "code",
   "execution_count": 24,
   "id": "aad7608f-0355-4caa-8a06-7dcaa9fd0a44",
   "metadata": {},
   "outputs": [
    {
     "name": "stdout",
     "output_type": "stream",
     "text": [
      "Edward,thank you for taking the pool.\n",
      "Jen,thank you for taking the pool.\n",
      "Phil,thank you for taking the pool.\n",
      "Sarah,thank you for taking the pool.\n"
     ]
    }
   ],
   "source": [
    "#6.3.3 按特定的顺序遍历字典中的所有键\n",
    "favorite_languages={\n",
    "    'jen':'python',\n",
    "    'sarah':'c',\n",
    "    'edward':'rust',\n",
    "    'phil':'python',\n",
    "    }\n",
    "for name in sorted(favorite_languages.keys()):\n",
    "    print(f\"{name.title()},thank you for taking the pool.\")"
   ]
  },
  {
   "cell_type": "code",
   "execution_count": 27,
   "id": "1bf2a388-9a40-406b-ab93-c0de0f05c773",
   "metadata": {},
   "outputs": [
    {
     "name": "stdout",
     "output_type": "stream",
     "text": [
      "The following language s have been mentioned:\n",
      "Python\n",
      "C\n",
      "Rust\n",
      "Python\n"
     ]
    }
   ],
   "source": [
    "#6.3.4 遍历字典中的所有值\n",
    "favorite_languages={\n",
    "    'jen':'python',\n",
    "    'sarah':'c',\n",
    "    'edward':'rust',\n",
    "    'phil':'python',\n",
    "    }\n",
    "print(\"The following language s have been mentioned:\")\n",
    "for language in favorite_languages.values():\n",
    "    print(language.title())"
   ]
  },
  {
   "cell_type": "code",
   "execution_count": 28,
   "id": "af009593-2b6f-4621-8392-fc82d0b373f3",
   "metadata": {},
   "outputs": [
    {
     "name": "stdout",
     "output_type": "stream",
     "text": [
      "The following language s have been mentioned:\n",
      "Rust\n",
      "Python\n",
      "C\n"
     ]
    }
   ],
   "source": [
    "favorite_languages={\n",
    "    'jen':'python',\n",
    "    'sarah':'c',\n",
    "    'edward':'rust',\n",
    "    'phil':'python',\n",
    "    }\n",
    "print(\"The following language s have been mentioned:\")\n",
    "for language in set(favorite_languages.values()):\n",
    "    print(language.title())"
   ]
  },
  {
   "cell_type": "markdown",
   "id": "796e2d57-9645-403f-8e6a-4699caf17233",
   "metadata": {},
   "source": [
    "## 动手试一试"
   ]
  },
  {
   "cell_type": "code",
   "execution_count": 31,
   "id": "abbf82d2-f8a6-4f0b-943f-4cdcaab1f9c8",
   "metadata": {},
   "outputs": [
    {
     "name": "stdout",
     "output_type": "stream",
     "text": [
      "Variable:A symbol that represents a quantity in a mathematical expression, as used in many programming languages.\n",
      "Loop:A sequence of instructions that is continually repeated until a certain condition is reached.\n",
      "Function:A named section of a program that performs a specific task.\n",
      "List:A data structure in Python that is a mutable, or changeable, ordered sequence of elements.\n",
      "Dictionary:A data structure in Python that stores key-value pairs, where each key is unique.\n",
      "Tuple:A data structure in Python that is an immutable, or unchangeable, ordered sequence of elements.\n",
      "Comprehension:A concise way to create lists, dictionaries, sets, and generators in Python.\n",
      "Decorator:A design pattern in Python that allows a user to add new functionality to an existing object without modifying its structure.\n",
      "Generator:A type of iterable in Python that uses a function and the yield keyword to return a sequence of values over time.\n",
      "Lambda:An anonymous function expressed as a single statement in Python, often used for short, simple functions.\n"
     ]
    }
   ],
   "source": [
    "#6.4 # 创建一个词汇表字典，存储编程术语及其含义\n",
    "programming_terms = {\n",
    "    'variable': 'A symbol that represents a quantity in a mathematical expression, as used in many programming languages.',\n",
    "    'loop': 'A sequence of instructions that is continually repeated until a certain condition is reached.',\n",
    "    'function': 'A named section of a program that performs a specific task.',\n",
    "    'list': 'A data structure in Python that is a mutable, or changeable, ordered sequence of elements.',\n",
    "    'dictionary': 'A data structure in Python that stores key-value pairs, where each key is unique.',\n",
    "    'tuple': 'A data structure in Python that is an immutable, or unchangeable, ordered sequence of elements.',\n",
    "    'comprehension': 'A concise way to create lists, dictionaries, sets, and generators in Python.',\n",
    "    'decorator': 'A design pattern in Python that allows a user to add new functionality to an existing object without modifying its structure.',\n",
    "    'generator': 'A type of iterable in Python that uses a function and the yield keyword to return a sequence of values over time.',\n",
    "    'lambda': 'An anonymous function expressed as a single statement in Python, often used for short, simple functions.',\n",
    "}\n",
    "\n",
    "for term, definition in programming_terms.items():\n",
    "    print(f\"{term.title()}:{definition}\")"
   ]
  },
  {
   "cell_type": "code",
   "execution_count": 34,
   "id": "6423537a-6670-47b1-8011-212589bc9360",
   "metadata": {},
   "outputs": [
    {
     "name": "stdout",
     "output_type": "stream",
     "text": [
      "The Nile runs through Egypt.\n",
      "The Amazon runs through Brazil.\n",
      "The Yangtze runs through China.\n",
      "\n",
      "Rivers mentioned:\n",
      "Nile\n",
      "Amazon\n",
      "Yangtze\n",
      "Egypt\n",
      "Brazil\n",
      "China\n"
     ]
    }
   ],
   "source": [
    "#6.5\n",
    "rivers = {\n",
    "    'nile': 'egypt',\n",
    "    'amazon': 'brazil',\n",
    "    'yangtze': 'china',\n",
    "    }\n",
    "\n",
    "for river, country in rivers.items():\n",
    "    print(f\"The {river.title()} runs through {country.title()}.\")\n",
    "print(\"\\nRivers mentioned:\")\n",
    "\n",
    "for river in rivers.keys():\n",
    "    print(river.title())\n",
    "\n",
    "for country in rivers.values():\n",
    "    print(country.title())"
   ]
  },
  {
   "cell_type": "code",
   "execution_count": 35,
   "id": "2640c61b-65bb-47c8-b06c-e83862009a5d",
   "metadata": {},
   "outputs": [
    {
     "name": "stdout",
     "output_type": "stream",
     "text": [
      "Thank you, Jen, for taking the poll.\n",
      "Thank you, Sarah, for taking the poll.\n",
      "Matt, you're invited to take the poll about your favorite programming language.\n",
      "Danielle, you're invited to take the poll about your favorite programming language.\n",
      "Thank you, Phil, for taking the poll.\n",
      "Thank you, Edward, for taking the poll.\n"
     ]
    }
   ],
   "source": [
    "#6.6\n",
    "favorite_languages = {\n",
    "    'jen': 'python',\n",
    "    'sarah': 'c',\n",
    "    'edward': 'rust',\n",
    "    'phil': 'python',\n",
    "    }\n",
    "people = ['jen', 'sarah', 'matt', 'danielle', 'phil', 'edward']\n",
    "for person in people:\n",
    "    if person in favorite_languages.keys():\n",
    "        print(f\"Thank you, {person.title()}, for taking the poll.\")\n",
    "    else:\n",
    "        print(f\"{person.title()}, you're invited to take the poll about your favorite programming language.\")"
   ]
  },
  {
   "cell_type": "markdown",
   "id": "1f38bb56-95ed-4454-8889-424c06a265a0",
   "metadata": {},
   "source": [
    "## 6.4 嵌套"
   ]
  },
  {
   "cell_type": "code",
   "execution_count": 39,
   "id": "c61b1561-328b-4499-b32b-bde637d01b19",
   "metadata": {},
   "outputs": [
    {
     "name": "stdout",
     "output_type": "stream",
     "text": [
      "{'color': 'green', 'points': 5}\n",
      "{'color': 'yellow', 'points': 10}\n",
      "{'color': 'red', 'points': 15}\n"
     ]
    }
   ],
   "source": [
    "#6.4.1 字典\n",
    "alien_0 = {'color': 'green', 'points': 5}\n",
    "alien_1 = {'color': 'yellow', 'points': 10}\n",
    "alien_2 = {'color': 'red', 'points': 15}\n",
    "\n",
    "aliens = [alien_0, alien_1, alien_2]\n",
    "for alien in aliens:\n",
    "      print(alien)"
   ]
  },
  {
   "cell_type": "code",
   "execution_count": 42,
   "id": "19f585b9-0cb5-480e-b702-f8106353ded1",
   "metadata": {},
   "outputs": [
    {
     "name": "stdout",
     "output_type": "stream",
     "text": [
      "{'color': 'green', 'points': 5, 'speed': 'slow'}\n",
      "{'color': 'green', 'points': 5, 'speed': 'slow'}\n",
      "{'color': 'green', 'points': 5, 'speed': 'slow'}\n",
      "{'color': 'green', 'points': 5, 'speed': 'slow'}\n",
      "{'color': 'green', 'points': 5, 'speed': 'slow'}\n",
      "...\n",
      "Total number of aliens: 30\n"
     ]
    }
   ],
   "source": [
    "aliens = []\n",
    "for alien_number in range(30):\n",
    "    new_alien = {'color': 'green', 'points': 5, 'speed': 'slow'}\n",
    "    aliens.append(new_alien)\n",
    "for alien in aliens[:5]:\n",
    "      print(alien)\n",
    "print(\"...\")\n",
    "\n",
    "print(f\"Total number of aliens: {len(aliens)}\")"
   ]
  },
  {
   "cell_type": "code",
   "execution_count": 46,
   "id": "0071e000-bfde-4e85-9123-23a9fa9969dd",
   "metadata": {},
   "outputs": [
    {
     "name": "stdout",
     "output_type": "stream",
     "text": [
      "{'color': 'yellow', 'points': 10, 'speed': 'medium'}\n",
      "{'color': 'yellow', 'points': 10, 'speed': 'medium'}\n",
      "{'color': 'yellow', 'points': 10, 'speed': 'medium'}\n",
      "{'color': 'green', 'points': 5, 'speed': 'slow'}\n",
      "{'color': 'green', 'points': 5, 'speed': 'slow'}\n",
      "...\n",
      "Total number of aliens: 30\n"
     ]
    }
   ],
   "source": [
    "aliens = []\n",
    "for alien_number in range(30):\n",
    "    new_alien = {'color': 'green', 'points': 5, 'speed': 'slow'}\n",
    "    aliens.append(new_alien)\n",
    "\n",
    "for alien in aliens[:3]:\n",
    "    if alien['color']=='green':\n",
    "        alien['color']='yellow'\n",
    "        alien['speed']='medium'\n",
    "        alien['points']=10\n",
    "        \n",
    "\n",
    "for alien in aliens[:5]:\n",
    "      print(alien)\n",
    "print(\"...\")\n",
    "\n",
    "print(f\"Total number of aliens: {len(aliens)}\")"
   ]
  },
  {
   "cell_type": "code",
   "execution_count": 49,
   "id": "c866a288-3123-4472-afa2-51417dd3ae85",
   "metadata": {},
   "outputs": [
    {
     "name": "stdout",
     "output_type": "stream",
     "text": [
      "{'color': 'yellow', 'points': 10, 'speed': 'medium'}\n",
      "{'color': 'yellow', 'points': 10, 'speed': 'medium'}\n",
      "{'color': 'yellow', 'points': 10, 'speed': 'medium'}\n",
      "{'color': 'green', 'points': 5, 'speed': 'slow'}\n",
      "{'color': 'green', 'points': 5, 'speed': 'slow'}\n",
      "...\n",
      "Total number of aliens: 30\n"
     ]
    }
   ],
   "source": [
    "aliens = []\n",
    "for alien_number in range(30):\n",
    "    new_alien = {'color': 'green', 'points': 5, 'speed': 'slow'}\n",
    "    aliens.append(new_alien)\n",
    "\n",
    "for alien in aliens[:3]:\n",
    "    if alien['color']=='green':\n",
    "        alien['color']='yellow'\n",
    "        alien['speed']='medium'\n",
    "        alien['points']=10\n",
    "    elif alien['color']=='yellow':\n",
    "        alien['color']='red'\n",
    "        alien['speed']='fast'\n",
    "        alien['points']=15\n",
    "\n",
    "for alien in aliens[:5]:\n",
    "      print(alien)\n",
    "print(\"...\")\n",
    "\n",
    "print(f\"Total number of aliens: {len(aliens)}\")"
   ]
  },
  {
   "cell_type": "code",
   "execution_count": 50,
   "id": "e8a53589-9918-42b5-b7bb-3be866efc52d",
   "metadata": {},
   "outputs": [
    {
     "name": "stdout",
     "output_type": "stream",
     "text": [
      "You ordered a thick-crust pizza with the following toppings:\n",
      "\tmushrooms\n",
      "\textra cheese\n"
     ]
    }
   ],
   "source": [
    "#6.4.2 在字典中存储列表\n",
    "pizza = {\n",
    "      'crust': 'thick',\n",
    "      'toppings': ['mushrooms', 'extra cheese'],\n",
    "      }\n",
    "print(f\"You ordered a {pizza['crust']}-crust pizza \"\n",
    "      \"with the following toppings:\")\n",
    "for topping in pizza['toppings']:\n",
    "      print(f\"\\t{topping}\")"
   ]
  },
  {
   "cell_type": "code",
   "execution_count": 52,
   "id": "4999b3ab-fa1d-45d9-b5a3-2e15a2d9006d",
   "metadata": {},
   "outputs": [
    {
     "name": "stdout",
     "output_type": "stream",
     "text": [
      "\n",
      "Jen's favorite languages are:\n",
      "\tPython\n",
      "\tRust\n",
      "\n",
      "Sarah's favorite languages are:\n",
      "\tC\n",
      "\n",
      "Edward's favorite languages are:\n",
      "\tRust\n",
      "\tGo\n",
      "\n",
      "Phil's favorite languages are:\n",
      "\tPython\n",
      "\tHaskell\n"
     ]
    }
   ],
   "source": [
    "favorite_languages = {\n",
    "      'jen': ['python', 'rust'],\n",
    "      'sarah': ['c'],\n",
    "      'edward': ['rust', 'go'],\n",
    "      'phil': ['python', 'haskell'],\n",
    "      }\n",
    "\n",
    "for name, languages in favorite_languages.items():\n",
    "    print(f\"\\n{name.title()}'s favorite languages are:\")\n",
    "    for language in languages:\n",
    "        print(f\"\\t{language.title()}\")"
   ]
  },
  {
   "cell_type": "code",
   "execution_count": 55,
   "id": "d781d10f-b6f2-42f8-b094-96a08ca145a1",
   "metadata": {},
   "outputs": [
    {
     "name": "stdout",
     "output_type": "stream",
     "text": [
      "\n",
      "Username: aeinstein\n",
      "\tFull name: Albert Einstein\n",
      "\tLocation: Princeton\n",
      "\n",
      "Username: mcurie\n",
      "\tFull name: Marie Curie\n",
      "\tLocation: Paris\n"
     ]
    }
   ],
   "source": [
    "#6.4.3 在字典中存储字典\n",
    "users = {\n",
    "      'aeinstein': {\n",
    "          'first': 'albert',\n",
    "          'last': 'einstein',\n",
    "          'location': 'princeton',\n",
    "          },\n",
    "\n",
    "      'mcurie': {\n",
    "          'first': 'marie',\n",
    "          'last': 'curie',\n",
    "          'location': 'paris',\n",
    "          },\n",
    "\n",
    "      }\n",
    "\n",
    "for username, user_info in users.items():\n",
    "    print(f\"\\nUsername: {username}\")\n",
    "    full_name = f\"{user_info['first']} {user_info['last']}\"\n",
    "    location = user_info['location']\n",
    "\n",
    "    print(f\"\\tFull name: {full_name.title()}\")\n",
    "    print(f\"\\tLocation: {location.title()}\")"
   ]
  },
  {
   "cell_type": "markdown",
   "id": "cb64f84c-f225-4b18-b615-e4fe6ea79311",
   "metadata": {},
   "source": [
    "## 动手试一试"
   ]
  },
  {
   "cell_type": "code",
   "execution_count": 56,
   "id": "be8d2583-8314-49b6-8713-12ccfbf37dc6",
   "metadata": {},
   "outputs": [
    {
     "name": "stdout",
     "output_type": "stream",
     "text": [
      "First_Name: john\n",
      "Last_Name: doe\n",
      "Age: 30\n",
      "City: new york\n",
      "\n",
      "\n",
      "First_Name: jane\n",
      "Last_Name: doe\n",
      "Age: 28\n",
      "City: los angeles\n",
      "\n",
      "\n",
      "First_Name: jim\n",
      "Last_Name: beam\n",
      "Age: 35\n",
      "City: chicago\n",
      "\n",
      "\n"
     ]
    }
   ],
   "source": [
    "#6.7\n",
    "\n",
    "person_1 = {'first_name': 'john', 'last_name': 'doe', 'age': 30, 'city': 'new york'}\n",
    "person_2 = {'first_name': 'jane', 'last_name': 'doe', 'age': 28, 'city': 'los angeles'}\n",
    "person_3 = {'first_name': 'jim', 'last_name': 'beam', 'age': 35, 'city': 'chicago'}\n",
    "\n",
    "people = [person_1, person_2, person_3]\n",
    "\n",
    "\n",
    "for person in people:\n",
    "    for key, value in person.items():\n",
    "        print(f\"{key.title()}: {value}\")\n",
    "    print(\"\\n\")\n"
   ]
  },
  {
   "cell_type": "code",
   "execution_count": 57,
   "id": "4891d8d8-7b9e-41b6-a70e-f992b89af867",
   "metadata": {},
   "outputs": [
    {
     "name": "stdout",
     "output_type": "stream",
     "text": [
      "Pet Type: Dog, Owner: John Doe\n",
      "Pet Type: Cat, Owner: Jane Doe\n",
      "Pet Type: Parrot, Owner: Jim Beam\n"
     ]
    }
   ],
   "source": [
    "#6.8\n",
    "pets = [\n",
    "    {'type': 'dog', 'owner': 'john doe'},\n",
    "    {'type': 'cat', 'owner': 'jane doe'},\n",
    "    {'type': 'parrot', 'owner': 'jim beam'},\n",
    "]\n",
    "\n",
    "for pet in pets:\n",
    "    print(f\"Pet Type: {pet['type'].title()}, Owner: {pet['owner'].title()}\")\n"
   ]
  },
  {
   "cell_type": "code",
   "execution_count": 58,
   "id": "bbb8c12a-bf8b-49af-9ec0-6da15f83b48d",
   "metadata": {},
   "outputs": [
    {
     "name": "stdout",
     "output_type": "stream",
     "text": [
      "John's favorite places are:\n",
      "- New York\n",
      "- Paris\n",
      "\n",
      "\n",
      "Jane's favorite places are:\n",
      "- Los Angeles\n",
      "- Tokyo\n",
      "\n",
      "\n",
      "Jim's favorite places are:\n",
      "- Chicago\n",
      "- London\n",
      "- San Francisco\n",
      "\n",
      "\n"
     ]
    }
   ],
   "source": [
    "#6.9\n",
    "favorite_places = {\n",
    "    'john': ['new york', 'paris'],\n",
    "    'jane': ['los angeles', 'tokyo'],\n",
    "    'jim': ['chicago', 'london', 'san francisco'],\n",
    "}\n",
    "\n",
    "for name, places in favorite_places.items():\n",
    "    print(f\"{name.title()}'s favorite places are:\")\n",
    "    for place in places:\n",
    "        print(f\"- {place.title()}\")\n",
    "    print(\"\\n\")\n"
   ]
  },
  {
   "cell_type": "code",
   "execution_count": 59,
   "id": "61907988-3fc0-40b5-826c-b1f5e44dc8af",
   "metadata": {},
   "outputs": [
    {
     "name": "stdout",
     "output_type": "stream",
     "text": [
      "John's favorite numbers are:\n",
      "- 12\n",
      "- 42\n",
      "- 33\n",
      "\n",
      "\n",
      "Jane's favorite numbers are:\n",
      "- 2\n",
      "- 5\n",
      "\n",
      "\n",
      "Jim's favorite numbers are:\n",
      "- 8\n",
      "- 14\n",
      "- 22\n",
      "- 7\n",
      "\n",
      "\n"
     ]
    }
   ],
   "source": [
    "#6.10\n",
    "\n",
    "favorite_numbers = {\n",
    "    'john': [12, 42, 33],\n",
    "    'jane': [2, 5],\n",
    "    'jim': [8, 14, 22, 7],\n",
    "}\n",
    "\n",
    "for name, numbers in favorite_numbers.items():\n",
    "    print(f\"{name.title()}'s favorite numbers are:\")\n",
    "    for number in numbers:\n",
    "        print(f\"- {number}\")\n",
    "    print(\"\\n\")\n"
   ]
  },
  {
   "cell_type": "code",
   "execution_count": 60,
   "id": "593682a4-8270-4480-813f-7859fab49ea6",
   "metadata": {},
   "outputs": [
    {
     "name": "stdout",
     "output_type": "stream",
     "text": [
      "City: New York\n",
      "\tCountry: Usa\n",
      "\tPopulation: 8419000\n",
      "\tFact: Known as the Big Apple.\n",
      "\n",
      "City: Tokyo\n",
      "\tCountry: Japan\n",
      "\tPopulation: 13960000\n",
      "\tFact: Largest metropolitan area in the world.\n",
      "\n",
      "City: Paris\n",
      "\tCountry: France\n",
      "\tPopulation: 2161000\n",
      "\tFact: Known as the City of Light.\n",
      "\n"
     ]
    }
   ],
   "source": [
    "#6.11\n",
    "cities = {\n",
    "    'new york': {\n",
    "        'country': 'usa',\n",
    "        'population': 8419000,\n",
    "        'fact': 'Known as the Big Apple.'\n",
    "    },\n",
    "    'tokyo': {\n",
    "        'country': 'japan',\n",
    "        'population': 13960000,\n",
    "        'fact': 'Largest metropolitan area in the world.'\n",
    "    },\n",
    "    'paris': {\n",
    "        'country': 'france',\n",
    "        'population': 2161000,\n",
    "        'fact': 'Known as the City of Light.'\n",
    "    },\n",
    "}\n",
    "for city, city_info in cities.items():\n",
    "    country = city_info['country']\n",
    "    population = city_info['population']\n",
    "    fact = city_info['fact']\n",
    "\n",
    "    print(f\"City: {city.title()}\")\n",
    "    print(f\"\\tCountry: {country.title()}\")\n",
    "    print(f\"\\tPopulation: {population}\")\n",
    "    print(f\"\\tFact: {fact}\\n\")\n"
   ]
  },
  {
   "cell_type": "code",
   "execution_count": 61,
   "id": "59a5e0aa-616c-4437-9bdd-82dfdefa4fd7",
   "metadata": {},
   "outputs": [
    {
     "name": "stdout",
     "output_type": "stream",
     "text": [
      "City: New York\n",
      "\tCountry: Usa\n",
      "\tPopulation: 8419000\n",
      "\tFact: Known as the Big Apple.\n",
      "\tLandmark: Statue of Liberty\n",
      "\n",
      "City: Tokyo\n",
      "\tCountry: Japan\n",
      "\tPopulation: 13960000\n",
      "\tFact: Largest metropolitan area in the world.\n",
      "\tLandmark: Tokyo Tower\n",
      "\n",
      "City: Paris\n",
      "\tCountry: France\n",
      "\tPopulation: 2161000\n",
      "\tFact: Known as the City of Light.\n",
      "\tLandmark: Eiffel Tower\n",
      "\n"
     ]
    }
   ],
   "source": [
    "#6.12\n",
    "cities = {\n",
    "    'new york': {\n",
    "        'country': 'usa',\n",
    "        'population': 8419000,\n",
    "        'fact': 'Known as the Big Apple.',\n",
    "        'landmark': 'Statue of Liberty'\n",
    "    },\n",
    "    'tokyo': {\n",
    "        'country': 'japan',\n",
    "        'population': 13960000,\n",
    "        'fact': 'Largest metropolitan area in the world.',\n",
    "        'landmark': 'Tokyo Tower'\n",
    "    },\n",
    "    'paris': {\n",
    "        'country': 'france',\n",
    "        'population': 2161000,\n",
    "        'fact': 'Known as the City of Light.',\n",
    "        'landmark': 'Eiffel Tower'\n",
    "    },\n",
    "}\n",
    "\n",
    "# 打印扩展后的每座城市及其相关信息\n",
    "for city, city_info in cities.items():\n",
    "    country = city_info['country']\n",
    "    population = city_info['population']\n",
    "    fact = city_info['fact']\n",
    "    landmark = city_info['landmark']\n",
    "\n",
    "    print(f\"City: {city.title()}\")\n",
    "    print(f\"\\tCountry: {country.title()}\")\n",
    "    print(f\"\\tPopulation: {population}\")\n",
    "    print(f\"\\tFact: {fact}\")\n",
    "    print(f\"\\tLandmark: {landmark}\\n\")\n"
   ]
  },
  {
   "cell_type": "code",
   "execution_count": null,
   "id": "9c4cc95d-8230-4f6e-9c1b-a7e8eb833a6c",
   "metadata": {},
   "outputs": [],
   "source": []
  }
 ],
 "metadata": {
  "kernelspec": {
   "display_name": "Python 3 (ipykernel)",
   "language": "python",
   "name": "python3"
  },
  "language_info": {
   "codemirror_mode": {
    "name": "ipython",
    "version": 3
   },
   "file_extension": ".py",
   "mimetype": "text/x-python",
   "name": "python",
   "nbconvert_exporter": "python",
   "pygments_lexer": "ipython3",
   "version": "3.11.7"
  }
 },
 "nbformat": 4,
 "nbformat_minor": 5
}
