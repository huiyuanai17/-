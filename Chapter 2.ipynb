{
 "cells": [
  {
   "cell_type": "markdown",
   "id": "5a1d1299",
   "metadata": {},
   "source": [
    "# 第二章 变量与简单的数据类型"
   ]
  },
  {
   "cell_type": "markdown",
   "id": "b26b5f29-b8f3-4618-ba00-1575891e1bfb",
   "metadata": {},
   "source": [
    "## 2.1 运行hello_world.py 时发生的情况"
   ]
  },
  {
   "cell_type": "code",
   "execution_count": 1,
   "id": "51d99ffa-202e-4389-b401-36b693a3cd51",
   "metadata": {},
   "outputs": [
    {
     "name": "stdout",
     "output_type": "stream",
     "text": [
      "Hello Python World!\n",
      "Hello Python Crash Course world\n"
     ]
    }
   ],
   "source": [
    "message=\"Hello Python World!\"\n",
    "print(message)\n",
    "\n",
    "message=\"Hello Python Crash Course world\"\n",
    "print(message)"
   ]
  },
  {
   "cell_type": "markdown",
   "id": "9d4f7890-5674-4ad6-9240-63b15201c1a2",
   "metadata": {},
   "source": [
    "## 2.2 变量"
   ]
  },
  {
   "cell_type": "code",
   "execution_count": 2,
   "id": "b73602b1-185c-4d20-87b1-48a2de3040bc",
   "metadata": {},
   "outputs": [
    {
     "name": "stdout",
     "output_type": "stream",
     "text": [
      "Ada Lovelace\n"
     ]
    }
   ],
   "source": [
    "name=\"ada lovelace\"\n",
    "print(name.title())"
   ]
  },
  {
   "cell_type": "code",
   "execution_count": 3,
   "id": "c5d0df3c-8d9e-4504-9ca8-9ef2e28127d9",
   "metadata": {},
   "outputs": [
    {
     "name": "stdout",
     "output_type": "stream",
     "text": [
      "ADA LOVELACE\n",
      "ada lovelace\n"
     ]
    }
   ],
   "source": [
    "name=\"Ada Lovelace\"\n",
    "print(name.upper())\n",
    "print(name.lower())"
   ]
  },
  {
   "cell_type": "code",
   "execution_count": 4,
   "id": "dbf4939e-1d17-48c8-9040-70ea2c94fb26",
   "metadata": {},
   "outputs": [
    {
     "name": "stdout",
     "output_type": "stream",
     "text": [
      "ada lovelace\n"
     ]
    }
   ],
   "source": [
    "first_name=\"ada\"\n",
    "last_name=\"lovelace\"\n",
    "full_name=f\"{first_name} {last_name}\"\n",
    "print(full_name)"
   ]
  },
  {
   "cell_type": "code",
   "execution_count": 5,
   "id": "7c0b74a7-5118-4663-9e0e-04a48c99c14b",
   "metadata": {},
   "outputs": [
    {
     "name": "stdout",
     "output_type": "stream",
     "text": [
      "Hello,Ada Lovelace\n"
     ]
    }
   ],
   "source": [
    "first_name=\"ada\"\n",
    "last_name=\"lovelace\"\n",
    "full_name=f\"{first_name} {last_name}\"\n",
    "print(f\"Hello,{full_name.title()}\")"
   ]
  },
  {
   "cell_type": "markdown",
   "id": "5612675a",
   "metadata": {},
   "source": [
    "## 2.3 字符串\n",
    "此部分开始介绍字符串（string）相关问题"
   ]
  },
  {
   "cell_type": "code",
   "execution_count": 1,
   "id": "3b5e68aa",
   "metadata": {},
   "outputs": [
    {
     "name": "stdout",
     "output_type": "stream",
     "text": [
      "Python\n",
      "\tPython\n"
     ]
    }
   ],
   "source": [
    "#2.3.3 使用制表符或换行符来添加空白\n",
    "#添加制表符\n",
    "print('Python')\n",
    "print('\\tPython')"
   ]
  },
  {
   "cell_type": "code",
   "execution_count": 5,
   "id": "c3fbd38c",
   "metadata": {},
   "outputs": [
    {
     "name": "stdout",
     "output_type": "stream",
     "text": [
      "Python\n",
      "Rust\n"
     ]
    }
   ],
   "source": [
    "#添加换行符\n",
    "print('Python\\nRust')"
   ]
  },
  {
   "cell_type": "code",
   "execution_count": 6,
   "id": "1d2ab844",
   "metadata": {
    "scrolled": true
   },
   "outputs": [
    {
     "data": {
      "text/plain": [
       "'python'"
      ]
     },
     "execution_count": 6,
     "metadata": {},
     "output_type": "execute_result"
    }
   ],
   "source": [
    "#2.3.4字符串：删除空白\n",
    "favorite_language=\"python \"\n",
    "favorite_language.rstrip()#这种删除只是暂时的"
   ]
  },
  {
   "cell_type": "code",
   "execution_count": 7,
   "id": "c4ce28f2",
   "metadata": {},
   "outputs": [
    {
     "data": {
      "text/plain": [
       "'python'"
      ]
     },
     "execution_count": 7,
     "metadata": {},
     "output_type": "execute_result"
    }
   ],
   "source": [
    "favorite_language=\"python \"\n",
    "favorite_language=favorite_language.rstrip()\n",
    "favorite_language"
   ]
  },
  {
   "cell_type": "code",
   "execution_count": 9,
   "id": "5952b645",
   "metadata": {},
   "outputs": [
    {
     "data": {
      "text/plain": [
       "'python '"
      ]
     },
     "execution_count": 9,
     "metadata": {},
     "output_type": "execute_result"
    }
   ],
   "source": [
    "favorite_language=\" python \"\n",
    "favorite_language.lstrip()"
   ]
  },
  {
   "cell_type": "code",
   "execution_count": 10,
   "id": "39f0d4ee",
   "metadata": {},
   "outputs": [
    {
     "data": {
      "text/plain": [
       "'python'"
      ]
     },
     "execution_count": 10,
     "metadata": {},
     "output_type": "execute_result"
    }
   ],
   "source": [
    "favorite_language=\" python \"\n",
    "favorite_language.strip()"
   ]
  },
  {
   "cell_type": "code",
   "execution_count": 11,
   "id": "4d8351f1",
   "metadata": {},
   "outputs": [
    {
     "name": "stdout",
     "output_type": "stream",
     "text": [
      "www.ituring.com.cn\n"
     ]
    }
   ],
   "source": [
    "#2.3.5 删除前缀\n",
    "url=\"https://www.ituring.com.cn\"\n",
    "url=url.removeprefix('https://')\n",
    "print(url)"
   ]
  },
  {
   "cell_type": "code",
   "execution_count": 16,
   "id": "8de5a4ef",
   "metadata": {},
   "outputs": [],
   "source": [
    "#字符串的简单拼接\n"
   ]
  },
  {
   "cell_type": "markdown",
   "id": "4e6144d4",
   "metadata": {},
   "source": [
    "## 2.4 数"
   ]
  },
  {
   "cell_type": "code",
   "execution_count": 17,
   "id": "9cf8c840",
   "metadata": {},
   "outputs": [
    {
     "name": "stdout",
     "output_type": "stream",
     "text": [
      "6\n"
     ]
    }
   ],
   "source": [
    "print(3+3)"
   ]
  },
  {
   "cell_type": "code",
   "execution_count": 18,
   "id": "39ff9fa2",
   "metadata": {},
   "outputs": [
    {
     "name": "stdout",
     "output_type": "stream",
     "text": [
      "2.25\n"
     ]
    }
   ],
   "source": [
    "print(1.5*1.5)"
   ]
  },
  {
   "cell_type": "code",
   "execution_count": 19,
   "id": "3fac4c56",
   "metadata": {},
   "outputs": [
    {
     "name": "stdout",
     "output_type": "stream",
     "text": [
      "1.0\n"
     ]
    }
   ],
   "source": [
    "print(2.5//2)"
   ]
  },
  {
   "cell_type": "code",
   "execution_count": 20,
   "id": "c887fb7d",
   "metadata": {},
   "outputs": [],
   "source": [
    "x,y,z=0,0,0"
   ]
  },
  {
   "cell_type": "code",
   "execution_count": null,
   "id": "4edcd412",
   "metadata": {},
   "outputs": [],
   "source": [
    "MAX_CONNECTIONS=5000  #不要在程序中修改任何常量"
   ]
  },
  {
   "cell_type": "code",
   "execution_count": 21,
   "id": "142ca66e",
   "metadata": {},
   "outputs": [
    {
     "name": "stdout",
     "output_type": "stream",
     "text": [
      "True\n",
      "False\n"
     ]
    }
   ],
   "source": [
    "#补充 布尔值 用于表示逻辑真或假\n",
    "print(True)\n",
    "print(False)"
   ]
  },
  {
   "cell_type": "markdown",
   "id": "8f4a3dce-d1b4-4482-b54f-30cfc082262b",
   "metadata": {},
   "source": [
    "## 动手试一试"
   ]
  },
  {
   "cell_type": "code",
   "execution_count": 6,
   "id": "8449f656-40d1-481a-93e6-96da1cdc0006",
   "metadata": {},
   "outputs": [
    {
     "name": "stdout",
     "output_type": "stream",
     "text": [
      "Hello Eric, would you like to learn some Python today?\n",
      "eric\n",
      "ERIC\n",
      "Eric\n",
      "Albert Einstein once said, \"A person who never made a mistake never tried anything new.\"\n",
      "Albert Einstein once said, \"A person who never made a mistake never tried anything new.\"\n",
      "\tEric\n",
      "\n",
      "Eric\n",
      "\n",
      "\n",
      "Name with trailing whitespace removed:\n",
      "\tEric\n",
      "\n",
      "Name with all whitespace removed:\n",
      "Eric\n",
      "python_notes\n",
      "8\n",
      "8\n",
      "8\n",
      "8\n",
      "My favorite number is 7.\n"
     ]
    }
   ],
   "source": [
    "#2.3 个性化信息\n",
    "name = \"Eric\"\n",
    "print(f\"Hello {name}, would you like to learn some Python today?\")\n",
    "\n",
    "#2.4 调整名字的大小写\n",
    "name = \"Eric\"\n",
    "print(name.lower())  \n",
    "print(name.upper())  \n",
    "print(name.title())  \n",
    "\n",
    "#2.5 名言1\n",
    "print('Albert Einstein once said, \"A person who never made a mistake never tried anything new.\"')\n",
    "\n",
    "#2.6 名言2\n",
    "famous_person = \"Albert Einstein\"\n",
    "message = f'{famous_person} once said, \"A person who never made a mistake never tried anything new.\"'\n",
    "print(message)\n",
    "\n",
    "#2.7 删除人名中的空白\n",
    "name = \"\\tEric\\n\"\n",
    "print(name)\n",
    "print(name.lstrip())\n",
    "print(\"\\nName with trailing whitespace removed:\")\n",
    "print(name.rstrip())\n",
    "print(\"\\nName with all whitespace removed:\")\n",
    "print(name.strip())\n",
    "\n",
    "#2.8 文件拓展名\n",
    "filename = 'python_notes.txt'\n",
    "filename_without_extension = filename.removesuffix('.txt')\n",
    "print(filename_without_extension)\n",
    "\n",
    "#2.9 数字8\n",
    "print(5 + 3)    \n",
    "print(10 - 2)   \n",
    "print(4 * 2)    \n",
    "print(16 // 2)  \n",
    "\n",
    "#2.10 最喜欢的舒\n",
    "favorite_number = 7\n",
    "message = f\"My favorite number is {favorite_number}.\"\n",
    "print(message)\n",
    "\n"
   ]
  },
  {
   "cell_type": "code",
   "execution_count": null,
   "id": "022ea8d5-692d-40bf-962f-29c320c730fc",
   "metadata": {},
   "outputs": [],
   "source": []
  }
 ],
 "metadata": {
  "kernelspec": {
   "display_name": "Python 3 (ipykernel)",
   "language": "python",
   "name": "python3"
  },
  "language_info": {
   "codemirror_mode": {
    "name": "ipython",
    "version": 3
   },
   "file_extension": ".py",
   "mimetype": "text/x-python",
   "name": "python",
   "nbconvert_exporter": "python",
   "pygments_lexer": "ipython3",
   "version": "3.11.7"
  }
 },
 "nbformat": 4,
 "nbformat_minor": 5
}
