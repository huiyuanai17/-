{
 "cells": [
  {
   "cell_type": "markdown",
   "id": "5a1d1299",
   "metadata": {},
   "source": [
    "# 第二章 变量与简单的数据类型"
   ]
  },
  {
   "cell_type": "markdown",
   "id": "5612675a",
   "metadata": {},
   "source": [
    "## 2.3 字符串\n",
    "此部分开始介绍字符串（string）相关问题"
   ]
  },
  {
   "cell_type": "code",
   "execution_count": 1,
   "id": "3b5e68aa",
   "metadata": {},
   "outputs": [
    {
     "name": "stdout",
     "output_type": "stream",
     "text": [
      "Python\n",
      "\tPython\n"
     ]
    }
   ],
   "source": [
    "#2.3.3 使用制表符或换行符来添加空白\n",
    "#添加制表符\n",
    "print('Python')\n",
    "print('\\tPython')"
   ]
  },
  {
   "cell_type": "code",
   "execution_count": 5,
   "id": "c3fbd38c",
   "metadata": {},
   "outputs": [
    {
     "name": "stdout",
     "output_type": "stream",
     "text": [
      "Python\n",
      "Rust\n"
     ]
    }
   ],
   "source": [
    "#添加换行符\n",
    "print('Python\\nRust')"
   ]
  },
  {
   "cell_type": "code",
   "execution_count": 6,
   "id": "1d2ab844",
   "metadata": {
    "scrolled": true
   },
   "outputs": [
    {
     "data": {
      "text/plain": [
       "'python'"
      ]
     },
     "execution_count": 6,
     "metadata": {},
     "output_type": "execute_result"
    }
   ],
   "source": [
    "#2.3.4字符串：删除空白\n",
    "favorite_language=\"python \"\n",
    "favorite_language.rstrip()#这种删除只是暂时的"
   ]
  },
  {
   "cell_type": "code",
   "execution_count": 7,
   "id": "c4ce28f2",
   "metadata": {},
   "outputs": [
    {
     "data": {
      "text/plain": [
       "'python'"
      ]
     },
     "execution_count": 7,
     "metadata": {},
     "output_type": "execute_result"
    }
   ],
   "source": [
    "favorite_language=\"python \"\n",
    "favorite_language=favorite_language.rstrip()\n",
    "favorite_language"
   ]
  },
  {
   "cell_type": "code",
   "execution_count": 9,
   "id": "5952b645",
   "metadata": {},
   "outputs": [
    {
     "data": {
      "text/plain": [
       "'python '"
      ]
     },
     "execution_count": 9,
     "metadata": {},
     "output_type": "execute_result"
    }
   ],
   "source": [
    "favorite_language=\" python \"\n",
    "favorite_language.lstrip()"
   ]
  },
  {
   "cell_type": "code",
   "execution_count": 10,
   "id": "39f0d4ee",
   "metadata": {},
   "outputs": [
    {
     "data": {
      "text/plain": [
       "'python'"
      ]
     },
     "execution_count": 10,
     "metadata": {},
     "output_type": "execute_result"
    }
   ],
   "source": [
    "favorite_language=\" python \"\n",
    "favorite_language.strip()"
   ]
  },
  {
   "cell_type": "code",
   "execution_count": 11,
   "id": "4d8351f1",
   "metadata": {},
   "outputs": [
    {
     "name": "stdout",
     "output_type": "stream",
     "text": [
      "www.ituring.com.cn\n"
     ]
    }
   ],
   "source": [
    "#2.3.5 删除前缀\n",
    "url=\"https://www.ituring.com.cn\"\n",
    "url=url.removeprefix('https://')\n",
    "print(url)"
   ]
  },
  {
   "cell_type": "code",
   "execution_count": 16,
   "id": "8de5a4ef",
   "metadata": {},
   "outputs": [],
   "source": [
    "#字符串的简单拼接\n"
   ]
  },
  {
   "cell_type": "markdown",
   "id": "4e6144d4",
   "metadata": {},
   "source": [
    "## 2.4 数"
   ]
  },
  {
   "cell_type": "code",
   "execution_count": 17,
   "id": "9cf8c840",
   "metadata": {},
   "outputs": [
    {
     "name": "stdout",
     "output_type": "stream",
     "text": [
      "6\n"
     ]
    }
   ],
   "source": [
    "print(3+3)"
   ]
  },
  {
   "cell_type": "code",
   "execution_count": 18,
   "id": "39ff9fa2",
   "metadata": {},
   "outputs": [
    {
     "name": "stdout",
     "output_type": "stream",
     "text": [
      "2.25\n"
     ]
    }
   ],
   "source": [
    "print(1.5*1.5)"
   ]
  },
  {
   "cell_type": "code",
   "execution_count": 19,
   "id": "3fac4c56",
   "metadata": {},
   "outputs": [
    {
     "name": "stdout",
     "output_type": "stream",
     "text": [
      "1.0\n"
     ]
    }
   ],
   "source": [
    "print(2.5//2)"
   ]
  },
  {
   "cell_type": "code",
   "execution_count": 20,
   "id": "c887fb7d",
   "metadata": {},
   "outputs": [],
   "source": [
    "x,y,z=0,0,0"
   ]
  },
  {
   "cell_type": "code",
   "execution_count": null,
   "id": "4edcd412",
   "metadata": {},
   "outputs": [],
   "source": [
    "MAX_CONNECTIONS=5000  #不要在程序中修改任何常量"
   ]
  },
  {
   "cell_type": "code",
   "execution_count": 21,
   "id": "142ca66e",
   "metadata": {},
   "outputs": [
    {
     "name": "stdout",
     "output_type": "stream",
     "text": [
      "True\n",
      "False\n"
     ]
    }
   ],
   "source": [
    "#补充 布尔值 用于表示逻辑真或假\n",
    "print(True)\n",
    "print(False)"
   ]
  }
 ],
 "metadata": {
  "kernelspec": {
   "display_name": "Python 3 (ipykernel)",
   "language": "python",
   "name": "python3"
  },
  "language_info": {
   "codemirror_mode": {
    "name": "ipython",
    "version": 3
   },
   "file_extension": ".py",
   "mimetype": "text/x-python",
   "name": "python",
   "nbconvert_exporter": "python",
   "pygments_lexer": "ipython3",
   "version": "3.11.5"
  }
 },
 "nbformat": 4,
 "nbformat_minor": 5
}
